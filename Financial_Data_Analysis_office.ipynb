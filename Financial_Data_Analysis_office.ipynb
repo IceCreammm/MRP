{
 "cells": [
  {
   "cell_type": "code",
   "execution_count": 1,
   "metadata": {
    "collapsed": true
   },
   "outputs": [],
   "source": [
    "import pandas as pd\n",
    "import matplotlib.pyplot as plt\n",
    "import datetime as dt\n",
    "import numpy as np\n",
    "import gzip, cPickle\n",
    "import pickle"
   ]
  },
  {
   "cell_type": "code",
   "execution_count": 3,
   "metadata": {
    "collapsed": true
   },
   "outputs": [],
   "source": [
    "stock_data_adj_close = pd.read_excel('all_the_data.xlsx')"
   ]
  },
  {
   "cell_type": "code",
   "execution_count": null,
   "metadata": {
    "collapsed": true
   },
   "outputs": [],
   "source": []
  },
  {
   "cell_type": "code",
   "execution_count": null,
   "metadata": {
    "collapsed": true
   },
   "outputs": [],
   "source": [
    "stock_data_adj_close.head()"
   ]
  },
  {
   "cell_type": "code",
   "execution_count": null,
   "metadata": {
    "collapsed": true
   },
   "outputs": [],
   "source": [
    "etf_data_adj_close = pd.read_excel('etf_data.xlsx')"
   ]
  },
  {
   "cell_type": "code",
   "execution_count": 16,
   "metadata": {},
   "outputs": [
    {
     "data": {
      "text/html": [
       "<div>\n",
       "<table border=\"1\" class=\"dataframe\">\n",
       "  <thead>\n",
       "    <tr style=\"text-align: right;\">\n",
       "      <th></th>\n",
       "      <th>Date</th>\n",
       "      <th>AGG</th>\n",
       "      <th>BND</th>\n",
       "      <th>DIA</th>\n",
       "      <th>IJH</th>\n",
       "      <th>IJR</th>\n",
       "      <th>IVV</th>\n",
       "      <th>IVW</th>\n",
       "      <th>IWD</th>\n",
       "      <th>IWF</th>\n",
       "      <th>...</th>\n",
       "      <th>QQQ</th>\n",
       "      <th>SPY</th>\n",
       "      <th>VB</th>\n",
       "      <th>VNQ</th>\n",
       "      <th>VO</th>\n",
       "      <th>VOO</th>\n",
       "      <th>VTI</th>\n",
       "      <th>VTV</th>\n",
       "      <th>VUG</th>\n",
       "      <th>XLF</th>\n",
       "    </tr>\n",
       "  </thead>\n",
       "  <tbody>\n",
       "    <tr>\n",
       "      <th>0</th>\n",
       "      <td>2000-01-03</td>\n",
       "      <td>NaN</td>\n",
       "      <td>NaN</td>\n",
       "      <td>75.598282</td>\n",
       "      <td>NaN</td>\n",
       "      <td>NaN</td>\n",
       "      <td>NaN</td>\n",
       "      <td>NaN</td>\n",
       "      <td>NaN</td>\n",
       "      <td>NaN</td>\n",
       "      <td>...</td>\n",
       "      <td>84.326424</td>\n",
       "      <td>103.807343</td>\n",
       "      <td>NaN</td>\n",
       "      <td>NaN</td>\n",
       "      <td>NaN</td>\n",
       "      <td>NaN</td>\n",
       "      <td>NaN</td>\n",
       "      <td>NaN</td>\n",
       "      <td>NaN</td>\n",
       "      <td>9.962534</td>\n",
       "    </tr>\n",
       "    <tr>\n",
       "      <th>1</th>\n",
       "      <td>2000-01-04</td>\n",
       "      <td>NaN</td>\n",
       "      <td>NaN</td>\n",
       "      <td>73.110947</td>\n",
       "      <td>NaN</td>\n",
       "      <td>NaN</td>\n",
       "      <td>NaN</td>\n",
       "      <td>NaN</td>\n",
       "      <td>NaN</td>\n",
       "      <td>NaN</td>\n",
       "      <td>...</td>\n",
       "      <td>78.541489</td>\n",
       "      <td>99.747833</td>\n",
       "      <td>NaN</td>\n",
       "      <td>NaN</td>\n",
       "      <td>NaN</td>\n",
       "      <td>NaN</td>\n",
       "      <td>NaN</td>\n",
       "      <td>NaN</td>\n",
       "      <td>NaN</td>\n",
       "      <td>9.527010</td>\n",
       "    </tr>\n",
       "    <tr>\n",
       "      <th>2</th>\n",
       "      <td>2000-01-05</td>\n",
       "      <td>NaN</td>\n",
       "      <td>NaN</td>\n",
       "      <td>74.057983</td>\n",
       "      <td>NaN</td>\n",
       "      <td>NaN</td>\n",
       "      <td>NaN</td>\n",
       "      <td>NaN</td>\n",
       "      <td>NaN</td>\n",
       "      <td>NaN</td>\n",
       "      <td>...</td>\n",
       "      <td>76.539001</td>\n",
       "      <td>99.926254</td>\n",
       "      <td>NaN</td>\n",
       "      <td>NaN</td>\n",
       "      <td>NaN</td>\n",
       "      <td>NaN</td>\n",
       "      <td>NaN</td>\n",
       "      <td>NaN</td>\n",
       "      <td>NaN</td>\n",
       "      <td>9.452150</td>\n",
       "    </tr>\n",
       "    <tr>\n",
       "      <th>3</th>\n",
       "      <td>2000-01-06</td>\n",
       "      <td>NaN</td>\n",
       "      <td>NaN</td>\n",
       "      <td>74.432602</td>\n",
       "      <td>NaN</td>\n",
       "      <td>NaN</td>\n",
       "      <td>NaN</td>\n",
       "      <td>NaN</td>\n",
       "      <td>NaN</td>\n",
       "      <td>NaN</td>\n",
       "      <td>...</td>\n",
       "      <td>71.282539</td>\n",
       "      <td>98.320305</td>\n",
       "      <td>NaN</td>\n",
       "      <td>NaN</td>\n",
       "      <td>NaN</td>\n",
       "      <td>NaN</td>\n",
       "      <td>NaN</td>\n",
       "      <td>NaN</td>\n",
       "      <td>NaN</td>\n",
       "      <td>9.867239</td>\n",
       "    </tr>\n",
       "    <tr>\n",
       "      <th>4</th>\n",
       "      <td>2000-01-07</td>\n",
       "      <td>NaN</td>\n",
       "      <td>NaN</td>\n",
       "      <td>76.930359</td>\n",
       "      <td>NaN</td>\n",
       "      <td>NaN</td>\n",
       "      <td>NaN</td>\n",
       "      <td>NaN</td>\n",
       "      <td>NaN</td>\n",
       "      <td>NaN</td>\n",
       "      <td>...</td>\n",
       "      <td>80.098961</td>\n",
       "      <td>104.030365</td>\n",
       "      <td>NaN</td>\n",
       "      <td>NaN</td>\n",
       "      <td>NaN</td>\n",
       "      <td>NaN</td>\n",
       "      <td>NaN</td>\n",
       "      <td>NaN</td>\n",
       "      <td>NaN</td>\n",
       "      <td>10.030557</td>\n",
       "    </tr>\n",
       "  </tbody>\n",
       "</table>\n",
       "<p>5 rows × 22 columns</p>\n",
       "</div>"
      ],
      "text/plain": [
       "        Date  AGG  BND        DIA  IJH  IJR  IVV  IVW  IWD  IWF    ...      \\\n",
       "0 2000-01-03  NaN  NaN  75.598282  NaN  NaN  NaN  NaN  NaN  NaN    ...       \n",
       "1 2000-01-04  NaN  NaN  73.110947  NaN  NaN  NaN  NaN  NaN  NaN    ...       \n",
       "2 2000-01-05  NaN  NaN  74.057983  NaN  NaN  NaN  NaN  NaN  NaN    ...       \n",
       "3 2000-01-06  NaN  NaN  74.432602  NaN  NaN  NaN  NaN  NaN  NaN    ...       \n",
       "4 2000-01-07  NaN  NaN  76.930359  NaN  NaN  NaN  NaN  NaN  NaN    ...       \n",
       "\n",
       "         QQQ         SPY  VB  VNQ  VO  VOO  VTI  VTV  VUG        XLF  \n",
       "0  84.326424  103.807343 NaN  NaN NaN  NaN  NaN  NaN  NaN   9.962534  \n",
       "1  78.541489   99.747833 NaN  NaN NaN  NaN  NaN  NaN  NaN   9.527010  \n",
       "2  76.539001   99.926254 NaN  NaN NaN  NaN  NaN  NaN  NaN   9.452150  \n",
       "3  71.282539   98.320305 NaN  NaN NaN  NaN  NaN  NaN  NaN   9.867239  \n",
       "4  80.098961  104.030365 NaN  NaN NaN  NaN  NaN  NaN  NaN  10.030557  \n",
       "\n",
       "[5 rows x 22 columns]"
      ]
     },
     "execution_count": 16,
     "metadata": {},
     "output_type": "execute_result"
    }
   ],
   "source": [
    "etf_data_adj_close.head()"
   ]
  },
  {
   "cell_type": "code",
   "execution_count": null,
   "metadata": {
    "collapsed": true
   },
   "outputs": [],
   "source": [
    "# this is the adjusted price for apple, microsoft, DJIA, S&P500 \n",
    "apple_msft_dji_sp = stock_data_adj_close[['AAPL','MSFT','^DJI','^GSPC']]  \n",
    "apple_msft_dji_sp.index = stock_data_adj_close['Date']"
   ]
  },
  {
   "cell_type": "code",
   "execution_count": null,
   "metadata": {
    "collapsed": true
   },
   "outputs": [],
   "source": [
    "apple_msft_dji_sp.tail()"
   ]
  },
  {
   "cell_type": "code",
   "execution_count": null,
   "metadata": {
    "collapsed": true
   },
   "outputs": [],
   "source": [
    "tickers = ['^GSPC','^DJI','AA','BAC','HPQ', 'MMM', 'AXP','AAPL','BA','CAT','CVX','CSCO','KO','DWDP','XOM','GE','GS','HD','IBM','INTC','JNJ','JPM',\n",
    "          'MCD','MRK','MSFT','NKE','PFE','PG','TRV','UNH','UTX','VZ','V','WMT','DIS']"
   ]
  },
  {
   "cell_type": "code",
   "execution_count": null,
   "metadata": {
    "collapsed": true
   },
   "outputs": [],
   "source": [
    "stock_data_adj_close.index = stock_data_adj_close['Date']"
   ]
  },
  {
   "cell_type": "code",
   "execution_count": null,
   "metadata": {
    "collapsed": true
   },
   "outputs": [],
   "source": [
    "for i in tickers:\n",
    "    stock_data_adj_close[[i]].plot(figsize=(13, 8))\n",
    "    plt.show()"
   ]
  },
  {
   "cell_type": "code",
   "execution_count": null,
   "metadata": {
    "collapsed": true
   },
   "outputs": [],
   "source": [
    "etf_data_adj_close.index = etf_data_adj_close['Date']"
   ]
  },
  {
   "cell_type": "code",
   "execution_count": null,
   "metadata": {
    "collapsed": true
   },
   "outputs": [],
   "source": [
    "etf_tickers = ['SPY','IVV','VTI','VOO','QQQ','AGG','IJH','IWM','IWF','BND','IWD','VTV','IJR','LQD','XLF','VUG','VNQ','DIA','VO','VB','IVW']\n",
    "for i in etf_tickers:\n",
    "    etf_data_adj_close[[i]].plot(figsize=(13, 8))\n",
    "    plt.show()"
   ]
  },
  {
   "cell_type": "code",
   "execution_count": null,
   "metadata": {
    "collapsed": true
   },
   "outputs": [],
   "source": [
    "apple_msft_dji_sp[['^GSPC']].plot(figsize=(13, 8))\n",
    "plt.show()"
   ]
  },
  {
   "cell_type": "code",
   "execution_count": null,
   "metadata": {
    "collapsed": true
   },
   "outputs": [],
   "source": [
    "apple_msft_dji_sp[['^DJI']].plot(figsize=(13, 8))\n",
    "plt.show()"
   ]
  },
  {
   "cell_type": "code",
   "execution_count": null,
   "metadata": {
    "collapsed": true
   },
   "outputs": [],
   "source": []
  },
  {
   "cell_type": "code",
   "execution_count": 1,
   "metadata": {},
   "outputs": [
    {
     "name": "stdout",
     "output_type": "stream",
     "text": [
      "    Market_Cap                  sector\n",
      "0         5.59  Consumer Discretionary\n",
      "1         3.58        Consumer Staples\n",
      "2         1.24               Utilities\n",
      "3         9.04              Technology\n",
      "4         4.96             Health Care\n",
      "5         7.67               Financial\n",
      "6         3.69                  Energy\n",
      "7         1.69                 Telecom\n",
      "8         4.21             Industrials\n",
      "9         2.14                Material\n",
      "10        1.13             Real Estate\n"
     ]
    },
    {
     "data": {
      "image/png": "[encoded data removed]",
      "text/plain": [
       "<matplotlib.figure.Figure at 0xd5db048>"
      ]
     },
     "metadata": {},
     "output_type": "display_data"
    }
   ],
   "source": [
    "import pandas as pd\n",
    "import matplotlib.pyplot as plt\n",
    "\n",
    "sector_dir = {'sector':['Consumer Discretionary', 'Consumer Staples', 'Utilities', \n",
    "                        'Technology', 'Health Care', 'Financial', 'Energy' , 'Telecom', \n",
    "                        'Industrials', 'Material', 'Real Estate'],'Market_Cap':[5.59, 3.58, 1.24, 9.04, 4.96, 7.67, \n",
    "                                                                3.69, 1.69,4.21, 2.14, 1.13]}\n",
    "sector_importance = pd.DataFrame(data=sector_dir)\n",
    "\n",
    "\n",
    "print(sector_importance)\n",
    "\n",
    "sector_importance['weight'] = sector_importance['Market_Cap']/sector_importance['Market_Cap'].sum()\n",
    "\n",
    "sector_importance = sector_importance.sort_values(by='weight', ascending=False)\n",
    "sector_importance.plot(x= 'sector' , y= 'weight' , kind='bar')\n",
    "\n",
    "plt.show()"
   ]
  },
  {
   "cell_type": "code",
   "execution_count": null,
   "metadata": {
    "collapsed": true
   },
   "outputs": [],
   "source": []
  },
  {
   "cell_type": "code",
   "execution_count": null,
   "metadata": {
    "collapsed": true
   },
   "outputs": [],
   "source": []
  },
  {
   "cell_type": "code",
   "execution_count": null,
   "metadata": {
    "collapsed": true
   },
   "outputs": [],
   "source": []
  },
  {
   "cell_type": "code",
   "execution_count": null,
   "metadata": {
    "collapsed": true
   },
   "outputs": [],
   "source": []
  },
  {
   "cell_type": "code",
   "execution_count": null,
   "metadata": {
    "collapsed": true
   },
   "outputs": [],
   "source": []
  },
  {
   "cell_type": "code",
   "execution_count": null,
   "metadata": {
    "collapsed": true
   },
   "outputs": [],
   "source": []
  }
 ],
 "metadata": {
  "kernelspec": {
   "display_name": "Python 2",
   "language": "python",
   "name": "python2"
  },
  "language_info": {
   "codemirror_mode": {
    "name": "ipython",
    "version": 2
   },
   "file_extension": ".py",
   "mimetype": "text/x-python",
   "name": "python",
   "nbconvert_exporter": "python",
   "pygments_lexer": "ipython2",
   "version": "2.7.14"
  }
 },
 "nbformat": 4,
 "nbformat_minor": 1
}
