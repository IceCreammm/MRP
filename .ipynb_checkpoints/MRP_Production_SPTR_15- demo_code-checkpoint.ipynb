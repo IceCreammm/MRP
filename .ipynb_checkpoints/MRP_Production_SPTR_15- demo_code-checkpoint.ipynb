{
 "cells": [
  {
   "cell_type": "code",
   "execution_count": null,
   "metadata": {},
   "outputs": [],
   "source": [
    "import pandas_datareader.data as web\n",
    "import pandas as pd\n",
    "import matplotlib.pyplot as plt\n",
    "import datetime as dt\n",
    "import numpy as np\n",
    "import gzip, cPickle\n",
    "from tqdm import tqdm \n",
    "\n",
    "from scipy import stats\n",
    "import statsmodels.api as sm\n",
    "import statsmodels.tsa as tsa \n",
    "from statsmodels.tsa.stattools import coint\n",
    "\n",
    "from statsmodels.formula.api import ols\n",
    "import statsmodels.formula.api as smf\n",
    "from sklearn.linear_model import LinearRegression\n",
    "from sklearn.linear_model import Lasso\n",
    "from sklearn.linear_model import LassoLars\n",
    "from statsmodels.tsa.stattools import adfuller as ADF\n",
    "from sklearn.decomposition import PCA\n",
    "from sklearn.metrics import r2_score\n",
    "from sklearn.metrics import mean_squared_error\n",
    "from itertools import combinations\n",
    "from tqdm import tqdm\n",
    "import pickle\n",
    "from datetime import datetime as dt\n",
    "import math"
   ]
  },
  {
   "cell_type": "markdown",
   "metadata": {},
   "source": [
    "## This step is to download and load all the ETF data"
   ]
  },
  {
   "cell_type": "code",
   "execution_count": null,
   "metadata": {
    "collapsed": true
   },
   "outputs": [],
   "source": [
    "\n",
    "tickers = '''XLK,VGT,IYW,RYT,IGM,XLF,VFH,KBE,IYF,RYF,XLY,VCR,IYC,XRT,RCD,XLV,\n",
    "IBB,VHT,IYH,RYH,XLI,VIS,IYJ,RGI,UXI,XLE,VDE,IYE,RYE,FXN,XLP,VDC,IYK,RHS,FXG,\n",
    "XLB,VAW,IYM,RTM,XME,VOX,IXP,IYZ,IGN,XLU,VPU,IDU,RYU,PUI,VNQ,\n",
    "IYR,RWR,FRI,USRT'''.split(',')\n",
    "\n",
    "\n",
    "X = pd.DataFrame()\n",
    "start_date = '2008-01-01'\n",
    "end_date = '2018-01-31'\n",
    "data_source = 'yahoo'\n",
    "# User pandas_reader.data.DataReader to load the desired data.\n",
    "for i in tickers:\n",
    "    print i\n",
    "    etf_data= web.DataReader(i, data_source, start_date, end_date)\n",
    "    new_col = etf_data[['Adj Close']]\n",
    "    new_col.columns = [i]\n",
    "    X =  pd.concat([X, new_col], axis=1)\n",
    "    \n",
    "with gzip.open('ETFs_GSPC_MRP_Production.pkl.gz','w') as f:\n",
    "    cPickle.dump(X,f)\n",
    "\n",
    "ETFs_GSPC = X.copy()    \n",
    "    \n",
    "All_ETFs = ETFs_GSPC.iloc[:, :-1]\n",
    "\n",
    "\n",
    "All_ETFs = pickle.load(open(\"MPP_ETFs_Production.p\", \"r\"))\n",
    "\n",
    "with gzip.open('ETFs_GSPC_MRP_Production.pkl.gz','r') as f:\n",
    "    ETFs_GSPC = cPickle.load(f)\n",
    "\n",
    "All_ETFs = ETFs_GSPC.iloc[:, :-1]\n",
    "\n",
    "All_ETFs.head(2)\n",
    "\n",
    "All_ETFs_log = All_ETFs.apply(np.log)\n",
    "\n",
    "All_ETFs_log .drop(['RYF','FTXO','PNQI', 'JHMC','PSCH','PSCI','PSCC',\n",
    "                           'XNTK','PSCM','XTL','REM','RYF','XME'], \n",
    "                   axis=1, inplace=True) # 51Z ETFs left\n",
    "\n",
    "All_ETFs_log.columns\n",
    "\n",
    "len(All_ETFs_log.columns)\n",
    "\n",
    "All_ETFs_log.shape\n",
    "\n",
    "# SPTR\n",
    "\n",
    "# pickle.dump(ETFs_GSPC, open(\"ETFs_GSPC_MRP_Production.p\", \"w\"))\n",
    "with gzip.open('sptr.pkl.gz','r') as f:\n",
    "    SPTR = cPickle.load(f)\n",
    "\n",
    "SPTR_log = np.log(SPTR[['Adj Close']].copy())\n",
    "SPTR_log.head()\n",
    "\n",
    "SPTR_log_train = SPTR_log.loc[\"2008-01\": \"2013-12-31\"].copy()\n",
    "SPTR_log_test = SPTR_log.loc[\"2014-01-01\": \"2017-12-31\"].copy()\n",
    "\n",
    "SPTR_log_test['Daily_Return'] = SPTR_log_test['Adj Close'].diff()\n",
    "SPTR_log_test['Daily_Return'][0] = 0\n",
    "SPTR_log_test['Cumsum Daily_Return'] = SPTR_log_test['Daily_Return'].cumsum()\n",
    "\n",
    "j = 0\n",
    "for i in All_ETFs_log.columns:\n",
    "    etf = All_ETFs_log[[i]].dropna(axis=0,how = 'any')\n",
    "    print i\n",
    "    print ADF(etf.values.flatten())\n",
    "    etf = etf.diff(1).dropna() \n",
    "    print '\\n'\n",
    "    print ADF(etf.values.flatten()) \n",
    "    print '\\n\\n'\n",
    "\n",
    "\n",
    "## Lasso Alpha finding \n",
    "\n",
    "%%time\n",
    "j = 0\n",
    "m = 0\n",
    "\n",
    "stationary_alpha = []\n",
    "\n",
    "SPTR_log_train = SPTR_log.loc[\"2008-01\": \"2014-12-31\"].copy()\n",
    "All_ETFs_log_train = All_ETFs_log.loc[\"2008-01\": \"2014-12-31\"].copy()\n",
    "\n",
    "for i in tqdm(np.arange(0.000841, 0.021, 0.00001)):\n",
    "    m+=1\n",
    "    LR_lasso = Lasso(alpha=i, fit_intercept=True,normalize=None,\n",
    "                     positive=True,random_state=123)\n",
    "    LR_lasso.fit(All_ETFs_log_train,SPTR_log_train)\n",
    "    LR_lasso_residual = SPTR_log_train.values.flatten()\n",
    "    - LR_lasso.predict(All_ETFs_log_train)\n",
    "    if check_for_stationarity_no_print(LR_lasso_residual.flatten(),cutoff=0.05):\n",
    "        j+= 1\n",
    "        stationary_alpha.append(LR_lasso.alpha)\n",
    "        positive_number = sum(LR_lasso.coef_>0)\n",
    "        negative_number = sum(LR_lasso.coef_<0)    \n",
    "        print 'we get the right alpha'\n",
    "        print '\\nthe alpha in LASSO is %s and \n",
    "                the P-value for ADF is %s'%(i, ADF(LR_lasso_residual.flatten())[1])\n",
    "        print 'with in all coefficients, there are %s ETFs are positive'\n",
    "                                            %(positive_number)\n",
    "        print 'with in all coefficients, there are %s ETFs are negative'\n",
    "                                                %(negative_number)\n",
    "    \n",
    "\n",
    "        \n",
    "print '\\n\\ntotal %s LR models are stationary'%(j)\n",
    "print 'total we tested %s models'%(m)\n",
    "\n",
    "LR_lasso = Lasso(alpha= 9.13e-05, fit_intercept=True,normalize=None, random_state=123)\n",
    "LR_lasso.fit(All_ETFs_log_train,SPTR_log_train)\n",
    "LR_lasso_residual = SPTR_log_train.values.flatten() - LR_lasso.predict(All_ETFs_log_train)\n",
    "\n",
    "\n",
    "def alpha_finding(X=All_ETFs_log_train, Y=SPTR_log_train, pos_no = 15):\n",
    "    for i in np.arange(0.000001, 0.000611, 0.000001):\n",
    "        LR_lasso = Lasso(alpha=i, \n",
    "                         fit_intercept=True,normalize=None,positive=True, random_state=123)\n",
    "        #LR_lasso = Lasso(alpha=i, fit_intercept=True,normalize=None, random_state=123)\n",
    "        LR_lasso.fit(X,Y)\n",
    "        LR_lasso_residual = Y.values.flatten() - LR_lasso.predict(X)\n",
    "        if check_for_stationarity_no_print(LR_lasso_residual.flatten(),cutoff=0.05):\n",
    "            positive_number = sum(LR_lasso.coef_>0)\n",
    "            negative_number = sum(LR_lasso.coef_<0)\n",
    "            if (positive_number == pos_no and negative_number == 0):\n",
    "                print 'we get the right alpha'\n",
    "                print 'the alpha in LASSO is %s and the P-value for ADF is %s'\n",
    "                            %(i, ADF(LR_lasso_residual.flatten())[1])\n",
    "                print 'with in all coefficients, there are %s ETFs are positive'\n",
    "                                                    %(positive_number)\n",
    "                print 'with in all coefficients, there are %s ETFs are negative'\n",
    "                                        %(negative_number)\n",
    "                break\n",
    "\n",
    "    return round(i,8) \n",
    "\n",
    "SPTR_log_train = SPTR_log.loc[\"2008-01\": \"2013-12-31\"].copy()\n",
    "All_ETFs_log_train = All_ETFs_log.loc[\"2008-01\": \"2013-12-31\"].copy()\n",
    "\n",
    "alpha_finding(X=All_ETFs_log_train, Y= SPTR_log_train, pos_no=6 )\n",
    "\n",
    "## SPTR no balance\n",
    "\n",
    "def SPTR_no_balance(alpha_input = 0.000001):  \n",
    "    SPTR_log_train = SPTR_log.loc[\"2008-01\": \"2013-12-31\"].copy()\n",
    "\n",
    "    All_ETFs_log_train = All_ETFs_log.loc[\"2008-01\": \"2013-12-31\"].copy()\n",
    "\n",
    "    portfolio_test = pd.DataFrame(0,columns=['portf_forest','portfolio_test_intercept'] \n",
    "                                  ,index=SPTR_log.loc['2014':'2017'].index) \n",
    "    # this is to store the test data from ETFs\n",
    "\n",
    "    LR_lasso_year = Lasso(alpha=alpha_input, fit_intercept=True,\n",
    "                          normalize=None,positive=True,random_state=123)\n",
    "\n",
    "    LR_lasso_year.fit(All_ETFs_log_train,SPTR_log_train[['Adj Close']])\n",
    "    print('\\n\\n ')\n",
    "    print('for LASSO alpha',LR_lasso_year.alpha)\n",
    "    print('original coeff greater than 0 is ',np.sum(LR_lasso_year.coef_ > 0 ))\n",
    "    print('original coeff leass than 0 is ' ,np.sum(LR_lasso_year.coef_ < 0 ))\n",
    "    #print('original coeff equal to 0 is ',np.sum(LR_lasso_year.coef_ == 0) )\n",
    "    print('we select ETFs tickers are', All_ETFs_log_train.columns[LR_lasso_year.coef_>0])\n",
    "\n",
    "    index_of_etfs = LR_lasso_year.coef_ > 0 \n",
    "    # these etfs are our portfolio etfs, we need those to build the portfolio,and to rebalance\n",
    "\n",
    "    All_ETFs_log_year = All_ETFs_log.loc[: , index_of_etfs] .copy() \n",
    "    # this contains all the etfs we used to build portfolio\n",
    "\n",
    "    coefficients= LR_lasso_year.coef_.copy()\n",
    "\n",
    "    nonzero_coeff  = coefficients[~(coefficients==0)].copy()\n",
    "\n",
    "    nonzero_coeff = nonzero_coeff/nonzero_coeff.sum()\n",
    "\n",
    "    portfolio_test['portf_forest'] = All_ETFs_log_year.dot(nonzero_coeff).copy()\n",
    "\n",
    "    portfolio_test['portfolio_test_intercept'] = portfolio_test['portf_forest']\n",
    "                                                    +LR_lasso_year.intercept_\n",
    "\n",
    "\n",
    "    plt.figure(figsize=(25,8))\n",
    "    plt.plot(SPTR_log_test.index,SPTR_log_test['Adj Close'], 'r-', label='Real data' )\n",
    "    plt.plot(SPTR_log_test.index,portfolio_test['portfolio_test_intercept']\n",
    "             .loc[\"2014-01-01\": \"2017-12-31\"], 'g-', label='No balance Portfolio' )\n",
    "    \n",
    "    plt.legend(loc='upper left')\n",
    "    \n",
    "    plt.title('Comparison between real S&P500 and portfolio constructed on test data')\n",
    "    plt.show()\n",
    "\n",
    "    portfolio_test['Daily_Return'] = portfolio_test['portf_forest'].diff()\n",
    "    portfolio_test['Daily_Return'][0] = 0\n",
    "    portfolio_test['Cumsum Daily_Return'] = portfolio_test['Daily_Return'].cumsum()\n",
    "\n",
    "    portfolio_test['Daily_Return'].plot(kind='line',figsize=(20,5),\n",
    "                                        label = 'annual rebalance portfolio cumsum return',style='r-')\n",
    "    SPTR_log_test['Daily_Return'].loc[\"2014-01-01\": \"2017-12-31\"].plot(kind='line',\n",
    "                                            figsize=(20,5),label = 'SPTR cumsum return',style='g-')\n",
    "    \n",
    "    plt.legend(loc='upper left')\n",
    "    plt.xticks( pd.date_range(start='2014-1-01', end='2018-01-01', freq = 'M'))\n",
    "    plt.title('Cumsum Return SPTR and Portfolio')\n",
    "    plt.show()\n",
    "    \n",
    "    plt.figure(figsize=(25,8))\n",
    "    plt.title('Cumsum daily return') \n",
    "    plt.plot(SPTR_log_test.index,SPTR_log_test['Cumsum Daily_Return'], 'r-', label='Real data' )\n",
    "    plt.plot(SPTR_log_test.index,portfolio_test['Cumsum Daily_Return'].\n",
    "                         loc[\"2014-01-01\": \"2017-12-31\"], 'g-', label='No balance Portfolio' )\n",
    "    plt.legend(loc='upper left')\n",
    "    plt.show()\n",
    "\n",
    "    Track_error_annual = portfolio_test['Daily_Return'] - SPTR_log_test['Daily_Return']\n",
    "    \n",
    "    #print('Sum of Tracking error is %.8f') %(np.sum(np.absolute(Track_error_annual)))\n",
    "    print('Mean of Tracking Error is %.8f') %(np.mean(Track_error_annual))\n",
    "\n",
    "    print('Tracking Error std is %.8f') %(np.std(Track_error_annual))\n",
    "     \n",
    "   # print('Sum of square Tracking Error is %.8f') %(np.sum(Track_error_annual**2)) \n",
    "# this is the sum of square of tracking error\n",
    "\n",
    "    print('Information ratio of the annual portfolio is %.3f')\n",
    "                %(np.mean(Track_error_annual)/np.std(Track_error_annual))\n",
    "\n",
    "    print('Annual Correlation coefficient between portfolio and SPTR is %.6f')%(\n",
    "        np.corrcoef(SPTR_log_test['Daily_Return'].values.flatten(),\n",
    "                    portfolio_test['Daily_Return'].values.flatten())[0,1])\n",
    "    \n",
    "    return portfolio_test\n",
    "\n",
    "portfolio_test_nobalance_15 =  SPTR_no_balance(alpha_input = 0.000101)\n",
    "\n",
    "portfolio_test_nobalance_15.head(2)\n",
    "\n",
    "plt.figure(figsize=(25,8))\n",
    "plt.plot(SPTR_log_test.index,SPTR_log_test['Adj Close'], 'r-', label='SPTR' )\n",
    "plt.plot(SPTR_log_test.index,portfolio_test_nobalance_15['portfolio_test_intercept'].\n",
    "         loc[\"2014-01-01\": \"2017-12-31\"], 'g-', label='No balance Portfolio' )\n",
    "plt.legend(loc='upper left')\n",
    "plt.title('Comparison between SPTR and 15 ETFs portfolio no rebalance')\n",
    "plt.show()\n",
    "\n",
    "plt.figure(figsize=(25,8))\n",
    "portfolio_test_nobalance_15['Daily_Return'].plot(kind='line',figsize=(20,5),\n",
    "                                                 label = 'No balance Daily Return',style='r-')\n",
    "SPTR_log_test['Daily_Return'].loc[\"2014-01-01\": \"2017-12-31\"].plot(kind='line',\n",
    "                                        figsize=(20,5),label = 'SPTR Daily return',style='g-')\n",
    "plt.legend(loc='upper left')\n",
    "plt.xticks( pd.date_range(start='2014-1-01', end='2018-01-01', freq = 'M'))\n",
    "plt.title('Comparison of Daily Returns between SPTR and 15 ETFs portfolio no rebalance')\n",
    "plt.show()\n",
    "\n",
    "plt.figure(figsize=(25,8))\n",
    "plt.plot(SPTR_log_test.index,SPTR_log_test['Cumsum Daily_Return'], 'r-', label='SPTR' )\n",
    "plt.plot(SPTR_log_test.index,portfolio_test_nobalance_15['Cumsum Daily_Return'].\n",
    "         loc[\"2014-01-01\": \"2017-12-31\"], 'g-', label='No balance Cumsum Return' )\n",
    "plt.legend(loc='upper left')\n",
    "plt.title('Comparison of Cumsum Returns between SPTR and 15 ETFs portfolio no rebalance')\n",
    "plt.show()\n",
    "\n",
    "SPTR_log_train = SPTR_log.loc[\"2008-01\": \"2013-12-31\"].copy()\n",
    "\n",
    "All_ETFs_log_train = All_ETFs_log.loc[\"2008-01\": \"2013-12-31\"].copy()\n",
    "\n",
    "LR_lasso_year = Lasso(alpha=0.001571, fit_intercept=True,normalize=None,positive=True,random_state=123)\n",
    "\n",
    "LR_lasso_year.fit(All_ETFs_log_train,SPTR_log_train[['Adj Close']])\n",
    "print('\\n\\n ')\n",
    "print('for LASSO alpha',LR_lasso_year.alpha)\n",
    "print('original coeff greater than 0 is ',np.sum(LR_lasso_year.coef_ > 0 ))\n",
    "print('original coeff leass than 0 is ' ,np.sum(LR_lasso_year.coef_ < 0 ))\n",
    "#print('original coeff equal to 0 is ',np.sum(LR_lasso_year.coef_ == 0) )\n",
    "print('we select ETFs tickers are', All_ETFs_log_train.columns[LR_lasso_year.coef_>0])\n",
    "\n",
    "index_of_etfs = LR_lasso_year.coef_ > 0 # these etfs are our portfolio etfs, \n",
    "#we need those to build the portfolio,and to rebalance\n",
    "\n",
    "All_ETFs_log_year = All_ETFs_log.loc[: , index_of_etfs] .copy()  \n",
    "# this contains all the etfs we used to build portfolio\n",
    "\n",
    "coefficients= LR_lasso_year.coef_.copy()\n"
   ]
  },
  {
   "cell_type": "code",
   "execution_count": null,
   "metadata": {},
   "outputs": [],
   "source": [
    "coefficients"
   ]
  },
  {
   "cell_type": "code",
   "execution_count": null,
   "metadata": {
    "collapsed": true
   },
   "outputs": [],
   "source": [
    "nonzero_coeff  = coefficients[~(coefficients==0)].copy()"
   ]
  },
  {
   "cell_type": "code",
   "execution_count": null,
   "metadata": {},
   "outputs": [],
   "source": [
    "nonzero_coeff"
   ]
  },
  {
   "cell_type": "code",
   "execution_count": null,
   "metadata": {},
   "outputs": [],
   "source": [
    "for i in nonzero_coeff:\n",
    "    print round(i,5)"
   ]
  },
  {
   "cell_type": "code",
   "execution_count": null,
   "metadata": {
    "collapsed": true
   },
   "outputs": [],
   "source": [
    "nonzero_coeff = nonzero_coeff/nonzero_coeff.sum()"
   ]
  },
  {
   "cell_type": "code",
   "execution_count": null,
   "metadata": {
    "scrolled": true
   },
   "outputs": [],
   "source": [
    "for i in nonzero_coeff:\n",
    "    print round(i*100,2)"
   ]
  },
  {
   "cell_type": "code",
   "execution_count": null,
   "metadata": {
    "collapsed": true
   },
   "outputs": [],
   "source": []
  },
  {
   "cell_type": "code",
   "execution_count": null,
   "metadata": {
    "collapsed": true
   },
   "outputs": [],
   "source": []
  },
  {
   "cell_type": "code",
   "execution_count": null,
   "metadata": {
    "collapsed": true
   },
   "outputs": [],
   "source": []
  },
  {
   "cell_type": "code",
   "execution_count": null,
   "metadata": {
    "collapsed": true
   },
   "outputs": [],
   "source": []
  },
  {
   "cell_type": "code",
   "execution_count": null,
   "metadata": {
    "collapsed": true
   },
   "outputs": [],
   "source": []
  },
  {
   "cell_type": "markdown",
   "metadata": {},
   "source": [
    "### SPTR year rebalance"
   ]
  },
  {
   "cell_type": "code",
   "execution_count": null,
   "metadata": {},
   "outputs": [],
   "source": [
    "All_ETFs_log.shape"
   ]
  },
  {
   "cell_type": "code",
   "execution_count": null,
   "metadata": {
    "scrolled": true
   },
   "outputs": [],
   "source": [
    "pd.date_range(start='2014', end='2017', freq='A')"
   ]
  },
  {
   "cell_type": "code",
   "execution_count": null,
   "metadata": {
    "collapsed": true,
    "scrolled": false
   },
   "outputs": [],
   "source": [
    "def SPTR_annual_balance(alpha_input = 0.000001): \n",
    "    SPTR_log_train = SPTR_log.loc[\"2008-01\": \"2013-12-31\"].copy()\n",
    "\n",
    "    All_ETFs_log_train = All_ETFs_log.loc[\"2008-01\": \"2013-12-31\"].copy()\n",
    "\n",
    "    portfolio_test = pd.DataFrame(0,columns=['portf_forest','portfolio_test_intercept'] ,index=SPTR_log.loc['2014':'2017'].index)  # this is to store the test data from ETFs\n",
    "\n",
    "    LR_lasso_year = Lasso(alpha=alpha_input, fit_intercept=True,normalize=None,positive=True,random_state=123)\n",
    "\n",
    "    LR_lasso_year.fit(All_ETFs_log_train,SPTR_log_train[['Adj Close']])\n",
    "\n",
    "    print('original coeff greater than 0 is ',np.sum(LR_lasso_year.coef_ > 0 ))\n",
    "    print('original coeff leass than 0 is ' ,np.sum(LR_lasso_year.coef_ < 0 ))\n",
    "    #print('original coeff equal to 0 is ',np.sum(LR_lasso_year.coef_ == 0) )\n",
    "    print('we select ETFs tickers are', All_ETFs_log_train.columns[LR_lasso_year.coef_>0])\n",
    "\n",
    "    index_of_etfs = LR_lasso_year.coef_ > 0 # these etfs are our portfolio etfs, we need those to build the portfolio,and to rebalance\n",
    "\n",
    "    All_ETFs_log_year = All_ETFs_log.loc[: , index_of_etfs] .copy()  # this contains all the etfs we used to build portfolio\n",
    "\n",
    "    coefficients= LR_lasso_year.coef_.copy()\n",
    "\n",
    "    nonzero_coeff  = coefficients[~(coefficients==0)].copy()\n",
    "\n",
    "    nonzero_coeff = nonzero_coeff/nonzero_coeff.sum()\n",
    "\n",
    "    portfolio_test.loc['2014','portf_forest'] = All_ETFs_log_year.dot(nonzero_coeff).loc['2014'].copy()\n",
    "\n",
    "    portfolio_test.loc['2014','portfolio_test_intercept'] = portfolio_test.loc['2014','portf_forest']+LR_lasso_year.intercept_\n",
    "\n",
    "    j = 1\n",
    "\n",
    "    for i in pd.date_range(start='2014', end='2017', freq='A'):\n",
    "        \n",
    "        All_ETFs_log_train = All_ETFs_log.loc['2008': i].copy()\n",
    "\n",
    "        SPTR_log_train = SPTR_log.loc['2008': i].copy()\n",
    "        print('\\n\\nfor range in 2008 to'+str(i))\n",
    "        new_alpha = alpha_finding(X=All_ETFs_log_train, Y= SPTR_log_train, pos_no = 15)\n",
    "        \n",
    "        Lasso_Model = Lasso(alpha= new_alpha,fit_intercept=True,normalize=None,random_state=123)\n",
    "\n",
    "        Lasso_Model.fit(All_ETFs_log_train,SPTR_log_train[['Adj Close']])\n",
    "\n",
    "#         print('number of coeff greater than 0 is ',np.sum(Lasso_Model.coef_ > 0 ))\n",
    "\n",
    "#         print('number of coeff leass than 0 is ' ,np.sum(Lasso_Model.coef_ < 0 ))\n",
    "\n",
    "#         print('new alpha is ',new_alpha )\n",
    "        \n",
    "        print('we select ETFs tickers are', All_ETFs_log_train.columns[Lasso_Model.coef_>0])\n",
    "\n",
    "        Lasso_Model_residual = SPTR_log_train[['Adj Close']].values.flatten() - Lasso_Model.predict(All_ETFs_log_train)\n",
    "\n",
    "        check_for_stationarity(Lasso_Model_residual.flatten(),cutoff=0.05)\n",
    "        \n",
    "        index_of_etfs = Lasso_Model.coef_ > 0 # these etfs are our portfolio etfs, we need those to build the portfolio,and to rebalance\n",
    "\n",
    "        All_ETFs_log_year = All_ETFs_log.loc[: , index_of_etfs] .copy()  # this contains all the etfs we used to build portfolio\n",
    "\n",
    "        coefficients= Lasso_Model.coef_.copy()\n",
    "        \n",
    "        nonzero_coeff  = coefficients[~(coefficients==0)].copy()\n",
    "\n",
    "        nonzero_coeff = nonzero_coeff/nonzero_coeff.sum()\n",
    "\n",
    "        portfolio_test.loc[str(2014+j),'portf_forest'] = All_ETFs_log_year.dot(nonzero_coeff).loc[str(2014+j)].copy()\n",
    "\n",
    "        portfolio_test.loc[str(2014+j),'portfolio_test_intercept'] = portfolio_test.loc[str(2014+j),'portf_forest']+Lasso_Model.intercept_\n",
    "\n",
    "\n",
    "        j+=1\n",
    "\n",
    "        print('%sth loop is good'%(j))\n",
    "\n",
    "    SPTR_log_test = SPTR_log.loc[\"2014-01-01\": \"2017-12-31\"].copy()\n",
    "    plt.figure(figsize=(25,8))\n",
    "    plt.plot(SPTR_log_test.index,SPTR_log_test['Adj Close'], 'r-', label='Real data' )\n",
    "    plt.plot(SPTR_log_test.index,portfolio_test['portfolio_test_intercept'].loc[\"2014-01-01\": \"2017-12-31\"], 'g-', label='annual Portfolio' )\n",
    "    plt.legend(loc='upper left')\n",
    "    plt.title('Comparison between real S&P500 and portfolio constructed on test data')\n",
    "    plt.show()\n",
    "\n",
    "    SPTR_log_test['Daily_Return'] = SPTR_log_test['Adj Close'].diff()\n",
    "    SPTR_log_test['Daily_Return'][0] = 0\n",
    "    SPTR_log_test['Cumsum Daily_Return'] = SPTR_log_test['Daily_Return'].cumsum()\n",
    "\n",
    "    portfolio_test['Daily_Return'] = portfolio_test['portf_forest'].diff()\n",
    "    portfolio_test['Daily_Return'][0] = 0\n",
    "    # to adjust after rebalancing, the price change. we don't want to count the daily return after rebalancing\n",
    "    for i in ['2015-01-02','2016-01-04','2017-01-03']:\n",
    "        portfolio_test.loc[i,'Daily_Return'] = 0\n",
    "        SPTR_log_test.loc[i,'Daily_Return'] = 0\n",
    "    portfolio_test['Cumsum Daily_Return'] = portfolio_test['Daily_Return'].cumsum()\n",
    "\n",
    "    portfolio_test['Daily_Return'].plot(kind='line',figsize=(20,5),label = 'annual rebalance portfolio cumsum return',style='r-')\n",
    "    SPTR_log_test['Daily_Return'].loc[\"2014-01-01\": \"2017-12-31\"].plot(kind='line',figsize=(20,5),label = 'SPTR cumsum return',style='g-')\n",
    "    plt.legend(loc='upper left')\n",
    "    plt.xticks( pd.date_range(start='2014-1-01', end='2018-01-01', freq = 'M'))\n",
    "    plt.title('Daily Return SPTR and Portfolio')\n",
    "    plt.show()\n",
    "\n",
    "    plt.figure(figsize=(25,8))\n",
    "    plt.title('Cumsum daily return') \n",
    "    plt.plot(SPTR_log_test.index,SPTR_log_test['Cumsum Daily_Return'], 'r-', label='Real data' )\n",
    "    plt.plot(SPTR_log_test.index,portfolio_test['Cumsum Daily_Return'].loc[\"2014-01-01\": \"2017-12-31\"], 'g-', label='Annual balance Portfolio' )\n",
    "    plt.legend(loc='upper left')\n",
    "    plt.show()\n",
    "\n",
    "\n",
    "\n",
    "    Track_error_annual = portfolio_test['Daily_Return'] - SPTR_log_test['Daily_Return']\n",
    "\n",
    "    # to adjust after rebalancing, the price change. \n",
    "\n",
    "    for i in ['2015-01-02','2016-01-04','2017-01-03']:\n",
    "        Track_error_annual.loc[i] = 0\n",
    "\n",
    "    print('Mean of Tracking Error is %.8f') %(np.mean(Track_error_annual))\n",
    "    \n",
    "    print('std of Tracking Error is %.8f') %(np.std(Track_error_annual))\n",
    "    #print('Sum of  Tracking Error is %.8f') %(np.sum(np.abs(Track_error_annual)))\n",
    "\n",
    "    print('Information ratio of the annual portfolio is %.3f')%(np.mean(Track_error_annual)/np.std(Track_error_annual))\n",
    "\n",
    "    print('Annual Correlation coefficient between portfolio and SPTR is %.6f')%(\n",
    "        np.corrcoef(SPTR_log_test['Daily_Return'].values.flatten(),portfolio_test['Daily_Return'].values.flatten())[0,1])\n",
    "    \n",
    "    return portfolio_test"
   ]
  },
  {
   "cell_type": "code",
   "execution_count": null,
   "metadata": {
    "scrolled": false
   },
   "outputs": [],
   "source": [
    "portfolio_test_annual_balance_15 =  SPTR_annual_balance(alpha_input=0.000101)"
   ]
  },
  {
   "cell_type": "code",
   "execution_count": null,
   "metadata": {
    "collapsed": true
   },
   "outputs": [],
   "source": [
    "# portfolio_test_annual_balance_10 =  SPTR_annual_balance(alpha_input=0.000605)"
   ]
  },
  {
   "cell_type": "code",
   "execution_count": null,
   "metadata": {
    "collapsed": true,
    "scrolled": true
   },
   "outputs": [],
   "source": [
    "# portfolio_test_annual_balance_5ETFs =  SPTR_annual_balance(alpha_input=0.001571)"
   ]
  },
  {
   "cell_type": "code",
   "execution_count": null,
   "metadata": {
    "scrolled": true
   },
   "outputs": [],
   "source": [
    "plt.figure(figsize=(25,8))\n",
    "plt.plot(SPTR_log_test.index,SPTR_log_test['Adj Close'], 'r-', label='SPTR' )\n",
    "plt.plot(SPTR_log_test.index,portfolio_test_annual_balance_15['portfolio_test_intercept'].loc[\"2014-01-01\": \"2017-12-31\"], 'g-', label='15 Annual Portfolio' )\n",
    "plt.legend(loc='upper left')\n",
    "plt.title('Comparison between SPTR and 15 ETFs portfolio Annual rebalance')\n",
    "plt.show()"
   ]
  },
  {
   "cell_type": "code",
   "execution_count": null,
   "metadata": {},
   "outputs": [],
   "source": [
    "plt.figure(figsize=(25,8))\n",
    "portfolio_test_annual_balance_15['Daily_Return'].plot(kind='line',figsize=(20,5),label = '15 Annual Portfolio',style='r-')\n",
    "SPTR_log_test['Daily_Return'].loc[\"2014-01-01\": \"2017-12-31\"].plot(kind='line',figsize=(20,5),label = 'SPTR',style='g-')\n",
    "plt.legend(loc='upper left')\n",
    "plt.xticks( pd.date_range(start='2014-1-01', end='2018-01-01', freq = 'M'))\n",
    "plt.title('Comparison of Daily Returns between SPTR and 15 ETFs portfolio Annual rebalance')\n",
    "plt.show()\n"
   ]
  },
  {
   "cell_type": "code",
   "execution_count": null,
   "metadata": {},
   "outputs": [],
   "source": [
    "plt.figure(figsize=(25,8))\n",
    "plt.plot(SPTR_log_test.index,SPTR_log_test['Cumsum Daily_Return'], 'r-', label='SPTR' )\n",
    "plt.plot(SPTR_log_test.index,portfolio_test_annual_balance_15['Cumsum Daily_Return'].loc[\"2014-01-01\": \"2017-12-31\"], 'g-', label='15 Annual Portfolio' )\n",
    "plt.legend(loc='upper left')\n",
    "plt.title('Comparison of Cumsum Returns between SPTR and 15 ETFs portfolio no rebalance')\n",
    "plt.show()"
   ]
  },
  {
   "cell_type": "code",
   "execution_count": null,
   "metadata": {
    "collapsed": true
   },
   "outputs": [],
   "source": []
  },
  {
   "cell_type": "code",
   "execution_count": null,
   "metadata": {
    "collapsed": true
   },
   "outputs": [],
   "source": []
  },
  {
   "cell_type": "code",
   "execution_count": null,
   "metadata": {
    "collapsed": true
   },
   "outputs": [],
   "source": []
  },
  {
   "cell_type": "code",
   "execution_count": null,
   "metadata": {
    "collapsed": true
   },
   "outputs": [],
   "source": []
  },
  {
   "cell_type": "code",
   "execution_count": null,
   "metadata": {
    "collapsed": true
   },
   "outputs": [],
   "source": []
  },
  {
   "cell_type": "code",
   "execution_count": null,
   "metadata": {
    "collapsed": true
   },
   "outputs": [],
   "source": []
  },
  {
   "cell_type": "code",
   "execution_count": null,
   "metadata": {
    "collapsed": true
   },
   "outputs": [],
   "source": []
  },
  {
   "cell_type": "markdown",
   "metadata": {},
   "source": [
    "## SPTR semi-annual rebalance"
   ]
  },
  {
   "cell_type": "code",
   "execution_count": null,
   "metadata": {
    "collapsed": true,
    "scrolled": false
   },
   "outputs": [],
   "source": [
    "def  SPTR_semi_annual_balance(alpha_input= 6.1e-05):\n",
    "        \n",
    "    SPTR_log_train = SPTR_log.loc[\"2008-01\": \"2013-12-31\"].copy()\n",
    "\n",
    "    All_ETFs_log_train = All_ETFs_log.loc[\"2008-01\": \"2013-12-31\"].copy()\n",
    "\n",
    "    portfolio_test_semi = pd.DataFrame(0,columns=['portf_forest','portfolio_test_intercept'] ,index=SPTR_log.loc['2014':'2017'].index)  # this is to store the test data from ETFs\n",
    "\n",
    "    LR_lasso_semi = Lasso(alpha=alpha_input, fit_intercept=True,normalize=None,positive=True, random_state=123)\n",
    "\n",
    "    LR_lasso_semi.fit(All_ETFs_log_train,SPTR_log_train[['Adj Close']])\n",
    "\n",
    "    print('original coeff greater than 0 is ',np.sum(LR_lasso_semi.coef_ > 0 ))\n",
    "    print('original coeff leass than 0 is ' ,np.sum(LR_lasso_semi.coef_ < 0 ))\n",
    "    print('original coeff equal to 0 is ',np.sum(LR_lasso_semi.coef_ == 0) )\n",
    "\n",
    "    index_of_etfs = LR_lasso_semi.coef_ > 0 # these etfs are our portfolio etfs, we need those to build the portfolio,and to rebalance\n",
    "\n",
    "    All_ETFs_log_semi = All_ETFs_log.loc[: , index_of_etfs] .copy()  # this contains all the etfs we used to build portfolio\n",
    "\n",
    "    coefficients= LR_lasso_semi.coef_.copy()\n",
    "\n",
    "    nonzero_coeff  = coefficients[~(coefficients==0)].copy()\n",
    "\n",
    "    nonzero_coeff = nonzero_coeff/nonzero_coeff.sum()\n",
    "\n",
    "    portfolio_test_semi.loc['20140101':'20140630','portf_forest'] = All_ETFs_log_semi.dot(nonzero_coeff).loc['20140101':'20140630'].copy()\n",
    "\n",
    "    portfolio_test_semi.loc['20140101':'20140630','portfolio_test_intercept'] = portfolio_test_semi.loc['20140101':'20140630','portf_forest']+LR_lasso_semi.intercept_\n",
    "\n",
    "    j = 0\n",
    "\n",
    "    semi_dates_begin = pd.date_range(start='2014-07-01', end='2017-07-01', freq='6MS')\n",
    "\n",
    "    semi_dates_end = pd.date_range(start='2014-06-30', end='2017-12-31', freq='6M',closed='right')\n",
    "\n",
    "    for i in pd.date_range(start='2013-12-31', end='2017-06-30', freq='6M',closed='right'):\n",
    "        \n",
    "        All_ETFs_log_train = All_ETFs_log.loc['2008': i].copy()\n",
    "        \n",
    "        SPTR_log_train = SPTR_log.loc['2008': i].copy()\n",
    "        \n",
    "        print('\\n\\nfor range in 2008 to'+str(i))\n",
    "        \n",
    "        new_alpha = alpha_finding(X=All_ETFs_log_train, Y= SPTR_log_train, pos_no=15)\n",
    "\n",
    "        Lasso_Model = Lasso(alpha=new_alpha , fit_intercept=True,normalize=None,random_state=123)\n",
    "\n",
    "        Lasso_Model.fit(All_ETFs_log_train,SPTR_log_train[['Adj Close']])\n",
    "\n",
    "        print('we select ETFs tickers are  ',All_ETFs_log_train.columns[Lasso_Model.coef_>0] )\n",
    "\n",
    "        Lasso_Model_residual = SPTR_log_train[['Adj Close']].values.flatten() - Lasso_Model.predict(All_ETFs_log_train)\n",
    "\n",
    "        check_for_stationarity(Lasso_Model_residual.flatten(),cutoff=0.05)\n",
    "        \n",
    "        index_of_etfs = Lasso_Model.coef_ > 0 # these etfs are our portfolio etfs, we need those to build the portfolio,and to rebalance\n",
    "\n",
    "        All_ETFs_log_semi = All_ETFs_log.loc[: , index_of_etfs] .copy()  # this contains all the etfs we used to build portfolio\n",
    "\n",
    "        coefficients= Lasso_Model.coef_.copy()\n",
    "\n",
    "        nonzero_coeff  = coefficients[~(coefficients==0)].copy()\n",
    "\n",
    "        nonzero_coeff = nonzero_coeff/nonzero_coeff.sum()\n",
    "\n",
    "        portfolio_test_semi.loc[semi_dates_begin[j]:semi_dates_end[j],'portf_forest'] = All_ETFs_log_semi.dot(nonzero_coeff).loc[semi_dates_begin[j]:semi_dates_end[j]].copy()\n",
    "\n",
    "        portfolio_test_semi.loc[semi_dates_begin[j]:semi_dates_end[j],'portfolio_test_intercept'] = portfolio_test_semi.loc[semi_dates_begin[j]:semi_dates_end[j],'portf_forest']+Lasso_Model.intercept_\n",
    "\n",
    "\n",
    "        j+=1\n",
    "\n",
    "        print('%sth loop is good'%(j))\n",
    "\n",
    "    plt.figure(figsize=(25,8))\n",
    "    plt.plot(SPTR_log_test.index,SPTR_log_test['Adj Close'], 'r-', label='Real data' )\n",
    "    plt.plot(SPTR_log_test.index,portfolio_test_semi['portfolio_test_intercept'].loc[\"2014-01-01\": \"2017-12-31\"], 'g-', label='semi Portfolio' )\n",
    "    plt.legend(loc='upper left')\n",
    "    plt.title('Semi annaual Comparison between real SPTR and portfolio constructed on test data')\n",
    "    plt.show()\n",
    "\n",
    "    portfolio_test_semi['Daily_Return'] = portfolio_test_semi['portf_forest'].diff()\n",
    "    portfolio_test_semi['Daily_Return'][0] = 0\n",
    "    # to adjust after rebalancing, the price change. we don't want to count the daily return after rebalancing\n",
    "    for i in ['2014-07-01','2015-01-02','2015-07-01','2016-01-04','2016-07-01','2017-01-03','2017-07-03']:\n",
    "        portfolio_test_semi.loc[i,'Daily_Return'] = 0\n",
    "        SPTR_log_test.loc[i,'Daily_Return'] = 0 \n",
    "\n",
    "    portfolio_test_semi['Cumsum Daily_Return'] = portfolio_test_semi['Daily_Return'].cumsum()\n",
    "\n",
    "    portfolio_test_semi['Daily_Return'].plot(kind='line',figsize=(20,5),label = 'semi rebalance cumsum return',style='r-')\n",
    "    SPTR_log_test['Daily_Return'].loc[\"2014-01-01\": \"2017-12-31\"].plot(kind='line',figsize=(20,5),label = 'SPTR cumsum return',style='g-')\n",
    "    plt.legend(loc='upper left')\n",
    "    plt.xticks( pd.date_range(start='2014-1-01', end='2018-01-01', freq = 'M'))\n",
    "    plt.title('Semi-annual Daily Return SPTR and Portfolio')\n",
    "    plt.show()\n",
    "    \n",
    "    plt.figure(figsize=(25,8))\n",
    "    plt.title('Cumsum daily return') \n",
    "    plt.plot(SPTR_log_test.index,SPTR_log_test['Cumsum Daily_Return'], 'r-', label='Real data' )\n",
    "    plt.plot(SPTR_log_test.index,portfolio_test_semi['Cumsum Daily_Return'].loc[\"2014-01-01\": \"2017-12-31\"], 'g-', label='Semi-annual balance Portfolio' )\n",
    "    plt.legend(loc='upper left')\n",
    "    plt.show()\n",
    "\n",
    "\n",
    "    Track_error_semi = portfolio_test_semi['Daily_Return'] - SPTR_log_test['Daily_Return']\n",
    "\n",
    "    print('Mean of Tracking Error is %.8f') %(np.mean(Track_error_semi))\n",
    "    \n",
    "    print('Std of Tracking Error is %.8f') %(np.std(Track_error_semi))\n",
    " \n",
    "    #print('Sum of  Tracking Error is %.8f') %(np.sum(np.abs(Track_error_semi)))\n",
    "\n",
    "    print('Semi-annual information ratio of the annual portfolio is %.3f')%(np.mean(Track_error_semi)/np.std(Track_error_semi))\n",
    "\n",
    "    print('Semi-annual  Correlation coefficient between portfolio and SPTR is %.6f')%(\n",
    "        np.corrcoef(SPTR_log_test['Daily_Return'].values.flatten(),portfolio_test_semi['Daily_Return'].values.flatten())[0,1])\n",
    "    return portfolio_test_semi"
   ]
  },
  {
   "cell_type": "code",
   "execution_count": null,
   "metadata": {
    "scrolled": true
   },
   "outputs": [],
   "source": [
    "portfolio_test_semi_annual_balance_15 =  SPTR_semi_annual_balance(alpha_input=0.000101)"
   ]
  },
  {
   "cell_type": "code",
   "execution_count": null,
   "metadata": {
    "collapsed": true
   },
   "outputs": [],
   "source": []
  },
  {
   "cell_type": "code",
   "execution_count": null,
   "metadata": {},
   "outputs": [],
   "source": [
    "plt.figure(figsize=(25,8))\n",
    "plt.plot(SPTR_log_test.index,SPTR_log_test['Adj Close'], 'r-', label='SPTR' )\n",
    "plt.plot(SPTR_log_test.index,portfolio_test_semi_annual_balance_15['portfolio_test_intercept'].loc[\"2014-01-01\": \"2017-12-31\"], 'g-', label='15 Semi-annual Portfolio' )\n",
    "plt.legend(loc='upper left')\n",
    "plt.title('Comparison between SPTR and 15 ETFs portfolio Semi-annual rebalance')\n",
    "plt.show()"
   ]
  },
  {
   "cell_type": "code",
   "execution_count": null,
   "metadata": {
    "scrolled": true
   },
   "outputs": [],
   "source": [
    "plt.figure(figsize=(25,8))\n",
    "portfolio_test_semi_annual_balance_15['Daily_Return'].plot(kind='line',figsize=(20,5),label = '15 Semi-annual Portfolio',style='r-')\n",
    "SPTR_log_test['Daily_Return'].loc[\"2014-01-01\": \"2017-12-31\"].plot(kind='line',figsize=(20,5),label = 'SPTR',style='g-')\n",
    "plt.legend(loc='upper left')\n",
    "plt.xticks( pd.date_range(start='2014-1-01', end='2018-01-01', freq = 'M'))\n",
    "plt.title('Comparison of Daily Returns between SPTR and 15 ETFs portfolio semi-annual rebalance')\n",
    "plt.show()\n"
   ]
  },
  {
   "cell_type": "code",
   "execution_count": null,
   "metadata": {
    "scrolled": true
   },
   "outputs": [],
   "source": [
    "plt.figure(figsize=(25,8))\n",
    "plt.plot(SPTR_log_test.index,SPTR_log_test['Cumsum Daily_Return'], 'r-', label='SPTR' )\n",
    "plt.plot(SPTR_log_test.index,portfolio_test_semi_annual_balance_15['Cumsum Daily_Return'].loc[\"2014-01-01\": \"2017-12-31\"], 'g-', label='15 Semi-annual Portfolio' )\n",
    "plt.legend(loc='upper left')\n",
    "plt.title('Comparison of Cumsum Returns between SPTR and 15 ETFs portfolio semi-annual rebalance')\n",
    "plt.show()"
   ]
  },
  {
   "cell_type": "code",
   "execution_count": null,
   "metadata": {
    "collapsed": true
   },
   "outputs": [],
   "source": []
  },
  {
   "cell_type": "code",
   "execution_count": null,
   "metadata": {
    "collapsed": true
   },
   "outputs": [],
   "source": []
  },
  {
   "cell_type": "code",
   "execution_count": null,
   "metadata": {
    "collapsed": true
   },
   "outputs": [],
   "source": []
  },
  {
   "cell_type": "code",
   "execution_count": null,
   "metadata": {
    "collapsed": true
   },
   "outputs": [],
   "source": []
  },
  {
   "cell_type": "markdown",
   "metadata": {},
   "source": [
    "## rebalance quarterly"
   ]
  },
  {
   "cell_type": "code",
   "execution_count": null,
   "metadata": {
    "collapsed": true,
    "scrolled": true
   },
   "outputs": [],
   "source": [
    "def SPTR_quarter_balance(alpha_input= 6.1e-05):\n",
    "    SPTR_log_train = SPTR_log.loc[\"2008-01\": \"2013-12-31\"].copy()\n",
    "\n",
    "    All_ETFs_log_train = All_ETFs_log.loc[\"2008-01\": \"2013-12-31\"].copy()\n",
    "\n",
    "    portfolio_test_quarter = pd.DataFrame(0,columns=['portf_forest','portfolio_test_intercept'] ,index=SPTR_log.loc['2014':'2017'].index)  # this is to store the test data from ETFs\n",
    "\n",
    "    LR_lasso_quarter = Lasso(alpha= alpha_input,fit_intercept=True,positive=True,normalize=None)\n",
    "\n",
    "    LR_lasso_quarter.fit(All_ETFs_log_train,SPTR_log_train[['Adj Close']])\n",
    "\n",
    "    print('original coeff greater than 0 is ',np.sum(LR_lasso_quarter.coef_ > 0 ))\n",
    "    print('original coeff leass than 0 is ' ,np.sum(LR_lasso_quarter.coef_ < 0 ))\n",
    "    print('original coeff equal to 0 is ',np.sum(LR_lasso_quarter.coef_ == 0) )\n",
    "\n",
    "    index_of_etfs = LR_lasso_quarter.coef_ > 0 # these etfs are our portfolio etfs, we need those to build the portfolio,and to rebalance\n",
    "\n",
    "    All_ETFs_log_quarter = All_ETFs_log.loc[: , index_of_etfs] .copy()  # this contains all the etfs we used to build portfolio\n",
    "\n",
    "    coefficients= LR_lasso_quarter.coef_.copy()\n",
    "\n",
    "    nonzero_coeff  = coefficients[~(coefficients==0)].copy()\n",
    "\n",
    "    nonzero_coeff = nonzero_coeff/nonzero_coeff.sum()\n",
    "\n",
    "    portfolio_test_quarter.loc['2014Q1','portf_forest'] = All_ETFs_log_quarter.dot(nonzero_coeff).loc['2014Q1'].copy()\n",
    "\n",
    "    portfolio_test_quarter.loc['2014Q1','portfolio_test_intercept'] = portfolio_test_quarter.loc['2014Q1','portf_forest']+LR_lasso_quarter.intercept_\n",
    "\n",
    "    quarter_dates = [str(i)+j for i in range(2014,2018) for j in ['Q1','Q2','Q3','Q4']]\n",
    "\n",
    "    j = 1\n",
    "\n",
    "\n",
    "    for i in pd.date_range(start='2014Q1', end='2017Q4', freq='Q'):   \n",
    "        \n",
    "        All_ETFs_log_train = All_ETFs_log.loc['2008': i].copy()\n",
    "\n",
    "        SPTR_log_train = SPTR_log.loc['2008': i].copy()\n",
    "\n",
    "        print('\\n\\nfor range in 2008 to'+str(i))\n",
    "        \n",
    "        new_alpha = alpha_finding(X=All_ETFs_log_train, Y= SPTR_log_train, pos_no=15)\n",
    "        \n",
    "        Lasso_Model = Lasso(alpha=new_alpha, fit_intercept=True,positive=True,normalize=None,random_state=123)\n",
    "\n",
    "        Lasso_Model.fit(All_ETFs_log_train,SPTR_log_train[['Adj Close']])\n",
    "\n",
    "        print('we select ETF tickers are ',All_ETFs_log_train.columns[Lasso_Model.coef_>0] )\n",
    "\n",
    "        Lasso_Model_residual = SPTR_log_train[['Adj Close']].values.flatten() - Lasso_Model.predict(All_ETFs_log_train)\n",
    "\n",
    "        check_for_stationarity(Lasso_Model_residual.flatten(),cutoff=0.05)\n",
    "        \n",
    "        index_of_etfs = Lasso_Model.coef_ > 0 # these etfs are our portfolio etfs, we need those to build the portfolio,and to rebalance\n",
    "\n",
    "        All_ETFs_log_quarter = All_ETFs_log.loc[: , index_of_etfs] .copy()  # this contains all the etfs we used to build portfolio\n",
    " \n",
    "        coefficients= Lasso_Model.coef_.copy()\n",
    "\n",
    "        nonzero_coeff  = coefficients[~(coefficients==0)].copy()\n",
    "\n",
    "        nonzero_coeff = nonzero_coeff/nonzero_coeff.sum()\n",
    "\n",
    "        portfolio_test_quarter.loc[quarter_dates[j],'portf_forest'] = All_ETFs_log_quarter.dot(nonzero_coeff).loc[quarter_dates[j]].copy()\n",
    "\n",
    "        portfolio_test_quarter.loc[quarter_dates[j],'portfolio_test_intercept'] = portfolio_test_quarter.loc[quarter_dates[j],'portf_forest']+Lasso_Model.intercept_\n",
    "\n",
    "        j+=1\n",
    "\n",
    "        print('%sth loop is good'%(j))\n",
    "\n",
    "\n",
    "\n",
    "    plt.figure(figsize=(25,8))\n",
    "    plt.plot(SPTR_log_test.index,SPTR_log_test['Adj Close'], 'r-', label='Real data' )\n",
    "    plt.plot(SPTR_log_test.index,portfolio_test_quarter['portfolio_test_intercept'].loc[\"2014-01-01\": \"2017-12-31\"], 'g-', label='quarter Portfolio' )\n",
    "    plt.legend(loc='upper left')\n",
    "    plt.title('Comparison between real S&P500 and portfolio constructed on test data')\n",
    "    plt.show()\n",
    "\n",
    "    portfolio_test_quarter['Daily_Return'] = portfolio_test_quarter['portf_forest'].diff()\n",
    "    portfolio_test_quarter['Daily_Return'][0] = 0\n",
    "    # to adjust after rebalancing, the price change. we don't want to count the daily return after rebalancing\n",
    "    for i in ['2014-04-01','2014-07-01','2014-10-01','2015-01-02','2015-04-01','2015-07-01','2015-10-01','2016-01-04',\n",
    "              '2016-04-01','2016-07-01','2016-10-03','2017-01-03','2017-04-03','2017-07-03','2017-10-02']:\n",
    "        portfolio_test_quarter.loc[i,'Daily_Return'] = 0\n",
    "        SPTR_log_test.loc[i,'Daily_Return'] = 0 \n",
    "    portfolio_test_quarter['Cumsum Daily_Return'] = portfolio_test_quarter['Daily_Return'].cumsum()\n",
    "\n",
    "    portfolio_test_quarter['Daily_Return'].plot(kind='line',figsize=(20,5),label = 'quarterly rebalance portfolio cumsum return',style='r-')\n",
    "    SPTR_log_test['Daily_Return'].loc[\"2014-01-01\": \"2017-12-31\"].plot(kind='line',figsize=(20,5),label = 'SPTR cumsum return',style='g-')\n",
    "    plt.legend(loc='upper left')\n",
    "    plt.xticks( pd.date_range(start='2014-1-01', end='2018-01-01', freq = 'M'))\n",
    "    plt.title('Quarterly Cumsum Return SPTR and Portfolio')\n",
    "    plt.show()\n",
    "\n",
    "    plt.figure(figsize=(25,8))\n",
    "    plt.title('Cumsum daily return') \n",
    "    plt.plot(SPTR_log_test.index,SPTR_log_test['Cumsum Daily_Return'], 'r-', label='Real data' )\n",
    "    plt.plot(SPTR_log_test.index,portfolio_test_quarter['Cumsum Daily_Return'].loc[\"2014-01-01\": \"2017-12-31\"], 'g-', label='Quarterly balance Portfolio' )\n",
    "    plt.legend(loc='upper left')\n",
    "    plt.show()\n",
    "\n",
    "    Track_error_quarter = portfolio_test_quarter['Daily_Return'] - SPTR_log_test['Daily_Return']\n",
    "\n",
    "    print('Mean of Tracking Error is %.8f') %(np.mean(Track_error_quarter))\n",
    "    \n",
    "    print('std of Tracking Error is %.8f') %(np.std(Track_error_quarter))\n",
    "\n",
    "    #print('Sum of  Tracking Error is %.8f，') %(np.sum(np.abs(Track_error_quarter)))\n",
    "\n",
    "    print('Quarter information ratio of the portfolio is %.3f')%(np.mean(Track_error_quarter)/np.std(Track_error_quarter))\n",
    "\n",
    "    print('Quarterly  Correlation coefficient between portfolio and SPTR is %.6f')%(\n",
    "        np.corrcoef(SPTR_log_test['Daily_Return'].values.flatten(),portfolio_test_quarter['Daily_Return'].values.flatten())[0,1])\n",
    "    \n",
    "    return portfolio_test_quarter"
   ]
  },
  {
   "cell_type": "code",
   "execution_count": null,
   "metadata": {
    "scrolled": false
   },
   "outputs": [],
   "source": [
    "portfolio_test_quarter_balance_15 =  SPTR_quarter_balance(alpha_input=0.000101)"
   ]
  },
  {
   "cell_type": "code",
   "execution_count": null,
   "metadata": {
    "scrolled": true
   },
   "outputs": [],
   "source": [
    "plt.figure(figsize=(25,8))\n",
    "plt.plot(SPTR_log_test.index,SPTR_log_test['Adj Close'], 'r-', label='SPTR' )\n",
    "plt.plot(SPTR_log_test.index,portfolio_test_quarter_balance_15['portfolio_test_intercept'].loc[\"2014-01-01\": \"2017-12-31\"], 'g-', label='15 quarter Portfolio' )\n",
    "plt.legend(loc='upper left')\n",
    "#plt.title('Comparison between SPTR and 15 ETFs portfolio Quarterly-annual rebalance')\n",
    "plt.show()\n",
    "\n",
    "plt.figure(figsize=(25,8))\n",
    "portfolio_test_quarter_balance_15['Daily_Return'].plot(kind='line',figsize=(20,5),label = '15 Quarterly Portfolio',style='r-')\n",
    "SPTR_log_test['Daily_Return'].loc[\"2014-01-01\": \"2017-12-31\"].plot(kind='line',figsize=(20,5),label = 'SPTR',style='g-')\n",
    "plt.legend(loc='upper left')\n",
    "plt.xticks( pd.date_range(start='2014-1-01', end='2018-01-01', freq = 'M'))\n",
    "plt.show()\n",
    "\n",
    "plt.figure(figsize=(25,8))\n",
    "plt.plot(SPTR_log_test.index,SPTR_log_test['Cumsum Daily_Return'], 'r-', label='SPTR' )\n",
    "plt.plot(SPTR_log_test.index,portfolio_test_quarter_balance_15['Cumsum Daily_Return'].loc[\"2014-01-01\": \"2017-12-31\"], 'g-', label='15 Quarterly Portfolio' )\n",
    "plt.legend(loc='upper left')\n",
    "#plt.title('Comparison of Cumsum Returns between SPTR and 15 ETFs portfolio semi-annual rebalance')\n",
    "plt.show()"
   ]
  },
  {
   "cell_type": "code",
   "execution_count": null,
   "metadata": {
    "collapsed": true
   },
   "outputs": [],
   "source": []
  },
  {
   "cell_type": "code",
   "execution_count": null,
   "metadata": {
    "collapsed": true
   },
   "outputs": [],
   "source": []
  },
  {
   "cell_type": "code",
   "execution_count": null,
   "metadata": {
    "collapsed": true
   },
   "outputs": [],
   "source": []
  },
  {
   "cell_type": "code",
   "execution_count": null,
   "metadata": {
    "collapsed": true
   },
   "outputs": [],
   "source": []
  },
  {
   "cell_type": "code",
   "execution_count": null,
   "metadata": {
    "collapsed": true
   },
   "outputs": [],
   "source": [
    "def check_for_stationarity(X, cutoff=0.01):\n",
    "    # H_0 in adfuller is unit root exists (non-stationary)\n",
    "    # We must observe significant p-value to convince ourselves that the series is stationary\n",
    "    pvalue = ADF(X)[1]\n",
    "    if pvalue < cutoff:\n",
    "        print 'p-value = ' + str(pvalue) + ' The series '  +' is likely stationary.'\n",
    "        #return True\n",
    "    else:\n",
    "        print 'p-value = ' + str(pvalue) + ' The series '+' is likely non-stationary.'\n",
    "        #return False"
   ]
  },
  {
   "cell_type": "code",
   "execution_count": null,
   "metadata": {
    "collapsed": true
   },
   "outputs": [],
   "source": [
    "def check_for_stationarity(X, cutoff=0.01):\n",
    "    # H_0 in adfuller is unit root exists (non-stationary)\n",
    "    # We must observe significant p-value to convince ourselves that the series is stationary\n",
    "    pvalue = ADF(X)[1]\n",
    "    if pvalue < cutoff:\n",
    "        print 'p-value = ' + str(pvalue) + ' The series '  +' is likely stationary.'\n",
    "        #return True\n",
    "    else:\n",
    "        print 'p-value = ' + str(pvalue) + ' The series '+' is likely non-stationary.'\n",
    "        #return False"
   ]
  },
  {
   "cell_type": "code",
   "execution_count": null,
   "metadata": {
    "collapsed": true
   },
   "outputs": [],
   "source": []
  }
 ],
 "metadata": {
  "kernelspec": {
   "display_name": "Python 2",
   "language": "python",
   "name": "python2"
  },
  "language_info": {
   "codemirror_mode": {
    "name": "ipython",
    "version": 2
   },
   "file_extension": ".py",
   "mimetype": "text/x-python",
   "name": "python",
   "nbconvert_exporter": "python",
   "pygments_lexer": "ipython2",
   "version": "2.7.14"
  }
 },
 "nbformat": 4,
 "nbformat_minor": 2
}
