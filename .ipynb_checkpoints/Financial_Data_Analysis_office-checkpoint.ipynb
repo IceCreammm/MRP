{
 "cells": [
  {
   "cell_type": "code",
   "execution_count": 76,
   "metadata": {
    "collapsed": true
   },
   "outputs": [],
   "source": [
    "import pandas as pd\n",
    "import matplotlib.pyplot as plt\n",
    "import datetime as dt\n",
    "import numpy as np\n",
    "import gzip, cPickle\n",
    "import pickle"
   ]
  },
  {
   "cell_type": "code",
   "execution_count": 3,
   "metadata": {
    "collapsed": true
   },
   "outputs": [],
   "source": [
    "stock_data_adj_close = pd.read_excel('all_the_data.xlsx')"
   ]
  },
  {
   "cell_type": "code",
   "execution_count": 1,
   "metadata": {
    "collapsed": true
   },
   "outputs": [],
   "source": [
    "import pickle"
   ]
  },
  {
   "cell_type": "code",
   "execution_count": 2,
   "metadata": {
    "collapsed": true
   },
   "outputs": [],
   "source": [
    "ETFs_GSPC = pickle.load(open(\"ETFs_GSPC_MRP_Production.p\", \"r\"))"
   ]
  },
  {
   "cell_type": "code",
   "execution_count": 3,
   "metadata": {},
   "outputs": [
    {
     "data": {
      "text/html": [
       "<div>\n",
       "<style>\n",
       "    .dataframe thead tr:only-child th {\n",
       "        text-align: right;\n",
       "    }\n",
       "\n",
       "    .dataframe thead th {\n",
       "        text-align: left;\n",
       "    }\n",
       "\n",
       "    .dataframe tbody tr th {\n",
       "        vertical-align: top;\n",
       "    }\n",
       "</style>\n",
       "<table border=\"1\" class=\"dataframe\">\n",
       "  <thead>\n",
       "    <tr style=\"text-align: right;\">\n",
       "      <th></th>\n",
       "      <th>XLK</th>\n",
       "      <th>VGT</th>\n",
       "      <th>IYW</th>\n",
       "      <th>RYT</th>\n",
       "      <th>IGM</th>\n",
       "      <th>XNTK</th>\n",
       "      <th>PNQI</th>\n",
       "      <th>XLF</th>\n",
       "      <th>VFH</th>\n",
       "      <th>KBE</th>\n",
       "      <th>...</th>\n",
       "      <th>VPU</th>\n",
       "      <th>IDU</th>\n",
       "      <th>RYU</th>\n",
       "      <th>PUI</th>\n",
       "      <th>VNQ</th>\n",
       "      <th>IYR</th>\n",
       "      <th>RWR</th>\n",
       "      <th>REM</th>\n",
       "      <th>USRT</th>\n",
       "      <th>Adj Close</th>\n",
       "    </tr>\n",
       "    <tr>\n",
       "      <th>Date</th>\n",
       "      <th></th>\n",
       "      <th></th>\n",
       "      <th></th>\n",
       "      <th></th>\n",
       "      <th></th>\n",
       "      <th></th>\n",
       "      <th></th>\n",
       "      <th></th>\n",
       "      <th></th>\n",
       "      <th></th>\n",
       "      <th></th>\n",
       "      <th></th>\n",
       "      <th></th>\n",
       "      <th></th>\n",
       "      <th></th>\n",
       "      <th></th>\n",
       "      <th></th>\n",
       "      <th></th>\n",
       "      <th></th>\n",
       "      <th></th>\n",
       "      <th></th>\n",
       "    </tr>\n",
       "  </thead>\n",
       "  <tbody>\n",
       "    <tr>\n",
       "      <th>2008-01-02</th>\n",
       "      <td>22.098740</td>\n",
       "      <td>53.268589</td>\n",
       "      <td>56.017902</td>\n",
       "      <td>45.235744</td>\n",
       "      <td>54.408684</td>\n",
       "      <td>27.862883</td>\n",
       "      <td>NaN</td>\n",
       "      <td>14.305944</td>\n",
       "      <td>41.652599</td>\n",
       "      <td>35.166389</td>\n",
       "      <td>...</td>\n",
       "      <td>59.947933</td>\n",
       "      <td>71.388649</td>\n",
       "      <td>41.737343</td>\n",
       "      <td>14.337612</td>\n",
       "      <td>40.162682</td>\n",
       "      <td>42.196808</td>\n",
       "      <td>47.435150</td>\n",
       "      <td>8.983622</td>\n",
       "      <td>34.976913</td>\n",
       "      <td>1447.160034</td>\n",
       "    </tr>\n",
       "    <tr>\n",
       "      <th>2008-01-03</th>\n",
       "      <td>22.132580</td>\n",
       "      <td>52.997772</td>\n",
       "      <td>55.789246</td>\n",
       "      <td>44.755886</td>\n",
       "      <td>54.259819</td>\n",
       "      <td>27.940943</td>\n",
       "      <td>NaN</td>\n",
       "      <td>14.215148</td>\n",
       "      <td>41.288517</td>\n",
       "      <td>35.025986</td>\n",
       "      <td>...</td>\n",
       "      <td>60.058559</td>\n",
       "      <td>71.592514</td>\n",
       "      <td>41.917027</td>\n",
       "      <td>14.271438</td>\n",
       "      <td>38.910671</td>\n",
       "      <td>40.830173</td>\n",
       "      <td>46.044064</td>\n",
       "      <td>8.910232</td>\n",
       "      <td>33.672215</td>\n",
       "      <td>1447.160034</td>\n",
       "    </tr>\n",
       "    <tr>\n",
       "      <th>2008-01-04</th>\n",
       "      <td>21.269606</td>\n",
       "      <td>50.750046</td>\n",
       "      <td>53.393055</td>\n",
       "      <td>42.910275</td>\n",
       "      <td>51.757092</td>\n",
       "      <td>26.646067</td>\n",
       "      <td>NaN</td>\n",
       "      <td>13.811594</td>\n",
       "      <td>40.147667</td>\n",
       "      <td>33.836712</td>\n",
       "      <td>...</td>\n",
       "      <td>59.899540</td>\n",
       "      <td>71.543304</td>\n",
       "      <td>41.633671</td>\n",
       "      <td>14.278792</td>\n",
       "      <td>37.330921</td>\n",
       "      <td>39.534801</td>\n",
       "      <td>44.102032</td>\n",
       "      <td>8.794044</td>\n",
       "      <td>32.376438</td>\n",
       "      <td>1411.630005</td>\n",
       "    </tr>\n",
       "    <tr>\n",
       "      <th>2008-01-07</th>\n",
       "      <td>21.083485</td>\n",
       "      <td>50.280647</td>\n",
       "      <td>52.890045</td>\n",
       "      <td>42.310459</td>\n",
       "      <td>51.347736</td>\n",
       "      <td>26.297098</td>\n",
       "      <td>NaN</td>\n",
       "      <td>13.846903</td>\n",
       "      <td>40.333759</td>\n",
       "      <td>34.150543</td>\n",
       "      <td>...</td>\n",
       "      <td>60.985104</td>\n",
       "      <td>72.815964</td>\n",
       "      <td>42.158928</td>\n",
       "      <td>14.558186</td>\n",
       "      <td>37.678326</td>\n",
       "      <td>39.903980</td>\n",
       "      <td>44.398148</td>\n",
       "      <td>8.888833</td>\n",
       "      <td>32.447933</td>\n",
       "      <td>1416.180054</td>\n",
       "    </tr>\n",
       "    <tr>\n",
       "      <th>2008-01-08</th>\n",
       "      <td>20.525089</td>\n",
       "      <td>48.737019</td>\n",
       "      <td>51.298668</td>\n",
       "      <td>41.396889</td>\n",
       "      <td>49.868423</td>\n",
       "      <td>25.723120</td>\n",
       "      <td>NaN</td>\n",
       "      <td>13.342463</td>\n",
       "      <td>38.836933</td>\n",
       "      <td>32.705246</td>\n",
       "      <td>...</td>\n",
       "      <td>60.950520</td>\n",
       "      <td>72.717522</td>\n",
       "      <td>42.158928</td>\n",
       "      <td>14.455253</td>\n",
       "      <td>36.373859</td>\n",
       "      <td>38.453159</td>\n",
       "      <td>42.951958</td>\n",
       "      <td>8.757350</td>\n",
       "      <td>31.482798</td>\n",
       "      <td>1390.189941</td>\n",
       "    </tr>\n",
       "  </tbody>\n",
       "</table>\n",
       "<p>5 rows × 63 columns</p>\n",
       "</div>"
      ],
      "text/plain": [
       "                  XLK        VGT        IYW        RYT        IGM       XNTK  \\\n",
       "Date                                                                           \n",
       "2008-01-02  22.098740  53.268589  56.017902  45.235744  54.408684  27.862883   \n",
       "2008-01-03  22.132580  52.997772  55.789246  44.755886  54.259819  27.940943   \n",
       "2008-01-04  21.269606  50.750046  53.393055  42.910275  51.757092  26.646067   \n",
       "2008-01-07  21.083485  50.280647  52.890045  42.310459  51.347736  26.297098   \n",
       "2008-01-08  20.525089  48.737019  51.298668  41.396889  49.868423  25.723120   \n",
       "\n",
       "            PNQI        XLF        VFH        KBE     ...             VPU  \\\n",
       "Date                                                  ...                   \n",
       "2008-01-02   NaN  14.305944  41.652599  35.166389     ...       59.947933   \n",
       "2008-01-03   NaN  14.215148  41.288517  35.025986     ...       60.058559   \n",
       "2008-01-04   NaN  13.811594  40.147667  33.836712     ...       59.899540   \n",
       "2008-01-07   NaN  13.846903  40.333759  34.150543     ...       60.985104   \n",
       "2008-01-08   NaN  13.342463  38.836933  32.705246     ...       60.950520   \n",
       "\n",
       "                  IDU        RYU        PUI        VNQ        IYR        RWR  \\\n",
       "Date                                                                           \n",
       "2008-01-02  71.388649  41.737343  14.337612  40.162682  42.196808  47.435150   \n",
       "2008-01-03  71.592514  41.917027  14.271438  38.910671  40.830173  46.044064   \n",
       "2008-01-04  71.543304  41.633671  14.278792  37.330921  39.534801  44.102032   \n",
       "2008-01-07  72.815964  42.158928  14.558186  37.678326  39.903980  44.398148   \n",
       "2008-01-08  72.717522  42.158928  14.455253  36.373859  38.453159  42.951958   \n",
       "\n",
       "                 REM       USRT    Adj Close  \n",
       "Date                                          \n",
       "2008-01-02  8.983622  34.976913  1447.160034  \n",
       "2008-01-03  8.910232  33.672215  1447.160034  \n",
       "2008-01-04  8.794044  32.376438  1411.630005  \n",
       "2008-01-07  8.888833  32.447933  1416.180054  \n",
       "2008-01-08  8.757350  31.482798  1390.189941  \n",
       "\n",
       "[5 rows x 63 columns]"
      ]
     },
     "execution_count": 3,
     "metadata": {},
     "output_type": "execute_result"
    }
   ],
   "source": [
    "ETFs_GSPC.head()"
   ]
  },
  {
   "cell_type": "code",
   "execution_count": null,
   "metadata": {
    "collapsed": true
   },
   "outputs": [],
   "source": [
    "stock_data_adj_close.head()"
   ]
  },
  {
   "cell_type": "code",
   "execution_count": null,
   "metadata": {
    "collapsed": true
   },
   "outputs": [],
   "source": [
    "etf_data_adj_close = pd.read_excel('etf_data.xlsx')"
   ]
  },
  {
   "cell_type": "code",
   "execution_count": 16,
   "metadata": {},
   "outputs": [
    {
     "data": {
      "text/html": [
       "<div>\n",
       "<table border=\"1\" class=\"dataframe\">\n",
       "  <thead>\n",
       "    <tr style=\"text-align: right;\">\n",
       "      <th></th>\n",
       "      <th>Date</th>\n",
       "      <th>AGG</th>\n",
       "      <th>BND</th>\n",
       "      <th>DIA</th>\n",
       "      <th>IJH</th>\n",
       "      <th>IJR</th>\n",
       "      <th>IVV</th>\n",
       "      <th>IVW</th>\n",
       "      <th>IWD</th>\n",
       "      <th>IWF</th>\n",
       "      <th>...</th>\n",
       "      <th>QQQ</th>\n",
       "      <th>SPY</th>\n",
       "      <th>VB</th>\n",
       "      <th>VNQ</th>\n",
       "      <th>VO</th>\n",
       "      <th>VOO</th>\n",
       "      <th>VTI</th>\n",
       "      <th>VTV</th>\n",
       "      <th>VUG</th>\n",
       "      <th>XLF</th>\n",
       "    </tr>\n",
       "  </thead>\n",
       "  <tbody>\n",
       "    <tr>\n",
       "      <th>0</th>\n",
       "      <td>2000-01-03</td>\n",
       "      <td>NaN</td>\n",
       "      <td>NaN</td>\n",
       "      <td>75.598282</td>\n",
       "      <td>NaN</td>\n",
       "      <td>NaN</td>\n",
       "      <td>NaN</td>\n",
       "      <td>NaN</td>\n",
       "      <td>NaN</td>\n",
       "      <td>NaN</td>\n",
       "      <td>...</td>\n",
       "      <td>84.326424</td>\n",
       "      <td>103.807343</td>\n",
       "      <td>NaN</td>\n",
       "      <td>NaN</td>\n",
       "      <td>NaN</td>\n",
       "      <td>NaN</td>\n",
       "      <td>NaN</td>\n",
       "      <td>NaN</td>\n",
       "      <td>NaN</td>\n",
       "      <td>9.962534</td>\n",
       "    </tr>\n",
       "    <tr>\n",
       "      <th>1</th>\n",
       "      <td>2000-01-04</td>\n",
       "      <td>NaN</td>\n",
       "      <td>NaN</td>\n",
       "      <td>73.110947</td>\n",
       "      <td>NaN</td>\n",
       "      <td>NaN</td>\n",
       "      <td>NaN</td>\n",
       "      <td>NaN</td>\n",
       "      <td>NaN</td>\n",
       "      <td>NaN</td>\n",
       "      <td>...</td>\n",
       "      <td>78.541489</td>\n",
       "      <td>99.747833</td>\n",
       "      <td>NaN</td>\n",
       "      <td>NaN</td>\n",
       "      <td>NaN</td>\n",
       "      <td>NaN</td>\n",
       "      <td>NaN</td>\n",
       "      <td>NaN</td>\n",
       "      <td>NaN</td>\n",
       "      <td>9.527010</td>\n",
       "    </tr>\n",
       "    <tr>\n",
       "      <th>2</th>\n",
       "      <td>2000-01-05</td>\n",
       "      <td>NaN</td>\n",
       "      <td>NaN</td>\n",
       "      <td>74.057983</td>\n",
       "      <td>NaN</td>\n",
       "      <td>NaN</td>\n",
       "      <td>NaN</td>\n",
       "      <td>NaN</td>\n",
       "      <td>NaN</td>\n",
       "      <td>NaN</td>\n",
       "      <td>...</td>\n",
       "      <td>76.539001</td>\n",
       "      <td>99.926254</td>\n",
       "      <td>NaN</td>\n",
       "      <td>NaN</td>\n",
       "      <td>NaN</td>\n",
       "      <td>NaN</td>\n",
       "      <td>NaN</td>\n",
       "      <td>NaN</td>\n",
       "      <td>NaN</td>\n",
       "      <td>9.452150</td>\n",
       "    </tr>\n",
       "    <tr>\n",
       "      <th>3</th>\n",
       "      <td>2000-01-06</td>\n",
       "      <td>NaN</td>\n",
       "      <td>NaN</td>\n",
       "      <td>74.432602</td>\n",
       "      <td>NaN</td>\n",
       "      <td>NaN</td>\n",
       "      <td>NaN</td>\n",
       "      <td>NaN</td>\n",
       "      <td>NaN</td>\n",
       "      <td>NaN</td>\n",
       "      <td>...</td>\n",
       "      <td>71.282539</td>\n",
       "      <td>98.320305</td>\n",
       "      <td>NaN</td>\n",
       "      <td>NaN</td>\n",
       "      <td>NaN</td>\n",
       "      <td>NaN</td>\n",
       "      <td>NaN</td>\n",
       "      <td>NaN</td>\n",
       "      <td>NaN</td>\n",
       "      <td>9.867239</td>\n",
       "    </tr>\n",
       "    <tr>\n",
       "      <th>4</th>\n",
       "      <td>2000-01-07</td>\n",
       "      <td>NaN</td>\n",
       "      <td>NaN</td>\n",
       "      <td>76.930359</td>\n",
       "      <td>NaN</td>\n",
       "      <td>NaN</td>\n",
       "      <td>NaN</td>\n",
       "      <td>NaN</td>\n",
       "      <td>NaN</td>\n",
       "      <td>NaN</td>\n",
       "      <td>...</td>\n",
       "      <td>80.098961</td>\n",
       "      <td>104.030365</td>\n",
       "      <td>NaN</td>\n",
       "      <td>NaN</td>\n",
       "      <td>NaN</td>\n",
       "      <td>NaN</td>\n",
       "      <td>NaN</td>\n",
       "      <td>NaN</td>\n",
       "      <td>NaN</td>\n",
       "      <td>10.030557</td>\n",
       "    </tr>\n",
       "  </tbody>\n",
       "</table>\n",
       "<p>5 rows × 22 columns</p>\n",
       "</div>"
      ],
      "text/plain": [
       "        Date  AGG  BND        DIA  IJH  IJR  IVV  IVW  IWD  IWF    ...      \\\n",
       "0 2000-01-03  NaN  NaN  75.598282  NaN  NaN  NaN  NaN  NaN  NaN    ...       \n",
       "1 2000-01-04  NaN  NaN  73.110947  NaN  NaN  NaN  NaN  NaN  NaN    ...       \n",
       "2 2000-01-05  NaN  NaN  74.057983  NaN  NaN  NaN  NaN  NaN  NaN    ...       \n",
       "3 2000-01-06  NaN  NaN  74.432602  NaN  NaN  NaN  NaN  NaN  NaN    ...       \n",
       "4 2000-01-07  NaN  NaN  76.930359  NaN  NaN  NaN  NaN  NaN  NaN    ...       \n",
       "\n",
       "         QQQ         SPY  VB  VNQ  VO  VOO  VTI  VTV  VUG        XLF  \n",
       "0  84.326424  103.807343 NaN  NaN NaN  NaN  NaN  NaN  NaN   9.962534  \n",
       "1  78.541489   99.747833 NaN  NaN NaN  NaN  NaN  NaN  NaN   9.527010  \n",
       "2  76.539001   99.926254 NaN  NaN NaN  NaN  NaN  NaN  NaN   9.452150  \n",
       "3  71.282539   98.320305 NaN  NaN NaN  NaN  NaN  NaN  NaN   9.867239  \n",
       "4  80.098961  104.030365 NaN  NaN NaN  NaN  NaN  NaN  NaN  10.030557  \n",
       "\n",
       "[5 rows x 22 columns]"
      ]
     },
     "execution_count": 16,
     "metadata": {},
     "output_type": "execute_result"
    }
   ],
   "source": [
    "etf_data_adj_close.head()"
   ]
  },
  {
   "cell_type": "code",
   "execution_count": null,
   "metadata": {
    "collapsed": true
   },
   "outputs": [],
   "source": [
    "# this is the adjusted price for apple, microsoft, DJIA, S&P500 \n",
    "apple_msft_dji_sp = stock_data_adj_close[['AAPL','MSFT','^DJI','^GSPC']]  \n",
    "apple_msft_dji_sp.index = stock_data_adj_close['Date']"
   ]
  },
  {
   "cell_type": "code",
   "execution_count": null,
   "metadata": {
    "collapsed": true
   },
   "outputs": [],
   "source": [
    "apple_msft_dji_sp.tail()"
   ]
  },
  {
   "cell_type": "code",
   "execution_count": null,
   "metadata": {
    "collapsed": true
   },
   "outputs": [],
   "source": [
    "tickers = ['^GSPC','^DJI','AA','BAC','HPQ', 'MMM', 'AXP','AAPL','BA','CAT','CVX','CSCO','KO','DWDP','XOM','GE','GS','HD','IBM','INTC','JNJ','JPM',\n",
    "          'MCD','MRK','MSFT','NKE','PFE','PG','TRV','UNH','UTX','VZ','V','WMT','DIS']"
   ]
  },
  {
   "cell_type": "code",
   "execution_count": null,
   "metadata": {
    "collapsed": true
   },
   "outputs": [],
   "source": [
    "stock_data_adj_close.index = stock_data_adj_close['Date']"
   ]
  },
  {
   "cell_type": "code",
   "execution_count": null,
   "metadata": {
    "collapsed": true
   },
   "outputs": [],
   "source": [
    "for i in tickers:\n",
    "    stock_data_adj_close[[i]].plot(figsize=(13, 8))\n",
    "    plt.show()"
   ]
  },
  {
   "cell_type": "code",
   "execution_count": null,
   "metadata": {
    "collapsed": true
   },
   "outputs": [],
   "source": [
    "etf_data_adj_close.index = etf_data_adj_close['Date']"
   ]
  },
  {
   "cell_type": "code",
   "execution_count": null,
   "metadata": {
    "collapsed": true
   },
   "outputs": [],
   "source": [
    "etf_tickers = ['SPY','IVV','VTI','VOO','QQQ','AGG','IJH','IWM','IWF','BND','IWD','VTV','IJR','LQD','XLF','VUG','VNQ','DIA','VO','VB','IVW']\n",
    "for i in etf_tickers:\n",
    "    etf_data_adj_close[[i]].plot(figsize=(13, 8))\n",
    "    plt.show()"
   ]
  },
  {
   "cell_type": "code",
   "execution_count": null,
   "metadata": {
    "collapsed": true
   },
   "outputs": [],
   "source": [
    "apple_msft_dji_sp[['^GSPC']].plot(figsize=(13, 8))\n",
    "plt.show()"
   ]
  },
  {
   "cell_type": "code",
   "execution_count": null,
   "metadata": {
    "collapsed": true
   },
   "outputs": [],
   "source": [
    "apple_msft_dji_sp[['^DJI']].plot(figsize=(13, 8))\n",
    "plt.show()"
   ]
  },
  {
   "cell_type": "code",
   "execution_count": null,
   "metadata": {
    "collapsed": true
   },
   "outputs": [],
   "source": []
  },
  {
   "cell_type": "code",
   "execution_count": null,
   "metadata": {
    "collapsed": true
   },
   "outputs": [],
   "source": []
  },
  {
   "cell_type": "code",
   "execution_count": null,
   "metadata": {
    "collapsed": true
   },
   "outputs": [],
   "source": []
  },
  {
   "cell_type": "code",
   "execution_count": 74,
   "metadata": {},
   "outputs": [
    {
     "data": {
      "image/png": "[encoded data removed]",
      "text/plain": [
       "<matplotlib.figure.Figure at 0xb475ac8>"
      ]
     },
     "metadata": {},
     "output_type": "display_data"
    }
   ],
   "source": [
    "import pandas as pd\n",
    "import matplotlib.pyplot as plt\n",
    "from matplotlib.ticker import FuncFormatter\n",
    "\n",
    "sector_dir = {'Sectors':['Con. Disc.', 'Con. Stap.', 'Utilities', \n",
    "                        'Technology', 'Health Care', 'Financial', 'Energy' , 'Telecom', \n",
    "                        'Industrials', 'Material', 'Real Estate'],'Market_Cap':[5.59, 3.58, 1.24, 9.04, 4.96, 7.67, \n",
    "                                                                3.69, 1.69,4.21, 2.14, 1.13]}\n",
    "sector_importance = pd.DataFrame(data=sector_dir)\n",
    "\n",
    "#print(sector_importance)\n",
    "\n",
    "sector_importance['Weights'] = sector_importance['Market_Cap']/sector_importance['Market_Cap'].sum()\n",
    "\n",
    "sector_importance = sector_importance.sort_values(by='Weights', ascending=False)\n",
    " \n",
    "sector_importance['New_Weights'] = sector_importance['Weights'].apply(lambda x : \"{0:.2%}\".format(x))   \n",
    "    \n",
    "ax =  sector_importance.plot(x= 'Sectors' , y= 'Weights' , kind='bar',figsize=(10,6))\n",
    "\n",
    "ax.yaxis.set_major_formatter(FuncFormatter(lambda y, _: '{:.0%}'.format(y)))\n",
    "\n",
    " \n",
    "plt.title('Sector Weights in S&P 500')\n",
    "plt.xticks(rotation=45)\n",
    "plt.show()"
   ]
  },
  {
   "cell_type": "code",
   "execution_count": null,
   "metadata": {
    "collapsed": true
   },
   "outputs": [],
   "source": []
  },
  {
   "cell_type": "code",
   "execution_count": null,
   "metadata": {
    "collapsed": true
   },
   "outputs": [],
   "source": []
  },
  {
   "cell_type": "code",
   "execution_count": 148,
   "metadata": {},
   "outputs": [],
   "source": [
    "with gzip.open('ETFs_GSPC_MRP_Production.pkl.gz','r') as f:\n",
    "    ETFs_GSPC = cPickle.load(f)"
   ]
  },
  {
   "cell_type": "code",
   "execution_count": 149,
   "metadata": {},
   "outputs": [
    {
     "data": {
      "text/html": [
       "<div>\n",
       "<style>\n",
       "    .dataframe thead tr:only-child th {\n",
       "        text-align: right;\n",
       "    }\n",
       "\n",
       "    .dataframe thead th {\n",
       "        text-align: left;\n",
       "    }\n",
       "\n",
       "    .dataframe tbody tr th {\n",
       "        vertical-align: top;\n",
       "    }\n",
       "</style>\n",
       "<table border=\"1\" class=\"dataframe\">\n",
       "  <thead>\n",
       "    <tr style=\"text-align: right;\">\n",
       "      <th></th>\n",
       "      <th>XLK</th>\n",
       "      <th>VGT</th>\n",
       "      <th>IYW</th>\n",
       "      <th>RYT</th>\n",
       "      <th>IGM</th>\n",
       "      <th>XNTK</th>\n",
       "      <th>PNQI</th>\n",
       "      <th>XLF</th>\n",
       "      <th>VFH</th>\n",
       "      <th>KBE</th>\n",
       "      <th>...</th>\n",
       "      <th>VPU</th>\n",
       "      <th>IDU</th>\n",
       "      <th>RYU</th>\n",
       "      <th>PUI</th>\n",
       "      <th>VNQ</th>\n",
       "      <th>IYR</th>\n",
       "      <th>RWR</th>\n",
       "      <th>REM</th>\n",
       "      <th>USRT</th>\n",
       "      <th>Adj Close</th>\n",
       "    </tr>\n",
       "    <tr>\n",
       "      <th>Date</th>\n",
       "      <th></th>\n",
       "      <th></th>\n",
       "      <th></th>\n",
       "      <th></th>\n",
       "      <th></th>\n",
       "      <th></th>\n",
       "      <th></th>\n",
       "      <th></th>\n",
       "      <th></th>\n",
       "      <th></th>\n",
       "      <th></th>\n",
       "      <th></th>\n",
       "      <th></th>\n",
       "      <th></th>\n",
       "      <th></th>\n",
       "      <th></th>\n",
       "      <th></th>\n",
       "      <th></th>\n",
       "      <th></th>\n",
       "      <th></th>\n",
       "      <th></th>\n",
       "    </tr>\n",
       "  </thead>\n",
       "  <tbody>\n",
       "    <tr>\n",
       "      <th>2008-01-02</th>\n",
       "      <td>22.09874</td>\n",
       "      <td>53.268589</td>\n",
       "      <td>56.017902</td>\n",
       "      <td>45.235744</td>\n",
       "      <td>54.408684</td>\n",
       "      <td>27.862883</td>\n",
       "      <td>NaN</td>\n",
       "      <td>14.305944</td>\n",
       "      <td>41.652599</td>\n",
       "      <td>35.166389</td>\n",
       "      <td>...</td>\n",
       "      <td>59.947933</td>\n",
       "      <td>71.388649</td>\n",
       "      <td>41.737343</td>\n",
       "      <td>14.337612</td>\n",
       "      <td>40.162682</td>\n",
       "      <td>42.196808</td>\n",
       "      <td>47.435150</td>\n",
       "      <td>8.983622</td>\n",
       "      <td>34.976913</td>\n",
       "      <td>1447.160034</td>\n",
       "    </tr>\n",
       "    <tr>\n",
       "      <th>2008-01-03</th>\n",
       "      <td>22.13258</td>\n",
       "      <td>52.997772</td>\n",
       "      <td>55.789246</td>\n",
       "      <td>44.755886</td>\n",
       "      <td>54.259819</td>\n",
       "      <td>27.940943</td>\n",
       "      <td>NaN</td>\n",
       "      <td>14.215148</td>\n",
       "      <td>41.288517</td>\n",
       "      <td>35.025986</td>\n",
       "      <td>...</td>\n",
       "      <td>60.058559</td>\n",
       "      <td>71.592514</td>\n",
       "      <td>41.917027</td>\n",
       "      <td>14.271438</td>\n",
       "      <td>38.910671</td>\n",
       "      <td>40.830173</td>\n",
       "      <td>46.044064</td>\n",
       "      <td>8.910232</td>\n",
       "      <td>33.672215</td>\n",
       "      <td>1447.160034</td>\n",
       "    </tr>\n",
       "  </tbody>\n",
       "</table>\n",
       "<p>2 rows × 63 columns</p>\n",
       "</div>"
      ],
      "text/plain": [
       "                 XLK        VGT        IYW        RYT        IGM       XNTK  \\\n",
       "Date                                                                          \n",
       "2008-01-02  22.09874  53.268589  56.017902  45.235744  54.408684  27.862883   \n",
       "2008-01-03  22.13258  52.997772  55.789246  44.755886  54.259819  27.940943   \n",
       "\n",
       "            PNQI        XLF        VFH        KBE     ...             VPU  \\\n",
       "Date                                                  ...                   \n",
       "2008-01-02   NaN  14.305944  41.652599  35.166389     ...       59.947933   \n",
       "2008-01-03   NaN  14.215148  41.288517  35.025986     ...       60.058559   \n",
       "\n",
       "                  IDU        RYU        PUI        VNQ        IYR        RWR  \\\n",
       "Date                                                                           \n",
       "2008-01-02  71.388649  41.737343  14.337612  40.162682  42.196808  47.435150   \n",
       "2008-01-03  71.592514  41.917027  14.271438  38.910671  40.830173  46.044064   \n",
       "\n",
       "                 REM       USRT    Adj Close  \n",
       "Date                                          \n",
       "2008-01-02  8.983622  34.976913  1447.160034  \n",
       "2008-01-03  8.910232  33.672215  1447.160034  \n",
       "\n",
       "[2 rows x 63 columns]"
      ]
     },
     "execution_count": 149,
     "metadata": {},
     "output_type": "execute_result"
    }
   ],
   "source": [
    "ETFs_GSPC.head(2)"
   ]
  },
  {
   "cell_type": "code",
   "execution_count": 150,
   "metadata": {},
   "outputs": [],
   "source": [
    "SPX = ETFs_GSPC[['Adj Close']]"
   ]
  },
  {
   "cell_type": "code",
   "execution_count": 151,
   "metadata": {
    "scrolled": true
   },
   "outputs": [
    {
     "data": {
      "text/html": [
       "<div>\n",
       "<style>\n",
       "    .dataframe thead tr:only-child th {\n",
       "        text-align: right;\n",
       "    }\n",
       "\n",
       "    .dataframe thead th {\n",
       "        text-align: left;\n",
       "    }\n",
       "\n",
       "    .dataframe tbody tr th {\n",
       "        vertical-align: top;\n",
       "    }\n",
       "</style>\n",
       "<table border=\"1\" class=\"dataframe\">\n",
       "  <thead>\n",
       "    <tr style=\"text-align: right;\">\n",
       "      <th></th>\n",
       "      <th>Adj Close</th>\n",
       "    </tr>\n",
       "    <tr>\n",
       "      <th>Date</th>\n",
       "      <th></th>\n",
       "    </tr>\n",
       "  </thead>\n",
       "  <tbody>\n",
       "    <tr>\n",
       "      <th>2008-01-02</th>\n",
       "      <td>1447.160034</td>\n",
       "    </tr>\n",
       "    <tr>\n",
       "      <th>2008-01-03</th>\n",
       "      <td>1447.160034</td>\n",
       "    </tr>\n",
       "  </tbody>\n",
       "</table>\n",
       "</div>"
      ],
      "text/plain": [
       "              Adj Close\n",
       "Date                   \n",
       "2008-01-02  1447.160034\n",
       "2008-01-03  1447.160034"
      ]
     },
     "execution_count": 151,
     "metadata": {},
     "output_type": "execute_result"
    }
   ],
   "source": [
    "SPX.head(2)"
   ]
  },
  {
   "cell_type": "code",
   "execution_count": 152,
   "metadata": {
    "scrolled": true
   },
   "outputs": [],
   "source": [
    "SPX.rename(columns={'Adj Close':'SPX_Price'}, inplace=True)"
   ]
  },
  {
   "cell_type": "code",
   "execution_count": 153,
   "metadata": {},
   "outputs": [
    {
     "data": {
      "text/html": [
       "<div>\n",
       "<style>\n",
       "    .dataframe thead tr:only-child th {\n",
       "        text-align: right;\n",
       "    }\n",
       "\n",
       "    .dataframe thead th {\n",
       "        text-align: left;\n",
       "    }\n",
       "\n",
       "    .dataframe tbody tr th {\n",
       "        vertical-align: top;\n",
       "    }\n",
       "</style>\n",
       "<table border=\"1\" class=\"dataframe\">\n",
       "  <thead>\n",
       "    <tr style=\"text-align: right;\">\n",
       "      <th></th>\n",
       "      <th>Open</th>\n",
       "      <th>High</th>\n",
       "      <th>Low</th>\n",
       "      <th>Close</th>\n",
       "      <th>Adj Close</th>\n",
       "      <th>Volume</th>\n",
       "    </tr>\n",
       "    <tr>\n",
       "      <th>Date</th>\n",
       "      <th></th>\n",
       "      <th></th>\n",
       "      <th></th>\n",
       "      <th></th>\n",
       "      <th></th>\n",
       "      <th></th>\n",
       "    </tr>\n",
       "  </thead>\n",
       "  <tbody>\n",
       "    <tr>\n",
       "      <th>2008-01-02</th>\n",
       "      <td>2273.409912</td>\n",
       "      <td>2273.409912</td>\n",
       "      <td>2273.409912</td>\n",
       "      <td>2273.409912</td>\n",
       "      <td>2273.409912</td>\n",
       "      <td>0</td>\n",
       "    </tr>\n",
       "    <tr>\n",
       "      <th>2008-01-03</th>\n",
       "      <td>2273.409912</td>\n",
       "      <td>2273.409912</td>\n",
       "      <td>2273.409912</td>\n",
       "      <td>2273.409912</td>\n",
       "      <td>2273.409912</td>\n",
       "      <td>0</td>\n",
       "    </tr>\n",
       "  </tbody>\n",
       "</table>\n",
       "</div>"
      ],
      "text/plain": [
       "                   Open         High          Low        Close    Adj Close  \\\n",
       "Date                                                                          \n",
       "2008-01-02  2273.409912  2273.409912  2273.409912  2273.409912  2273.409912   \n",
       "2008-01-03  2273.409912  2273.409912  2273.409912  2273.409912  2273.409912   \n",
       "\n",
       "            Volume  \n",
       "Date                \n",
       "2008-01-02       0  \n",
       "2008-01-03       0  "
      ]
     },
     "execution_count": 153,
     "metadata": {},
     "output_type": "execute_result"
    }
   ],
   "source": [
    "# pickle.dump(ETFs_GSPC, open(\"ETFs_GSPC_MRP_Production.p\", \"w\"))\n",
    "with gzip.open('sptr.pkl.gz','r') as f:\n",
    "    SPTR = cPickle.load(f)\n",
    "\n",
    "SPTR.head(2)"
   ]
  },
  {
   "cell_type": "code",
   "execution_count": 154,
   "metadata": {},
   "outputs": [],
   "source": [
    "SPTR_closed  = SPTR[['Adj Close']].copy()"
   ]
  },
  {
   "cell_type": "code",
   "execution_count": 155,
   "metadata": {
    "scrolled": true
   },
   "outputs": [],
   "source": [
    "SPTR_closed.head(2)\n",
    "SPTR_closed.rename(columns={'Adj Close':'SPTR_Price'}, inplace=True)"
   ]
  },
  {
   "cell_type": "code",
   "execution_count": 156,
   "metadata": {
    "scrolled": true
   },
   "outputs": [],
   "source": [
    "SPX_SPTR = pd.concat([SPX, SPTR_closed], axis=1)"
   ]
  },
  {
   "cell_type": "code",
   "execution_count": 161,
   "metadata": {
    "scrolled": true
   },
   "outputs": [],
   "source": [
    "SPX_SPTR_price = SPX_SPTR.loc[\"2008-01\": \"2017-12-31\"].copy()"
   ]
  },
  {
   "cell_type": "code",
   "execution_count": 163,
   "metadata": {},
   "outputs": [
    {
     "data": {
      "text/html": [
       "<div>\n",
       "<style>\n",
       "    .dataframe thead tr:only-child th {\n",
       "        text-align: right;\n",
       "    }\n",
       "\n",
       "    .dataframe thead th {\n",
       "        text-align: left;\n",
       "    }\n",
       "\n",
       "    .dataframe tbody tr th {\n",
       "        vertical-align: top;\n",
       "    }\n",
       "</style>\n",
       "<table border=\"1\" class=\"dataframe\">\n",
       "  <thead>\n",
       "    <tr style=\"text-align: right;\">\n",
       "      <th></th>\n",
       "      <th>SPX_Price</th>\n",
       "      <th>SPTR_Price</th>\n",
       "    </tr>\n",
       "    <tr>\n",
       "      <th>Date</th>\n",
       "      <th></th>\n",
       "      <th></th>\n",
       "    </tr>\n",
       "  </thead>\n",
       "  <tbody>\n",
       "    <tr>\n",
       "      <th>2008-01-02</th>\n",
       "      <td>1447.160034</td>\n",
       "      <td>2273.409912</td>\n",
       "    </tr>\n",
       "    <tr>\n",
       "      <th>2008-01-03</th>\n",
       "      <td>1447.160034</td>\n",
       "      <td>2273.409912</td>\n",
       "    </tr>\n",
       "  </tbody>\n",
       "</table>\n",
       "</div>"
      ],
      "text/plain": [
       "              SPX_Price   SPTR_Price\n",
       "Date                                \n",
       "2008-01-02  1447.160034  2273.409912\n",
       "2008-01-03  1447.160034  2273.409912"
      ]
     },
     "execution_count": 163,
     "metadata": {},
     "output_type": "execute_result"
    }
   ],
   "source": [
    "SPX_SPTR_price.head(2)"
   ]
  },
  {
   "cell_type": "code",
   "execution_count": 164,
   "metadata": {},
   "outputs": [
    {
     "data": {
      "image/png": "[encoded data removed]",
      "text/plain": [
       "<matplotlib.figure.Figure at 0xd6e6668>"
      ]
     },
     "metadata": {},
     "output_type": "display_data"
    }
   ],
   "source": [
    "SPX_SPTR_price.plot()\n",
    "plt.show()"
   ]
  },
  {
   "cell_type": "code",
   "execution_count": 165,
   "metadata": {
    "collapsed": true
   },
   "outputs": [],
   "source": [
    "SPX_SPTR_price['SPX_log_price'] = np.log(SPX_SPTR_price[['SPX_Price']].copy())\n",
    "SPX_SPTR_price['SPX_Daily_Return'] = SPX_SPTR_price['SPX_log_price'].diff()\n",
    "SPX_SPTR_price['SPX_Daily_Return'][0] = 0\n",
    "SPX_SPTR_price['SPX_Cumsum Daily_Return'] = SPX_SPTR_price['SPX_Daily_Return'].cumsum()"
   ]
  },
  {
   "cell_type": "code",
   "execution_count": 166,
   "metadata": {
    "collapsed": true
   },
   "outputs": [],
   "source": [
    "SPX_SPTR_price['SPTR_log_price'] = np.log(SPX_SPTR_price[['SPTR_Price']].copy())\n",
    "SPX_SPTR_price['SPTR_Daily_Return'] = SPX_SPTR_price['SPTR_log_price'].diff()\n",
    "SPX_SPTR_price['SPTR_Daily_Return'][0] = 0\n",
    "SPX_SPTR_price['SPTR_Cumsum Daily_Return'] = SPX_SPTR_price['SPTR_Daily_Return'].cumsum()"
   ]
  },
  {
   "cell_type": "code",
   "execution_count": 168,
   "metadata": {},
   "outputs": [
    {
     "data": {
      "text/html": [
       "<div>\n",
       "<style>\n",
       "    .dataframe thead tr:only-child th {\n",
       "        text-align: right;\n",
       "    }\n",
       "\n",
       "    .dataframe thead th {\n",
       "        text-align: left;\n",
       "    }\n",
       "\n",
       "    .dataframe tbody tr th {\n",
       "        vertical-align: top;\n",
       "    }\n",
       "</style>\n",
       "<table border=\"1\" class=\"dataframe\">\n",
       "  <thead>\n",
       "    <tr style=\"text-align: right;\">\n",
       "      <th></th>\n",
       "      <th>SPX_Price</th>\n",
       "      <th>SPTR_Price</th>\n",
       "      <th>SPX_log_price</th>\n",
       "      <th>SPX_Daily_Return</th>\n",
       "      <th>SPX_Cumsum Daily_Return</th>\n",
       "      <th>SPTR_log_price</th>\n",
       "      <th>SPTR_Daily_Return</th>\n",
       "      <th>SPTR_Cumsum Daily_Return</th>\n",
       "    </tr>\n",
       "    <tr>\n",
       "      <th>Date</th>\n",
       "      <th></th>\n",
       "      <th></th>\n",
       "      <th></th>\n",
       "      <th></th>\n",
       "      <th></th>\n",
       "      <th></th>\n",
       "      <th></th>\n",
       "      <th></th>\n",
       "    </tr>\n",
       "  </thead>\n",
       "  <tbody>\n",
       "    <tr>\n",
       "      <th>2008-01-02</th>\n",
       "      <td>1447.160034</td>\n",
       "      <td>2273.409912</td>\n",
       "      <td>7.277358</td>\n",
       "      <td>0.000000</td>\n",
       "      <td>0.000000</td>\n",
       "      <td>7.729036</td>\n",
       "      <td>0.00000</td>\n",
       "      <td>0.00000</td>\n",
       "    </tr>\n",
       "    <tr>\n",
       "      <th>2008-01-03</th>\n",
       "      <td>1447.160034</td>\n",
       "      <td>2273.409912</td>\n",
       "      <td>7.277358</td>\n",
       "      <td>0.000000</td>\n",
       "      <td>0.000000</td>\n",
       "      <td>7.729036</td>\n",
       "      <td>0.00000</td>\n",
       "      <td>0.00000</td>\n",
       "    </tr>\n",
       "    <tr>\n",
       "      <th>2008-01-04</th>\n",
       "      <td>1411.630005</td>\n",
       "      <td>2217.590088</td>\n",
       "      <td>7.252500</td>\n",
       "      <td>-0.024858</td>\n",
       "      <td>-0.024858</td>\n",
       "      <td>7.704176</td>\n",
       "      <td>-0.02486</td>\n",
       "      <td>-0.02486</td>\n",
       "    </tr>\n",
       "  </tbody>\n",
       "</table>\n",
       "</div>"
      ],
      "text/plain": [
       "              SPX_Price   SPTR_Price  SPX_log_price  SPX_Daily_Return  \\\n",
       "Date                                                                    \n",
       "2008-01-02  1447.160034  2273.409912       7.277358          0.000000   \n",
       "2008-01-03  1447.160034  2273.409912       7.277358          0.000000   \n",
       "2008-01-04  1411.630005  2217.590088       7.252500         -0.024858   \n",
       "\n",
       "            SPX_Cumsum Daily_Return  SPTR_log_price  SPTR_Daily_Return  \\\n",
       "Date                                                                     \n",
       "2008-01-02                 0.000000        7.729036            0.00000   \n",
       "2008-01-03                 0.000000        7.729036            0.00000   \n",
       "2008-01-04                -0.024858        7.704176           -0.02486   \n",
       "\n",
       "            SPTR_Cumsum Daily_Return  \n",
       "Date                                  \n",
       "2008-01-02                   0.00000  \n",
       "2008-01-03                   0.00000  \n",
       "2008-01-04                  -0.02486  "
      ]
     },
     "execution_count": 168,
     "metadata": {},
     "output_type": "execute_result"
    }
   ],
   "source": [
    "SPX_SPTR_price.head(3)"
   ]
  },
  {
   "cell_type": "code",
   "execution_count": null,
   "metadata": {},
   "outputs": [],
   "source": [
    "SPX_SPTR_price['SPX_Price'].plot(kind='line',figsize=(20,5),label = 'SPX',style='r-')\n",
    "SPX_SPTR_price['SPTR_Price'].plot(kind='line',figsize=(20,5),label = 'SPTR',style='g-')\n",
    "plt.legend(loc='upper left')\n",
    "plt.xticks(SPX_SPTR_price.index)\n",
    "plt.title('Comparison between SPX and SPTR')\n",
    "plt.show()"
   ]
  },
  {
   "cell_type": "code",
   "execution_count": null,
   "metadata": {
    "collapsed": true
   },
   "outputs": [],
   "source": []
  }
 ],
 "metadata": {
  "kernelspec": {
   "display_name": "Python 2",
   "language": "python",
   "name": "python2"
  },
  "language_info": {
   "codemirror_mode": {
    "name": "ipython",
    "version": 2
   },
   "file_extension": ".py",
   "mimetype": "text/x-python",
   "name": "python",
   "nbconvert_exporter": "python",
   "pygments_lexer": "ipython2",
   "version": "2.7.14"
  }
 },
 "nbformat": 4,
 "nbformat_minor": 1
}
