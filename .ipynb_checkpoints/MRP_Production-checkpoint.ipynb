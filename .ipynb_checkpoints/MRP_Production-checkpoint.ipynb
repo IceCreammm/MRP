{
 "cells": [
  {
   "cell_type": "code",
   "execution_count": 1,
   "metadata": {},
   "outputs": [
    {
     "name": "stderr",
     "output_type": "stream",
     "text": [
      "C:\\Users\\Juntao\\Anaconda2\\lib\\site-packages\\statsmodels\\compat\\pandas.py:56: FutureWarning: The pandas.core.datetools module is deprecated and will be removed in a future version. Please use the pandas.tseries module instead.\n",
      "  from pandas.core import datetools\n"
     ]
    }
   ],
   "source": [
    "import pandas_datareader.data as web\n",
    "import pandas as pd\n",
    "import matplotlib.pyplot as plt\n",
    "import datetime as dt\n",
    "import numpy as np\n",
    "import gzip, cPickle\n",
    "\n",
    "from scipy import stats\n",
    "import statsmodels.api as sm\n",
    "import statsmodels.tsa as tsa \n",
    "from statsmodels.tsa.stattools import coint\n",
    "\n",
    "from statsmodels.formula.api import ols\n",
    "import statsmodels.formula.api as smf\n",
    "from sklearn.linear_model import LinearRegression\n",
    "from statsmodels.tsa.stattools import adfuller as ADF\n",
    "from sklearn.decomposition import PCA\n",
    "\n",
    "from itertools import combinations\n",
    "from tqdm import tqdm\n",
    "import pickle"
   ]
  },
  {
   "cell_type": "markdown",
   "metadata": {},
   "source": [
    "## This step is to download and load all the ETF data"
   ]
  },
  {
   "cell_type": "code",
   "execution_count": null,
   "metadata": {
    "collapsed": true
   },
   "outputs": [],
   "source": [
    "with gzip.open('etf_data.pkl.gz', 'r') as f:\n",
    "    etf_data = cPickle.load(f)"
   ]
  },
  {
   "cell_type": "code",
   "execution_count": null,
   "metadata": {},
   "outputs": [],
   "source": [
    "print etf_data.items"
   ]
  },
  {
   "cell_type": "code",
   "execution_count": null,
   "metadata": {
    "collapsed": true
   },
   "outputs": [],
   "source": [
    "etf_adj_close = etf_data['Adj Close']"
   ]
  },
  {
   "cell_type": "code",
   "execution_count": null,
   "metadata": {},
   "outputs": [],
   "source": [
    "etf_adj_close.head(10)"
   ]
  },
  {
   "cell_type": "code",
   "execution_count": null,
   "metadata": {},
   "outputs": [],
   "source": [
    "etf_adj_close.describe()"
   ]
  },
  {
   "cell_type": "markdown",
   "metadata": {},
   "source": [
    "## Load S&P 500 data"
   ]
  },
  {
   "cell_type": "code",
   "execution_count": null,
   "metadata": {
    "collapsed": true
   },
   "outputs": [],
   "source": [
    "with gzip.open('all_data.pkl.gz', 'r') as f:\n",
    "    stock_data = cPickle.load(f)\n",
    "\n",
    "stock_adj_close = stock_data['Adj Close']\n",
    "\n",
    "GSPC = stock_adj_close['^GSPC']\n",
    "\n",
    "GSPC.name = 'GSPC'"
   ]
  },
  {
   "cell_type": "code",
   "execution_count": null,
   "metadata": {
    "scrolled": true
   },
   "outputs": [],
   "source": [
    "GSPC.head(10)"
   ]
  },
  {
   "cell_type": "code",
   "execution_count": null,
   "metadata": {},
   "outputs": [],
   "source": [
    "GSPC.describe()"
   ]
  },
  {
   "cell_type": "code",
   "execution_count": null,
   "metadata": {
    "collapsed": true
   },
   "outputs": [],
   "source": [
    "etf_adj_close['GSPC'] = GSPC"
   ]
  },
  {
   "cell_type": "code",
   "execution_count": null,
   "metadata": {},
   "outputs": [],
   "source": [
    "etf_adj_close.describe()"
   ]
  },
  {
   "cell_type": "code",
   "execution_count": null,
   "metadata": {},
   "outputs": [],
   "source": [
    "for i in etf_adj_close.columns:\n",
    "\n",
    "    etf_adj_close[[i]].plot(figsize=(10,5))\n",
    "\n",
    "    plt.show()\n"
   ]
  },
  {
   "cell_type": "code",
   "execution_count": null,
   "metadata": {
    "collapsed": true
   },
   "outputs": [],
   "source": [
    "etf_adj_close_log = etf_adj_close.apply(np.log)"
   ]
  },
  {
   "cell_type": "code",
   "execution_count": null,
   "metadata": {
    "scrolled": true
   },
   "outputs": [],
   "source": [
    "etf_adj_close_log.head()"
   ]
  },
  {
   "cell_type": "code",
   "execution_count": null,
   "metadata": {
    "scrolled": true
   },
   "outputs": [],
   "source": [
    "etf_adj_close.head()"
   ]
  },
  {
   "cell_type": "code",
   "execution_count": null,
   "metadata": {},
   "outputs": [],
   "source": [
    "etf_adj_close_log.head()"
   ]
  },
  {
   "cell_type": "code",
   "execution_count": null,
   "metadata": {},
   "outputs": [],
   "source": [
    "for i in etf_adj_close_log.columns:\n",
    "\n",
    "    name = i+'_adj_closed_log'\n",
    "\n",
    "    print(name)\n",
    "\n",
    "    globals()[name] = etf_adj_close_log[[i]]\n",
    " "
   ]
  },
  {
   "cell_type": "code",
   "execution_count": null,
   "metadata": {},
   "outputs": [],
   "source": [
    "XLF_adj_closed_log.columns[0]"
   ]
  },
  {
   "cell_type": "code",
   "execution_count": null,
   "metadata": {
    "scrolled": true
   },
   "outputs": [],
   "source": [
    "plt.plot(XLF_adj_closed_log.index, XLF_adj_closed_log.values)\n",
    "plt.plot(GSPC_adj_closed_log.index, GSPC_adj_closed_log.values)\n",
    "plt.xlabel('Time')\n",
    "plt.ylabel('Series Value')\n",
    "plt.legend([XLF_adj_closed_log.columns[0], GSPC_adj_closed_log.columns[0]])\n",
    "plt.show()"
   ]
  },
  {
   "cell_type": "markdown",
   "metadata": {},
   "source": [
    "##  let's do the stationary test for log price of every ETF and GSPC in the dataframe "
   ]
  },
  {
   "cell_type": "code",
   "execution_count": null,
   "metadata": {},
   "outputs": [],
   "source": [
    "j = 0\n",
    "for i in etf_adj_close_log.columns:\n",
    "    etf = etf_adj_close_log[[i]].dropna(axis=0,how = 'any')\n",
    "    pvalue = ADF(etf.values.flatten())[1]\n",
    "    if pvalue < 0.01:\n",
    "        print(\"original %s is stationary, cause pvalues is %s less than 0.01\" % (i, pvalue))\n",
    "    else:\n",
    "        etf = etf.diff(1).dropna() \n",
    "        pvalue = ADF(etf.values.flatten())[1]\n",
    "        if pvalue < 0.01:\n",
    "            j+=1\n",
    "            print(\"%s is stationary in first difference , cause pvalues is %s less than 0.01\" % (i, pvalue))\n",
    "        else:\n",
    "            print(\"%s is not stationary in first difference, and the p-value is %s\" %(i,pvalue))\n",
    "\n",
    "\n",
    "print('\\n')            \n",
    "print(\"total number of assests is %s\"%(etf_adj_close_log.shape[1]))\n",
    "print('\\n')\n",
    "print (\"total number of Integration of order 1 is %s\"%(j))"
   ]
  },
  {
   "cell_type": "markdown",
   "metadata": {},
   "source": [
    "## From above, we can see every asset is integrated of order 1"
   ]
  },
  {
   "cell_type": "code",
   "execution_count": null,
   "metadata": {},
   "outputs": [],
   "source": [
    "a"
   ]
  },
  {
   "cell_type": "code",
   "execution_count": null,
   "metadata": {
    "scrolled": true
   },
   "outputs": [],
   "source": [
    "a[:-1]"
   ]
  },
  {
   "cell_type": "code",
   "execution_count": null,
   "metadata": {
    "scrolled": true
   },
   "outputs": [],
   "source": [
    "%%time\n",
    "m = 0\n",
    "n = 0\n",
    "for i in combinations(range(21), 16):\n",
    "    n+=1\n",
    "    columns = list(i)\n",
    "    columns.append(-1)\n",
    "    #GSPC_adj_closed_log\n",
    "    R_M = LinearRegression()\n",
    "    data = etf_adj_close_log.iloc[:,columns].dropna(axis=0,how = 'any')\n",
    "    X_part = data.iloc[:,:-1]\n",
    "    Y = data.iloc[:,-1]\n",
    "    R_M.fit(X_part,Y) \n",
    "    residual = Y - R_M.predict(X_part) \n",
    "    if (check_for_stationarity_no_print(residual.values.flatten()) and  sum(R_M.coef_ < 0) <=5 ):\n",
    "        m+=1\n",
    "        print (columns)\n",
    "        #print (data.head(10))\n",
    "    \n",
    "#     if n == 1000:\n",
    "#         break\n",
    "\n",
    "# X_part_constant = sm.add_constant(X_part)\n",
    "\n",
    "# sm_ols_results = sm.OLS(Y, X_part_constant).fit()\n",
    "\n",
    "# print(sm_ols_results.params)\n",
    "\n",
    "# print(sm_ols_results.summary())    "
   ]
  },
  {
   "cell_type": "code",
   "execution_count": null,
   "metadata": {
    "scrolled": true
   },
   "outputs": [],
   "source": [
    "m"
   ]
  },
  {
   "cell_type": "code",
   "execution_count": null,
   "metadata": {},
   "outputs": [],
   "source": [
    "n"
   ]
  },
  {
   "cell_type": "code",
   "execution_count": null,
   "metadata": {},
   "outputs": [],
   "source": [
    "sum(R_M.coef_ < 0) <=5"
   ]
  },
  {
   "cell_type": "code",
   "execution_count": null,
   "metadata": {
    "collapsed": true
   },
   "outputs": [],
   "source": [
    "columns = [ 2,7, 8, 12, 15, 19,  -1]"
   ]
  },
  {
   "cell_type": "code",
   "execution_count": null,
   "metadata": {
    "collapsed": true
   },
   "outputs": [],
   "source": [
    "data = etf_adj_close_log.iloc[:,columns].dropna(axis=0,how = 'any')\n",
    "X_part = data.iloc[:,:-1]\n",
    "Y = data.iloc[:,-1]\n",
    "R_M.fit(X_part,Y) \n",
    "residual = Y - R_M.predict(X_part) \n"
   ]
  },
  {
   "cell_type": "code",
   "execution_count": null,
   "metadata": {
    "collapsed": true
   },
   "outputs": [],
   "source": [
    "if (check_for_stationarity_no_print(residual.values.flatten()) and  sum(R_M.coef_ < 0) <=5 ):\n",
    "    print (columns)\n",
    " "
   ]
  },
  {
   "cell_type": "code",
   "execution_count": null,
   "metadata": {},
   "outputs": [],
   "source": [
    "data.head()"
   ]
  },
  {
   "cell_type": "code",
   "execution_count": null,
   "metadata": {},
   "outputs": [],
   "source": [
    "X_part_constant = sm.add_constant(X_part)\n",
    "\n",
    "sm_ols_results = sm.OLS(Y, X_part_constant).fit()\n",
    "\n",
    "print(sm_ols_results.params)\n",
    "\n",
    "print(sm_ols_results.summary())    "
   ]
  },
  {
   "cell_type": "code",
   "execution_count": null,
   "metadata": {
    "collapsed": true
   },
   "outputs": [],
   "source": []
  },
  {
   "cell_type": "code",
   "execution_count": null,
   "metadata": {
    "collapsed": true
   },
   "outputs": [],
   "source": [
    "(list(combinations(range(21), 16)))"
   ]
  },
  {
   "cell_type": "code",
   "execution_count": null,
   "metadata": {
    "collapsed": true
   },
   "outputs": [],
   "source": []
  },
  {
   "cell_type": "code",
   "execution_count": null,
   "metadata": {
    "collapsed": true
   },
   "outputs": [],
   "source": []
  },
  {
   "cell_type": "code",
   "execution_count": null,
   "metadata": {
    "collapsed": true
   },
   "outputs": [],
   "source": []
  },
  {
   "cell_type": "code",
   "execution_count": null,
   "metadata": {
    "collapsed": true
   },
   "outputs": [],
   "source": [
    "def check_for_stationarity(X, cutoff=0.01):\n",
    "    # H_0 in adfuller is unit root exists (non-stationary)\n",
    "    # We must observe significant p-value to convince ourselves that the series is stationary\n",
    "    pvalue = ADF(X)[1]\n",
    "    if pvalue < cutoff:\n",
    "        print 'p-value = ' + str(pvalue) + ' The series '  +' is likely stationary.'\n",
    "        return True\n",
    "    else:\n",
    "        print 'p-value = ' + str(pvalue) + ' The series '+' is likely non-stationary.'\n",
    "        return False"
   ]
  },
  {
   "cell_type": "code",
   "execution_count": null,
   "metadata": {
    "collapsed": true
   },
   "outputs": [],
   "source": [
    "def check_for_stationarity_no_print(X, cutoff=0.01):\n",
    "    # H_0 in adfuller is unit root exists (non-stationary)\n",
    "    # We must observe significant p-value to convince ourselves that the series is stationary\n",
    "    pvalue = ADF(X)[1]\n",
    "    if pvalue < cutoff:\n",
    "        #print 'p-value = ' + str(pvalue) + ' The series '  +' is likely stationary.'\n",
    "        return True\n",
    "    else:\n",
    "        #print 'p-value = ' + str(pvalue) + ' The series '+' is likely non-stationary.'\n",
    "        return False"
   ]
  },
  {
   "cell_type": "code",
   "execution_count": null,
   "metadata": {
    "collapsed": true
   },
   "outputs": [],
   "source": [
    " for i in etf_adj_close_log.columns:\n",
    "    etf = etf_adj_close_log[[i]].dropna(axis=0,how = 'any')\n",
    "    if check_for_stationarity_no_print(etf.values.flatten()):\n",
    "        print \"great\""
   ]
  },
  {
   "cell_type": "code",
   "execution_count": null,
   "metadata": {
    "collapsed": true
   },
   "outputs": [],
   "source": []
  },
  {
   "cell_type": "code",
   "execution_count": null,
   "metadata": {
    "collapsed": true
   },
   "outputs": [],
   "source": []
  },
  {
   "cell_type": "markdown",
   "metadata": {},
   "source": [
    "# Load useful ETFs dataset\n"
   ]
  },
  {
   "cell_type": "code",
   "execution_count": 3,
   "metadata": {},
   "outputs": [],
   "source": [
    "tickers = '''XLK,VGT,IYW,RYT,IGM,XNTK,PNQI,XLF,VFH,KBE,IYF,FTXO,RYF,XLY,VCR,IYC,XRT,RCD,JHMC,RXI,XLV,IBB,VHT,\\n\n",
    "IYH,RYH,PSCH,XLI,VIS,IYJ,RGI,PSCI,XLE,VDE,IYE,RYE,FXN,XLP,VDC,IYK,RHS,PSCC,FXG,XLB,VAW,IYM,RTM,XME,PSCM,\\n\n",
    "VOX,IXP,IYZ,XTL,XLU,VPU,IDU,RYU,PUI,VNQ,IYR,RWR,REM,USRT'''.replace('\\n', '').split(',')"
   ]
  },
  {
   "cell_type": "code",
   "execution_count": 7,
   "metadata": {
    "scrolled": true
   },
   "outputs": [
    {
     "name": "stdout",
     "output_type": "stream",
     "text": [
      "XLK\n",
      "VGT\n",
      "IYW\n",
      "RYT\n",
      "IGM\n",
      "XNTK\n",
      "PNQI\n",
      "XLF\n",
      "VFH\n",
      "KBE\n",
      "IYF\n",
      "FTXO\n",
      "RYF\n",
      "XLY\n",
      "VCR\n",
      "IYC\n",
      "XRT\n",
      "RCD\n",
      "JHMC\n",
      "RXI\n",
      "XLV\n",
      "IBB\n",
      "VHT\n",
      "IYH\n",
      "RYH\n",
      "PSCH\n",
      "XLI\n",
      "VIS\n",
      "IYJ\n",
      "RGI\n",
      "PSCI\n",
      "XLE\n",
      "VDE\n",
      "IYE\n",
      "RYE\n",
      "FXN\n",
      "XLP\n",
      "VDC\n",
      "IYK\n",
      "RHS\n",
      "PSCC\n",
      "FXG\n",
      "XLB\n",
      "VAW\n",
      "IYM\n",
      "RTM\n",
      "XME\n",
      "PSCM\n",
      "VOX\n",
      "IXP\n",
      "IYZ\n",
      "XTL\n",
      "XLU\n",
      "VPU\n",
      "IDU\n",
      "RYU\n",
      "PUI\n",
      "VNQ\n",
      "IYR\n",
      "RWR\n",
      "REM\n",
      "USRT\n",
      "Wall time: 1min 24s\n"
     ]
    }
   ],
   "source": [
    "%%time\n",
    "X = pd.DataFrame()\n",
    "start_date = '2008-01-01'\n",
    "end_date = '2018-01-31'\n",
    "data_source = 'yahoo'\n",
    "# User pandas_reader.data.DataReader to load the desired data. As simple as that.\n",
    "for i in tickers:\n",
    "    print i\n",
    "    etf_data= web.DataReader(i, data_source, start_date, end_date)\n",
    "    new_col = etf_data[['Adj Close']]\n",
    "    new_col.columns = [i]\n",
    "    X =  pd.concat([X, new_col], axis=1)\n",
    " "
   ]
  },
  {
   "cell_type": "code",
   "execution_count": 8,
   "metadata": {
    "scrolled": false
   },
   "outputs": [
    {
     "data": {
      "text/html": [
       "<div>\n",
       "<style>\n",
       "    .dataframe thead tr:only-child th {\n",
       "        text-align: right;\n",
       "    }\n",
       "\n",
       "    .dataframe thead th {\n",
       "        text-align: left;\n",
       "    }\n",
       "\n",
       "    .dataframe tbody tr th {\n",
       "        vertical-align: top;\n",
       "    }\n",
       "</style>\n",
       "<table border=\"1\" class=\"dataframe\">\n",
       "  <thead>\n",
       "    <tr style=\"text-align: right;\">\n",
       "      <th></th>\n",
       "      <th>XLK</th>\n",
       "      <th>VGT</th>\n",
       "      <th>IYW</th>\n",
       "      <th>RYT</th>\n",
       "      <th>IGM</th>\n",
       "      <th>XNTK</th>\n",
       "      <th>PNQI</th>\n",
       "      <th>XLF</th>\n",
       "      <th>VFH</th>\n",
       "      <th>KBE</th>\n",
       "      <th>...</th>\n",
       "      <th>XLU</th>\n",
       "      <th>VPU</th>\n",
       "      <th>IDU</th>\n",
       "      <th>RYU</th>\n",
       "      <th>PUI</th>\n",
       "      <th>VNQ</th>\n",
       "      <th>IYR</th>\n",
       "      <th>RWR</th>\n",
       "      <th>REM</th>\n",
       "      <th>USRT</th>\n",
       "    </tr>\n",
       "  </thead>\n",
       "  <tbody>\n",
       "    <tr>\n",
       "      <th>count</th>\n",
       "      <td>2539.000000</td>\n",
       "      <td>2539.000000</td>\n",
       "      <td>2539.000000</td>\n",
       "      <td>2539.000000</td>\n",
       "      <td>2539.000000</td>\n",
       "      <td>2539.000000</td>\n",
       "      <td>2426.000000</td>\n",
       "      <td>2539.000000</td>\n",
       "      <td>2539.000000</td>\n",
       "      <td>2539.000000</td>\n",
       "      <td>...</td>\n",
       "      <td>2539.000000</td>\n",
       "      <td>2539.000000</td>\n",
       "      <td>2539.000000</td>\n",
       "      <td>2539.000000</td>\n",
       "      <td>2539.000000</td>\n",
       "      <td>2539.000000</td>\n",
       "      <td>2539.000000</td>\n",
       "      <td>2539.000000</td>\n",
       "      <td>2539.000000</td>\n",
       "      <td>2539.000000</td>\n",
       "    </tr>\n",
       "    <tr>\n",
       "      <th>mean</th>\n",
       "      <td>31.033891</td>\n",
       "      <td>78.453770</td>\n",
       "      <td>79.580924</td>\n",
       "      <td>67.526666</td>\n",
       "      <td>79.506773</td>\n",
       "      <td>39.649748</td>\n",
       "      <td>54.114116</td>\n",
       "      <td>12.191615</td>\n",
       "      <td>37.399142</td>\n",
       "      <td>27.467912</td>\n",
       "      <td>...</td>\n",
       "      <td>33.068583</td>\n",
       "      <td>71.792485</td>\n",
       "      <td>83.055987</td>\n",
       "      <td>53.631753</td>\n",
       "      <td>17.270943</td>\n",
       "      <td>54.955805</td>\n",
       "      <td>53.069948</td>\n",
       "      <td>62.202999</td>\n",
       "      <td>11.302242</td>\n",
       "      <td>35.553237</td>\n",
       "    </tr>\n",
       "    <tr>\n",
       "      <th>std</th>\n",
       "      <td>12.873570</td>\n",
       "      <td>33.615734</td>\n",
       "      <td>32.280497</td>\n",
       "      <td>30.125554</td>\n",
       "      <td>34.649616</td>\n",
       "      <td>16.656107</td>\n",
       "      <td>27.684691</td>\n",
       "      <td>5.485809</td>\n",
       "      <td>12.831701</td>\n",
       "      <td>8.329898</td>\n",
       "      <td>...</td>\n",
       "      <td>10.090868</td>\n",
       "      <td>22.655300</td>\n",
       "      <td>25.648892</td>\n",
       "      <td>17.853500</td>\n",
       "      <td>5.337037</td>\n",
       "      <td>18.516407</td>\n",
       "      <td>16.554852</td>\n",
       "      <td>20.678466</td>\n",
       "      <td>11.399748</td>\n",
       "      <td>8.746054</td>\n",
       "    </tr>\n",
       "    <tr>\n",
       "      <th>min</th>\n",
       "      <td>11.232627</td>\n",
       "      <td>26.422161</td>\n",
       "      <td>27.657465</td>\n",
       "      <td>21.362898</td>\n",
       "      <td>26.796688</td>\n",
       "      <td>13.219791</td>\n",
       "      <td>10.342249</td>\n",
       "      <td>3.248616</td>\n",
       "      <td>11.427440</td>\n",
       "      <td>8.020460</td>\n",
       "      <td>...</td>\n",
       "      <td>15.998307</td>\n",
       "      <td>33.620232</td>\n",
       "      <td>38.856316</td>\n",
       "      <td>22.919846</td>\n",
       "      <td>8.691051</td>\n",
       "      <td>14.731371</td>\n",
       "      <td>15.262321</td>\n",
       "      <td>16.558020</td>\n",
       "      <td>3.651316</td>\n",
       "      <td>12.073025</td>\n",
       "    </tr>\n",
       "    <tr>\n",
       "      <th>25%</th>\n",
       "      <td>20.393621</td>\n",
       "      <td>51.026533</td>\n",
       "      <td>53.721485</td>\n",
       "      <td>44.027443</td>\n",
       "      <td>51.729323</td>\n",
       "      <td>26.880414</td>\n",
       "      <td>33.347125</td>\n",
       "      <td>8.078525</td>\n",
       "      <td>26.765634</td>\n",
       "      <td>20.670477</td>\n",
       "      <td>...</td>\n",
       "      <td>24.538982</td>\n",
       "      <td>53.324600</td>\n",
       "      <td>62.179296</td>\n",
       "      <td>38.672664</td>\n",
       "      <td>13.027029</td>\n",
       "      <td>40.876322</td>\n",
       "      <td>41.247883</td>\n",
       "      <td>47.042633</td>\n",
       "      <td>6.206017</td>\n",
       "      <td>30.365754</td>\n",
       "    </tr>\n",
       "    <tr>\n",
       "      <th>50%</th>\n",
       "      <td>27.401344</td>\n",
       "      <td>67.765488</td>\n",
       "      <td>69.821785</td>\n",
       "      <td>55.404766</td>\n",
       "      <td>67.321465</td>\n",
       "      <td>33.607441</td>\n",
       "      <td>45.439407</td>\n",
       "      <td>11.274132</td>\n",
       "      <td>36.700890</td>\n",
       "      <td>27.721994</td>\n",
       "      <td>...</td>\n",
       "      <td>30.505804</td>\n",
       "      <td>65.844437</td>\n",
       "      <td>76.199463</td>\n",
       "      <td>50.212456</td>\n",
       "      <td>15.402087</td>\n",
       "      <td>54.629917</td>\n",
       "      <td>52.701633</td>\n",
       "      <td>61.355957</td>\n",
       "      <td>7.478841</td>\n",
       "      <td>35.682888</td>\n",
       "    </tr>\n",
       "    <tr>\n",
       "      <th>75%</th>\n",
       "      <td>40.124239</td>\n",
       "      <td>102.304467</td>\n",
       "      <td>101.938072</td>\n",
       "      <td>88.396828</td>\n",
       "      <td>102.833638</td>\n",
       "      <td>49.783630</td>\n",
       "      <td>73.382893</td>\n",
       "      <td>14.055587</td>\n",
       "      <td>45.912468</td>\n",
       "      <td>32.146971</td>\n",
       "      <td>...</td>\n",
       "      <td>40.305985</td>\n",
       "      <td>87.753300</td>\n",
       "      <td>101.399803</td>\n",
       "      <td>67.672875</td>\n",
       "      <td>20.751143</td>\n",
       "      <td>71.261330</td>\n",
       "      <td>67.277321</td>\n",
       "      <td>81.350853</td>\n",
       "      <td>8.472324</td>\n",
       "      <td>42.151798</td>\n",
       "    </tr>\n",
       "    <tr>\n",
       "      <th>max</th>\n",
       "      <td>68.974213</td>\n",
       "      <td>178.819473</td>\n",
       "      <td>176.210236</td>\n",
       "      <td>156.476532</td>\n",
       "      <td>185.877365</td>\n",
       "      <td>93.399139</td>\n",
       "      <td>131.339996</td>\n",
       "      <td>30.060575</td>\n",
       "      <td>74.873703</td>\n",
       "      <td>50.999210</td>\n",
       "      <td>...</td>\n",
       "      <td>55.910404</td>\n",
       "      <td>122.984840</td>\n",
       "      <td>140.489136</td>\n",
       "      <td>89.373810</td>\n",
       "      <td>29.459372</td>\n",
       "      <td>86.875267</td>\n",
       "      <td>81.375084</td>\n",
       "      <td>97.824753</td>\n",
       "      <td>45.119091</td>\n",
       "      <td>50.352188</td>\n",
       "    </tr>\n",
       "  </tbody>\n",
       "</table>\n",
       "<p>8 rows × 62 columns</p>\n",
       "</div>"
      ],
      "text/plain": [
       "               XLK          VGT          IYW          RYT          IGM  \\\n",
       "count  2539.000000  2539.000000  2539.000000  2539.000000  2539.000000   \n",
       "mean     31.033891    78.453770    79.580924    67.526666    79.506773   \n",
       "std      12.873570    33.615734    32.280497    30.125554    34.649616   \n",
       "min      11.232627    26.422161    27.657465    21.362898    26.796688   \n",
       "25%      20.393621    51.026533    53.721485    44.027443    51.729323   \n",
       "50%      27.401344    67.765488    69.821785    55.404766    67.321465   \n",
       "75%      40.124239   102.304467   101.938072    88.396828   102.833638   \n",
       "max      68.974213   178.819473   176.210236   156.476532   185.877365   \n",
       "\n",
       "              XNTK         PNQI          XLF          VFH          KBE  \\\n",
       "count  2539.000000  2426.000000  2539.000000  2539.000000  2539.000000   \n",
       "mean     39.649748    54.114116    12.191615    37.399142    27.467912   \n",
       "std      16.656107    27.684691     5.485809    12.831701     8.329898   \n",
       "min      13.219791    10.342249     3.248616    11.427440     8.020460   \n",
       "25%      26.880414    33.347125     8.078525    26.765634    20.670477   \n",
       "50%      33.607441    45.439407    11.274132    36.700890    27.721994   \n",
       "75%      49.783630    73.382893    14.055587    45.912468    32.146971   \n",
       "max      93.399139   131.339996    30.060575    74.873703    50.999210   \n",
       "\n",
       "          ...               XLU          VPU          IDU          RYU  \\\n",
       "count     ...       2539.000000  2539.000000  2539.000000  2539.000000   \n",
       "mean      ...         33.068583    71.792485    83.055987    53.631753   \n",
       "std       ...         10.090868    22.655300    25.648892    17.853500   \n",
       "min       ...         15.998307    33.620232    38.856316    22.919846   \n",
       "25%       ...         24.538982    53.324600    62.179296    38.672664   \n",
       "50%       ...         30.505804    65.844437    76.199463    50.212456   \n",
       "75%       ...         40.305985    87.753300   101.399803    67.672875   \n",
       "max       ...         55.910404   122.984840   140.489136    89.373810   \n",
       "\n",
       "               PUI          VNQ          IYR          RWR          REM  \\\n",
       "count  2539.000000  2539.000000  2539.000000  2539.000000  2539.000000   \n",
       "mean     17.270943    54.955805    53.069948    62.202999    11.302242   \n",
       "std       5.337037    18.516407    16.554852    20.678466    11.399748   \n",
       "min       8.691051    14.731371    15.262321    16.558020     3.651316   \n",
       "25%      13.027029    40.876322    41.247883    47.042633     6.206017   \n",
       "50%      15.402087    54.629917    52.701633    61.355957     7.478841   \n",
       "75%      20.751143    71.261330    67.277321    81.350853     8.472324   \n",
       "max      29.459372    86.875267    81.375084    97.824753    45.119091   \n",
       "\n",
       "              USRT  \n",
       "count  2539.000000  \n",
       "mean     35.553237  \n",
       "std       8.746054  \n",
       "min      12.073025  \n",
       "25%      30.365754  \n",
       "50%      35.682888  \n",
       "75%      42.151798  \n",
       "max      50.352188  \n",
       "\n",
       "[8 rows x 62 columns]"
      ]
     },
     "execution_count": 8,
     "metadata": {},
     "output_type": "execute_result"
    }
   ],
   "source": [
    "X.describe()"
   ]
  },
  {
   "cell_type": "code",
   "execution_count": 11,
   "metadata": {
    "collapsed": true
   },
   "outputs": [
    {
     "data": {
      "text/html": [
       "<div>\n",
       "<style>\n",
       "    .dataframe thead tr:only-child th {\n",
       "        text-align: right;\n",
       "    }\n",
       "\n",
       "    .dataframe thead th {\n",
       "        text-align: left;\n",
       "    }\n",
       "\n",
       "    .dataframe tbody tr th {\n",
       "        vertical-align: top;\n",
       "    }\n",
       "</style>\n",
       "<table border=\"1\" class=\"dataframe\">\n",
       "  <thead>\n",
       "    <tr style=\"text-align: right;\">\n",
       "      <th></th>\n",
       "      <th>XLK</th>\n",
       "      <th>VGT</th>\n",
       "      <th>IYW</th>\n",
       "      <th>RYT</th>\n",
       "      <th>IGM</th>\n",
       "      <th>XNTK</th>\n",
       "      <th>PNQI</th>\n",
       "      <th>XLF</th>\n",
       "      <th>VFH</th>\n",
       "      <th>KBE</th>\n",
       "      <th>...</th>\n",
       "      <th>XLU</th>\n",
       "      <th>VPU</th>\n",
       "      <th>IDU</th>\n",
       "      <th>RYU</th>\n",
       "      <th>PUI</th>\n",
       "      <th>VNQ</th>\n",
       "      <th>IYR</th>\n",
       "      <th>RWR</th>\n",
       "      <th>REM</th>\n",
       "      <th>USRT</th>\n",
       "    </tr>\n",
       "    <tr>\n",
       "      <th>Date</th>\n",
       "      <th></th>\n",
       "      <th></th>\n",
       "      <th></th>\n",
       "      <th></th>\n",
       "      <th></th>\n",
       "      <th></th>\n",
       "      <th></th>\n",
       "      <th></th>\n",
       "      <th></th>\n",
       "      <th></th>\n",
       "      <th></th>\n",
       "      <th></th>\n",
       "      <th></th>\n",
       "      <th></th>\n",
       "      <th></th>\n",
       "      <th></th>\n",
       "      <th></th>\n",
       "      <th></th>\n",
       "      <th></th>\n",
       "      <th></th>\n",
       "      <th></th>\n",
       "    </tr>\n",
       "  </thead>\n",
       "  <tbody>\n",
       "    <tr>\n",
       "      <th>2008-01-02</th>\n",
       "      <td>22.098740</td>\n",
       "      <td>53.268589</td>\n",
       "      <td>56.017902</td>\n",
       "      <td>45.235744</td>\n",
       "      <td>54.408684</td>\n",
       "      <td>27.862883</td>\n",
       "      <td>NaN</td>\n",
       "      <td>14.305944</td>\n",
       "      <td>41.652599</td>\n",
       "      <td>35.166389</td>\n",
       "      <td>...</td>\n",
       "      <td>28.566296</td>\n",
       "      <td>59.947933</td>\n",
       "      <td>71.388649</td>\n",
       "      <td>41.737343</td>\n",
       "      <td>14.337612</td>\n",
       "      <td>40.162682</td>\n",
       "      <td>42.196808</td>\n",
       "      <td>47.435150</td>\n",
       "      <td>8.983622</td>\n",
       "      <td>34.976913</td>\n",
       "    </tr>\n",
       "    <tr>\n",
       "      <th>2008-01-03</th>\n",
       "      <td>22.132580</td>\n",
       "      <td>52.997772</td>\n",
       "      <td>55.789246</td>\n",
       "      <td>44.755886</td>\n",
       "      <td>54.259819</td>\n",
       "      <td>27.940943</td>\n",
       "      <td>NaN</td>\n",
       "      <td>14.215148</td>\n",
       "      <td>41.288517</td>\n",
       "      <td>35.025986</td>\n",
       "      <td>...</td>\n",
       "      <td>28.525572</td>\n",
       "      <td>60.058559</td>\n",
       "      <td>71.592514</td>\n",
       "      <td>41.917027</td>\n",
       "      <td>14.271438</td>\n",
       "      <td>38.910671</td>\n",
       "      <td>40.830173</td>\n",
       "      <td>46.044064</td>\n",
       "      <td>8.910232</td>\n",
       "      <td>33.672215</td>\n",
       "    </tr>\n",
       "    <tr>\n",
       "      <th>2008-01-04</th>\n",
       "      <td>21.269606</td>\n",
       "      <td>50.750046</td>\n",
       "      <td>53.393055</td>\n",
       "      <td>42.910275</td>\n",
       "      <td>51.757092</td>\n",
       "      <td>26.646067</td>\n",
       "      <td>NaN</td>\n",
       "      <td>13.811594</td>\n",
       "      <td>40.147667</td>\n",
       "      <td>33.836712</td>\n",
       "      <td>...</td>\n",
       "      <td>28.742760</td>\n",
       "      <td>59.899540</td>\n",
       "      <td>71.543304</td>\n",
       "      <td>41.633671</td>\n",
       "      <td>14.278792</td>\n",
       "      <td>37.330921</td>\n",
       "      <td>39.534801</td>\n",
       "      <td>44.102032</td>\n",
       "      <td>8.794044</td>\n",
       "      <td>32.376438</td>\n",
       "    </tr>\n",
       "    <tr>\n",
       "      <th>2008-01-07</th>\n",
       "      <td>21.083485</td>\n",
       "      <td>50.280647</td>\n",
       "      <td>52.890045</td>\n",
       "      <td>42.310459</td>\n",
       "      <td>51.347736</td>\n",
       "      <td>26.297098</td>\n",
       "      <td>NaN</td>\n",
       "      <td>13.846903</td>\n",
       "      <td>40.333759</td>\n",
       "      <td>34.150543</td>\n",
       "      <td>...</td>\n",
       "      <td>29.340000</td>\n",
       "      <td>60.985104</td>\n",
       "      <td>72.815964</td>\n",
       "      <td>42.158928</td>\n",
       "      <td>14.558186</td>\n",
       "      <td>37.678326</td>\n",
       "      <td>39.903980</td>\n",
       "      <td>44.398148</td>\n",
       "      <td>8.888833</td>\n",
       "      <td>32.447933</td>\n",
       "    </tr>\n",
       "    <tr>\n",
       "      <th>2008-01-08</th>\n",
       "      <td>20.525089</td>\n",
       "      <td>48.737019</td>\n",
       "      <td>51.298668</td>\n",
       "      <td>41.396889</td>\n",
       "      <td>49.868423</td>\n",
       "      <td>25.723120</td>\n",
       "      <td>NaN</td>\n",
       "      <td>13.342463</td>\n",
       "      <td>38.836933</td>\n",
       "      <td>32.705246</td>\n",
       "      <td>...</td>\n",
       "      <td>29.346796</td>\n",
       "      <td>60.950520</td>\n",
       "      <td>72.717522</td>\n",
       "      <td>42.158928</td>\n",
       "      <td>14.455253</td>\n",
       "      <td>36.373859</td>\n",
       "      <td>38.453159</td>\n",
       "      <td>42.951958</td>\n",
       "      <td>8.757350</td>\n",
       "      <td>31.482798</td>\n",
       "    </tr>\n",
       "  </tbody>\n",
       "</table>\n",
       "<p>5 rows × 62 columns</p>\n",
       "</div>"
      ],
      "text/plain": [
       "                  XLK        VGT        IYW        RYT        IGM       XNTK  \\\n",
       "Date                                                                           \n",
       "2008-01-02  22.098740  53.268589  56.017902  45.235744  54.408684  27.862883   \n",
       "2008-01-03  22.132580  52.997772  55.789246  44.755886  54.259819  27.940943   \n",
       "2008-01-04  21.269606  50.750046  53.393055  42.910275  51.757092  26.646067   \n",
       "2008-01-07  21.083485  50.280647  52.890045  42.310459  51.347736  26.297098   \n",
       "2008-01-08  20.525089  48.737019  51.298668  41.396889  49.868423  25.723120   \n",
       "\n",
       "            PNQI        XLF        VFH        KBE    ...            XLU  \\\n",
       "Date                                                 ...                  \n",
       "2008-01-02   NaN  14.305944  41.652599  35.166389    ...      28.566296   \n",
       "2008-01-03   NaN  14.215148  41.288517  35.025986    ...      28.525572   \n",
       "2008-01-04   NaN  13.811594  40.147667  33.836712    ...      28.742760   \n",
       "2008-01-07   NaN  13.846903  40.333759  34.150543    ...      29.340000   \n",
       "2008-01-08   NaN  13.342463  38.836933  32.705246    ...      29.346796   \n",
       "\n",
       "                  VPU        IDU        RYU        PUI        VNQ        IYR  \\\n",
       "Date                                                                           \n",
       "2008-01-02  59.947933  71.388649  41.737343  14.337612  40.162682  42.196808   \n",
       "2008-01-03  60.058559  71.592514  41.917027  14.271438  38.910671  40.830173   \n",
       "2008-01-04  59.899540  71.543304  41.633671  14.278792  37.330921  39.534801   \n",
       "2008-01-07  60.985104  72.815964  42.158928  14.558186  37.678326  39.903980   \n",
       "2008-01-08  60.950520  72.717522  42.158928  14.455253  36.373859  38.453159   \n",
       "\n",
       "                  RWR       REM       USRT  \n",
       "Date                                        \n",
       "2008-01-02  47.435150  8.983622  34.976913  \n",
       "2008-01-03  46.044064  8.910232  33.672215  \n",
       "2008-01-04  44.102032  8.794044  32.376438  \n",
       "2008-01-07  44.398148  8.888833  32.447933  \n",
       "2008-01-08  42.951958  8.757350  31.482798  \n",
       "\n",
       "[5 rows x 62 columns]"
      ]
     },
     "execution_count": 11,
     "metadata": {},
     "output_type": "execute_result"
    }
   ],
   "source": [
    "X.head()"
   ]
  },
  {
   "cell_type": "code",
   "execution_count": 15,
   "metadata": {
    "collapsed": true
   },
   "outputs": [],
   "source": [
    "pickle.dump(ETFs_GSPC, open(\"ETFs_GSPC_MRP_Production.p\", \"w\"))"
   ]
  },
  {
   "cell_type": "code",
   "execution_count": 13,
   "metadata": {
    "collapsed": true
   },
   "outputs": [],
   "source": [
    "ETFs_GSPC = pd.concat((X,GSPC), axis=1)"
   ]
  },
  {
   "cell_type": "code",
   "execution_count": 14,
   "metadata": {},
   "outputs": [
    {
     "data": {
      "text/plain": [
       "(2539, 63)"
      ]
     },
     "execution_count": 14,
     "metadata": {},
     "output_type": "execute_result"
    }
   ],
   "source": [
    "ETFs_GSPC.shape"
   ]
  },
  {
   "cell_type": "code",
   "execution_count": 9,
   "metadata": {
    "collapsed": true
   },
   "outputs": [],
   "source": [
    "GSPC = web.DataReader(\"^GSPC\", \"yahoo\",start_date,end_date)\n",
    "GSPC = GSPC[['Adj Close']]"
   ]
  },
  {
   "cell_type": "code",
   "execution_count": 10,
   "metadata": {
    "scrolled": true
   },
   "outputs": [
    {
     "data": {
      "text/html": [
       "<div>\n",
       "<style>\n",
       "    .dataframe thead tr:only-child th {\n",
       "        text-align: right;\n",
       "    }\n",
       "\n",
       "    .dataframe thead th {\n",
       "        text-align: left;\n",
       "    }\n",
       "\n",
       "    .dataframe tbody tr th {\n",
       "        vertical-align: top;\n",
       "    }\n",
       "</style>\n",
       "<table border=\"1\" class=\"dataframe\">\n",
       "  <thead>\n",
       "    <tr style=\"text-align: right;\">\n",
       "      <th></th>\n",
       "      <th>Adj Close</th>\n",
       "    </tr>\n",
       "    <tr>\n",
       "      <th>Date</th>\n",
       "      <th></th>\n",
       "    </tr>\n",
       "  </thead>\n",
       "  <tbody>\n",
       "    <tr>\n",
       "      <th>2008-01-02</th>\n",
       "      <td>1447.160034</td>\n",
       "    </tr>\n",
       "    <tr>\n",
       "      <th>2008-01-03</th>\n",
       "      <td>1447.160034</td>\n",
       "    </tr>\n",
       "    <tr>\n",
       "      <th>2008-01-04</th>\n",
       "      <td>1411.630005</td>\n",
       "    </tr>\n",
       "    <tr>\n",
       "      <th>2008-01-07</th>\n",
       "      <td>1416.180054</td>\n",
       "    </tr>\n",
       "    <tr>\n",
       "      <th>2008-01-08</th>\n",
       "      <td>1390.189941</td>\n",
       "    </tr>\n",
       "  </tbody>\n",
       "</table>\n",
       "</div>"
      ],
      "text/plain": [
       "              Adj Close\n",
       "Date                   \n",
       "2008-01-02  1447.160034\n",
       "2008-01-03  1447.160034\n",
       "2008-01-04  1411.630005\n",
       "2008-01-07  1416.180054\n",
       "2008-01-08  1390.189941"
      ]
     },
     "execution_count": 10,
     "metadata": {},
     "output_type": "execute_result"
    }
   ],
   "source": [
    "GSPC.head()"
   ]
  },
  {
   "cell_type": "code",
   "execution_count": null,
   "metadata": {},
   "outputs": [],
   "source": []
  },
  {
   "cell_type": "code",
   "execution_count": null,
   "metadata": {},
   "outputs": [],
   "source": [
    "import pandas_datareader as pdr\n",
    "pdr.get_data_yahoo('XLF').head()\n"
   ]
  },
  {
   "cell_type": "code",
   "execution_count": null,
   "metadata": {},
   "outputs": [],
   "source": [
    "X_log.head()"
   ]
  },
  {
   "cell_type": "code",
   "execution_count": null,
   "metadata": {},
   "outputs": [],
   "source": [
    "X_log = X.apply(np.log)\n",
    "\n",
    "X_constant = sm.add_constant(X_log)\n",
    "\n",
    "GSPC_log = np.log(GSPC)\n",
    "\n",
    "sm_ols_results = sm.OLS(GSPC_log, X_constant).fit()\n",
    "\n",
    "print(sm_ols_results.params)\n",
    "\n",
    "print(sm_ols_results.summary())    "
   ]
  },
  {
   "cell_type": "code",
   "execution_count": null,
   "metadata": {},
   "outputs": [],
   "source": [
    "ADF(sm_ols_results.resid.values.flatten())"
   ]
  },
  {
   "cell_type": "code",
   "execution_count": null,
   "metadata": {
    "collapsed": true
   },
   "outputs": [],
   "source": []
  }
 ],
 "metadata": {
  "kernelspec": {
   "display_name": "Python 2",
   "language": "python",
   "name": "python2"
  },
  "language_info": {
   "codemirror_mode": {
    "name": "ipython",
    "version": 2
   },
   "file_extension": ".py",
   "mimetype": "text/x-python",
   "name": "python",
   "nbconvert_exporter": "python",
   "pygments_lexer": "ipython2",
   "version": "2.7.14"
  }
 },
 "nbformat": 4,
 "nbformat_minor": 2
}
