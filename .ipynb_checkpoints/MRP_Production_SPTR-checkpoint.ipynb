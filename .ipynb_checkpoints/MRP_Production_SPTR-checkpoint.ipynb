{
 "cells": [
  {
   "cell_type": "code",
   "execution_count": 1,
   "metadata": {},
   "outputs": [
    {
     "name": "stderr",
     "output_type": "stream",
     "text": [
      "C:\\Users\\Juntao\\Anaconda2\\lib\\site-packages\\statsmodels\\compat\\pandas.py:56: FutureWarning: The pandas.core.datetools module is deprecated and will be removed in a future version. Please use the pandas.tseries module instead.\n",
      "  from pandas.core import datetools\n"
     ]
    }
   ],
   "source": [
    "import pandas_datareader.data as web\n",
    "import pandas as pd\n",
    "import matplotlib.pyplot as plt\n",
    "import datetime as dt\n",
    "import numpy as np\n",
    "import gzip, cPickle\n",
    "from tqdm import tqdm \n",
    "\n",
    "from scipy import stats\n",
    "import statsmodels.api as sm\n",
    "import statsmodels.tsa as tsa \n",
    "from statsmodels.tsa.stattools import coint\n",
    "\n",
    "from statsmodels.formula.api import ols\n",
    "import statsmodels.formula.api as smf\n",
    "from sklearn.linear_model import LinearRegression\n",
    "from sklearn.linear_model import Lasso\n",
    "from sklearn.linear_model import LassoLars\n",
    "from statsmodels.tsa.stattools import adfuller as ADF\n",
    "from sklearn.decomposition import PCA\n",
    "from sklearn.metrics import r2_score\n",
    "from sklearn.metrics import mean_squared_error\n",
    "from itertools import combinations\n",
    "from tqdm import tqdm\n",
    "import pickle\n",
    "from datetime import datetime as dt\n",
    "import math"
   ]
  },
  {
   "cell_type": "markdown",
   "metadata": {},
   "source": [
    "## This step is to download and load all the ETF data"
   ]
  },
  {
   "cell_type": "code",
   "execution_count": 2,
   "metadata": {
    "collapsed": true
   },
   "outputs": [],
   "source": [
    "# pickle.dump(ETFs_GSPC, open(\"ETFs_GSPC_MRP_Production.p\", \"w\"))\n",
    "with gzip.open('ETFs_GSPC_MRP_Production.pkl.gz','r') as f:\n",
    "    ETFs_GSPC = cPickle.load(f)"
   ]
  },
  {
   "cell_type": "code",
   "execution_count": 4,
   "metadata": {
    "collapsed": true
   },
   "outputs": [],
   "source": [
    "All_ETFs = ETFs_GSPC.iloc[:, :-1]"
   ]
  },
  {
   "cell_type": "code",
   "execution_count": 5,
   "metadata": {},
   "outputs": [
    {
     "data": {
      "text/html": [
       "<div>\n",
       "<style scoped>\n",
       "    .dataframe tbody tr th:only-of-type {\n",
       "        vertical-align: middle;\n",
       "    }\n",
       "\n",
       "    .dataframe tbody tr th {\n",
       "        vertical-align: top;\n",
       "    }\n",
       "\n",
       "    .dataframe thead th {\n",
       "        text-align: right;\n",
       "    }\n",
       "</style>\n",
       "<table border=\"1\" class=\"dataframe\">\n",
       "  <thead>\n",
       "    <tr style=\"text-align: right;\">\n",
       "      <th></th>\n",
       "      <th>XLK</th>\n",
       "      <th>VGT</th>\n",
       "      <th>IYW</th>\n",
       "      <th>RYT</th>\n",
       "      <th>IGM</th>\n",
       "      <th>XNTK</th>\n",
       "      <th>PNQI</th>\n",
       "      <th>XLF</th>\n",
       "      <th>VFH</th>\n",
       "      <th>KBE</th>\n",
       "      <th>...</th>\n",
       "      <th>XLU</th>\n",
       "      <th>VPU</th>\n",
       "      <th>IDU</th>\n",
       "      <th>RYU</th>\n",
       "      <th>PUI</th>\n",
       "      <th>VNQ</th>\n",
       "      <th>IYR</th>\n",
       "      <th>RWR</th>\n",
       "      <th>REM</th>\n",
       "      <th>USRT</th>\n",
       "    </tr>\n",
       "    <tr>\n",
       "      <th>Date</th>\n",
       "      <th></th>\n",
       "      <th></th>\n",
       "      <th></th>\n",
       "      <th></th>\n",
       "      <th></th>\n",
       "      <th></th>\n",
       "      <th></th>\n",
       "      <th></th>\n",
       "      <th></th>\n",
       "      <th></th>\n",
       "      <th></th>\n",
       "      <th></th>\n",
       "      <th></th>\n",
       "      <th></th>\n",
       "      <th></th>\n",
       "      <th></th>\n",
       "      <th></th>\n",
       "      <th></th>\n",
       "      <th></th>\n",
       "      <th></th>\n",
       "      <th></th>\n",
       "    </tr>\n",
       "  </thead>\n",
       "  <tbody>\n",
       "    <tr>\n",
       "      <th>2008-01-02</th>\n",
       "      <td>22.098740</td>\n",
       "      <td>53.268589</td>\n",
       "      <td>56.017902</td>\n",
       "      <td>45.235744</td>\n",
       "      <td>54.408684</td>\n",
       "      <td>27.862883</td>\n",
       "      <td>NaN</td>\n",
       "      <td>14.305944</td>\n",
       "      <td>41.652599</td>\n",
       "      <td>35.166389</td>\n",
       "      <td>...</td>\n",
       "      <td>28.566296</td>\n",
       "      <td>59.947933</td>\n",
       "      <td>71.388649</td>\n",
       "      <td>41.737343</td>\n",
       "      <td>14.337612</td>\n",
       "      <td>40.162682</td>\n",
       "      <td>42.196808</td>\n",
       "      <td>47.435150</td>\n",
       "      <td>8.983622</td>\n",
       "      <td>34.976913</td>\n",
       "    </tr>\n",
       "    <tr>\n",
       "      <th>2008-01-03</th>\n",
       "      <td>22.132580</td>\n",
       "      <td>52.997772</td>\n",
       "      <td>55.789246</td>\n",
       "      <td>44.755886</td>\n",
       "      <td>54.259819</td>\n",
       "      <td>27.940943</td>\n",
       "      <td>NaN</td>\n",
       "      <td>14.215148</td>\n",
       "      <td>41.288517</td>\n",
       "      <td>35.025986</td>\n",
       "      <td>...</td>\n",
       "      <td>28.525572</td>\n",
       "      <td>60.058559</td>\n",
       "      <td>71.592514</td>\n",
       "      <td>41.917027</td>\n",
       "      <td>14.271438</td>\n",
       "      <td>38.910671</td>\n",
       "      <td>40.830173</td>\n",
       "      <td>46.044064</td>\n",
       "      <td>8.910232</td>\n",
       "      <td>33.672215</td>\n",
       "    </tr>\n",
       "    <tr>\n",
       "      <th>2008-01-04</th>\n",
       "      <td>21.269606</td>\n",
       "      <td>50.750046</td>\n",
       "      <td>53.393055</td>\n",
       "      <td>42.910275</td>\n",
       "      <td>51.757092</td>\n",
       "      <td>26.646067</td>\n",
       "      <td>NaN</td>\n",
       "      <td>13.811594</td>\n",
       "      <td>40.147667</td>\n",
       "      <td>33.836712</td>\n",
       "      <td>...</td>\n",
       "      <td>28.742760</td>\n",
       "      <td>59.899540</td>\n",
       "      <td>71.543304</td>\n",
       "      <td>41.633671</td>\n",
       "      <td>14.278792</td>\n",
       "      <td>37.330921</td>\n",
       "      <td>39.534801</td>\n",
       "      <td>44.102032</td>\n",
       "      <td>8.794044</td>\n",
       "      <td>32.376438</td>\n",
       "    </tr>\n",
       "    <tr>\n",
       "      <th>2008-01-07</th>\n",
       "      <td>21.083485</td>\n",
       "      <td>50.280647</td>\n",
       "      <td>52.890045</td>\n",
       "      <td>42.310459</td>\n",
       "      <td>51.347736</td>\n",
       "      <td>26.297098</td>\n",
       "      <td>NaN</td>\n",
       "      <td>13.846903</td>\n",
       "      <td>40.333759</td>\n",
       "      <td>34.150543</td>\n",
       "      <td>...</td>\n",
       "      <td>29.340000</td>\n",
       "      <td>60.985104</td>\n",
       "      <td>72.815964</td>\n",
       "      <td>42.158928</td>\n",
       "      <td>14.558186</td>\n",
       "      <td>37.678326</td>\n",
       "      <td>39.903980</td>\n",
       "      <td>44.398148</td>\n",
       "      <td>8.888833</td>\n",
       "      <td>32.447933</td>\n",
       "    </tr>\n",
       "    <tr>\n",
       "      <th>2008-01-08</th>\n",
       "      <td>20.525089</td>\n",
       "      <td>48.737019</td>\n",
       "      <td>51.298668</td>\n",
       "      <td>41.396889</td>\n",
       "      <td>49.868423</td>\n",
       "      <td>25.723120</td>\n",
       "      <td>NaN</td>\n",
       "      <td>13.342463</td>\n",
       "      <td>38.836933</td>\n",
       "      <td>32.705246</td>\n",
       "      <td>...</td>\n",
       "      <td>29.346796</td>\n",
       "      <td>60.950520</td>\n",
       "      <td>72.717522</td>\n",
       "      <td>42.158928</td>\n",
       "      <td>14.455253</td>\n",
       "      <td>36.373859</td>\n",
       "      <td>38.453159</td>\n",
       "      <td>42.951958</td>\n",
       "      <td>8.757350</td>\n",
       "      <td>31.482798</td>\n",
       "    </tr>\n",
       "  </tbody>\n",
       "</table>\n",
       "<p>5 rows × 62 columns</p>\n",
       "</div>"
      ],
      "text/plain": [
       "                  XLK        VGT        IYW        RYT        IGM       XNTK  \\\n",
       "Date                                                                           \n",
       "2008-01-02  22.098740  53.268589  56.017902  45.235744  54.408684  27.862883   \n",
       "2008-01-03  22.132580  52.997772  55.789246  44.755886  54.259819  27.940943   \n",
       "2008-01-04  21.269606  50.750046  53.393055  42.910275  51.757092  26.646067   \n",
       "2008-01-07  21.083485  50.280647  52.890045  42.310459  51.347736  26.297098   \n",
       "2008-01-08  20.525089  48.737019  51.298668  41.396889  49.868423  25.723120   \n",
       "\n",
       "            PNQI        XLF        VFH        KBE    ...            XLU  \\\n",
       "Date                                                 ...                  \n",
       "2008-01-02   NaN  14.305944  41.652599  35.166389    ...      28.566296   \n",
       "2008-01-03   NaN  14.215148  41.288517  35.025986    ...      28.525572   \n",
       "2008-01-04   NaN  13.811594  40.147667  33.836712    ...      28.742760   \n",
       "2008-01-07   NaN  13.846903  40.333759  34.150543    ...      29.340000   \n",
       "2008-01-08   NaN  13.342463  38.836933  32.705246    ...      29.346796   \n",
       "\n",
       "                  VPU        IDU        RYU        PUI        VNQ        IYR  \\\n",
       "Date                                                                           \n",
       "2008-01-02  59.947933  71.388649  41.737343  14.337612  40.162682  42.196808   \n",
       "2008-01-03  60.058559  71.592514  41.917027  14.271438  38.910671  40.830173   \n",
       "2008-01-04  59.899540  71.543304  41.633671  14.278792  37.330921  39.534801   \n",
       "2008-01-07  60.985104  72.815964  42.158928  14.558186  37.678326  39.903980   \n",
       "2008-01-08  60.950520  72.717522  42.158928  14.455253  36.373859  38.453159   \n",
       "\n",
       "                  RWR       REM       USRT  \n",
       "Date                                        \n",
       "2008-01-02  47.435150  8.983622  34.976913  \n",
       "2008-01-03  46.044064  8.910232  33.672215  \n",
       "2008-01-04  44.102032  8.794044  32.376438  \n",
       "2008-01-07  44.398148  8.888833  32.447933  \n",
       "2008-01-08  42.951958  8.757350  31.482798  \n",
       "\n",
       "[5 rows x 62 columns]"
      ]
     },
     "execution_count": 5,
     "metadata": {},
     "output_type": "execute_result"
    }
   ],
   "source": [
    "All_ETFs.head(5)"
   ]
  },
  {
   "cell_type": "code",
   "execution_count": 6,
   "metadata": {
    "collapsed": true
   },
   "outputs": [],
   "source": [
    "GSPC = pd.DataFrame(ETFs_GSPC.iloc[:, -1])"
   ]
  },
  {
   "cell_type": "code",
   "execution_count": 7,
   "metadata": {},
   "outputs": [
    {
     "data": {
      "text/html": [
       "<div>\n",
       "<style scoped>\n",
       "    .dataframe tbody tr th:only-of-type {\n",
       "        vertical-align: middle;\n",
       "    }\n",
       "\n",
       "    .dataframe tbody tr th {\n",
       "        vertical-align: top;\n",
       "    }\n",
       "\n",
       "    .dataframe thead th {\n",
       "        text-align: right;\n",
       "    }\n",
       "</style>\n",
       "<table border=\"1\" class=\"dataframe\">\n",
       "  <thead>\n",
       "    <tr style=\"text-align: right;\">\n",
       "      <th></th>\n",
       "      <th>Adj Close</th>\n",
       "    </tr>\n",
       "    <tr>\n",
       "      <th>Date</th>\n",
       "      <th></th>\n",
       "    </tr>\n",
       "  </thead>\n",
       "  <tbody>\n",
       "    <tr>\n",
       "      <th>2008-01-02</th>\n",
       "      <td>1447.160034</td>\n",
       "    </tr>\n",
       "    <tr>\n",
       "      <th>2008-01-03</th>\n",
       "      <td>1447.160034</td>\n",
       "    </tr>\n",
       "    <tr>\n",
       "      <th>2008-01-04</th>\n",
       "      <td>1411.630005</td>\n",
       "    </tr>\n",
       "    <tr>\n",
       "      <th>2008-01-07</th>\n",
       "      <td>1416.180054</td>\n",
       "    </tr>\n",
       "    <tr>\n",
       "      <th>2008-01-08</th>\n",
       "      <td>1390.189941</td>\n",
       "    </tr>\n",
       "  </tbody>\n",
       "</table>\n",
       "</div>"
      ],
      "text/plain": [
       "              Adj Close\n",
       "Date                   \n",
       "2008-01-02  1447.160034\n",
       "2008-01-03  1447.160034\n",
       "2008-01-04  1411.630005\n",
       "2008-01-07  1416.180054\n",
       "2008-01-08  1390.189941"
      ]
     },
     "execution_count": 7,
     "metadata": {},
     "output_type": "execute_result"
    }
   ],
   "source": [
    "GSPC.head(5)"
   ]
  },
  {
   "cell_type": "code",
   "execution_count": 8,
   "metadata": {},
   "outputs": [
    {
     "data": {
      "text/html": [
       "<div>\n",
       "<style scoped>\n",
       "    .dataframe tbody tr th:only-of-type {\n",
       "        vertical-align: middle;\n",
       "    }\n",
       "\n",
       "    .dataframe tbody tr th {\n",
       "        vertical-align: top;\n",
       "    }\n",
       "\n",
       "    .dataframe thead th {\n",
       "        text-align: right;\n",
       "    }\n",
       "</style>\n",
       "<table border=\"1\" class=\"dataframe\">\n",
       "  <thead>\n",
       "    <tr style=\"text-align: right;\">\n",
       "      <th></th>\n",
       "      <th>XLK</th>\n",
       "      <th>VGT</th>\n",
       "      <th>IYW</th>\n",
       "      <th>RYT</th>\n",
       "      <th>IGM</th>\n",
       "      <th>XNTK</th>\n",
       "      <th>PNQI</th>\n",
       "      <th>XLF</th>\n",
       "      <th>VFH</th>\n",
       "      <th>KBE</th>\n",
       "      <th>...</th>\n",
       "      <th>XLU</th>\n",
       "      <th>VPU</th>\n",
       "      <th>IDU</th>\n",
       "      <th>RYU</th>\n",
       "      <th>PUI</th>\n",
       "      <th>VNQ</th>\n",
       "      <th>IYR</th>\n",
       "      <th>RWR</th>\n",
       "      <th>REM</th>\n",
       "      <th>USRT</th>\n",
       "    </tr>\n",
       "    <tr>\n",
       "      <th>Date</th>\n",
       "      <th></th>\n",
       "      <th></th>\n",
       "      <th></th>\n",
       "      <th></th>\n",
       "      <th></th>\n",
       "      <th></th>\n",
       "      <th></th>\n",
       "      <th></th>\n",
       "      <th></th>\n",
       "      <th></th>\n",
       "      <th></th>\n",
       "      <th></th>\n",
       "      <th></th>\n",
       "      <th></th>\n",
       "      <th></th>\n",
       "      <th></th>\n",
       "      <th></th>\n",
       "      <th></th>\n",
       "      <th></th>\n",
       "      <th></th>\n",
       "      <th></th>\n",
       "    </tr>\n",
       "  </thead>\n",
       "  <tbody>\n",
       "    <tr>\n",
       "      <th>2008-01-02</th>\n",
       "      <td>3.095521</td>\n",
       "      <td>3.975347</td>\n",
       "      <td>4.025671</td>\n",
       "      <td>3.811888</td>\n",
       "      <td>3.996524</td>\n",
       "      <td>3.327295</td>\n",
       "      <td>NaN</td>\n",
       "      <td>2.660675</td>\n",
       "      <td>3.729364</td>\n",
       "      <td>3.560091</td>\n",
       "      <td>...</td>\n",
       "      <td>3.352228</td>\n",
       "      <td>4.093476</td>\n",
       "      <td>4.268139</td>\n",
       "      <td>3.731396</td>\n",
       "      <td>2.662886</td>\n",
       "      <td>3.692938</td>\n",
       "      <td>3.742345</td>\n",
       "      <td>3.859364</td>\n",
       "      <td>2.195403</td>\n",
       "      <td>3.554688</td>\n",
       "    </tr>\n",
       "    <tr>\n",
       "      <th>2008-01-03</th>\n",
       "      <td>3.097051</td>\n",
       "      <td>3.970250</td>\n",
       "      <td>4.021581</td>\n",
       "      <td>3.801223</td>\n",
       "      <td>3.993784</td>\n",
       "      <td>3.330093</td>\n",
       "      <td>NaN</td>\n",
       "      <td>2.654308</td>\n",
       "      <td>3.720584</td>\n",
       "      <td>3.556090</td>\n",
       "      <td>...</td>\n",
       "      <td>3.350801</td>\n",
       "      <td>4.095320</td>\n",
       "      <td>4.270991</td>\n",
       "      <td>3.735692</td>\n",
       "      <td>2.658260</td>\n",
       "      <td>3.661269</td>\n",
       "      <td>3.709421</td>\n",
       "      <td>3.829599</td>\n",
       "      <td>2.187200</td>\n",
       "      <td>3.516673</td>\n",
       "    </tr>\n",
       "    <tr>\n",
       "      <th>2008-01-04</th>\n",
       "      <td>3.057279</td>\n",
       "      <td>3.926913</td>\n",
       "      <td>3.977681</td>\n",
       "      <td>3.759111</td>\n",
       "      <td>3.946561</td>\n",
       "      <td>3.282642</td>\n",
       "      <td>NaN</td>\n",
       "      <td>2.625508</td>\n",
       "      <td>3.692564</td>\n",
       "      <td>3.521546</td>\n",
       "      <td>...</td>\n",
       "      <td>3.358386</td>\n",
       "      <td>4.092669</td>\n",
       "      <td>4.270303</td>\n",
       "      <td>3.728909</td>\n",
       "      <td>2.658775</td>\n",
       "      <td>3.619822</td>\n",
       "      <td>3.677181</td>\n",
       "      <td>3.786506</td>\n",
       "      <td>2.174075</td>\n",
       "      <td>3.477431</td>\n",
       "    </tr>\n",
       "    <tr>\n",
       "      <th>2008-01-07</th>\n",
       "      <td>3.048490</td>\n",
       "      <td>3.917620</td>\n",
       "      <td>3.968215</td>\n",
       "      <td>3.745034</td>\n",
       "      <td>3.938621</td>\n",
       "      <td>3.269459</td>\n",
       "      <td>NaN</td>\n",
       "      <td>2.628062</td>\n",
       "      <td>3.697189</td>\n",
       "      <td>3.530778</td>\n",
       "      <td>...</td>\n",
       "      <td>3.378952</td>\n",
       "      <td>4.110630</td>\n",
       "      <td>4.287935</td>\n",
       "      <td>3.741446</td>\n",
       "      <td>2.678153</td>\n",
       "      <td>3.629085</td>\n",
       "      <td>3.686476</td>\n",
       "      <td>3.793198</td>\n",
       "      <td>2.184796</td>\n",
       "      <td>3.479637</td>\n",
       "    </tr>\n",
       "    <tr>\n",
       "      <th>2008-01-08</th>\n",
       "      <td>3.021648</td>\n",
       "      <td>3.886439</td>\n",
       "      <td>3.937665</td>\n",
       "      <td>3.723206</td>\n",
       "      <td>3.909388</td>\n",
       "      <td>3.247390</td>\n",
       "      <td>NaN</td>\n",
       "      <td>2.590952</td>\n",
       "      <td>3.659372</td>\n",
       "      <td>3.487535</td>\n",
       "      <td>...</td>\n",
       "      <td>3.379183</td>\n",
       "      <td>4.110062</td>\n",
       "      <td>4.286582</td>\n",
       "      <td>3.741446</td>\n",
       "      <td>2.671058</td>\n",
       "      <td>3.593850</td>\n",
       "      <td>3.649441</td>\n",
       "      <td>3.760082</td>\n",
       "      <td>2.169893</td>\n",
       "      <td>3.449441</td>\n",
       "    </tr>\n",
       "  </tbody>\n",
       "</table>\n",
       "<p>5 rows × 62 columns</p>\n",
       "</div>"
      ],
      "text/plain": [
       "                 XLK       VGT       IYW       RYT       IGM      XNTK  PNQI  \\\n",
       "Date                                                                           \n",
       "2008-01-02  3.095521  3.975347  4.025671  3.811888  3.996524  3.327295   NaN   \n",
       "2008-01-03  3.097051  3.970250  4.021581  3.801223  3.993784  3.330093   NaN   \n",
       "2008-01-04  3.057279  3.926913  3.977681  3.759111  3.946561  3.282642   NaN   \n",
       "2008-01-07  3.048490  3.917620  3.968215  3.745034  3.938621  3.269459   NaN   \n",
       "2008-01-08  3.021648  3.886439  3.937665  3.723206  3.909388  3.247390   NaN   \n",
       "\n",
       "                 XLF       VFH       KBE    ...          XLU       VPU  \\\n",
       "Date                                        ...                          \n",
       "2008-01-02  2.660675  3.729364  3.560091    ...     3.352228  4.093476   \n",
       "2008-01-03  2.654308  3.720584  3.556090    ...     3.350801  4.095320   \n",
       "2008-01-04  2.625508  3.692564  3.521546    ...     3.358386  4.092669   \n",
       "2008-01-07  2.628062  3.697189  3.530778    ...     3.378952  4.110630   \n",
       "2008-01-08  2.590952  3.659372  3.487535    ...     3.379183  4.110062   \n",
       "\n",
       "                 IDU       RYU       PUI       VNQ       IYR       RWR  \\\n",
       "Date                                                                     \n",
       "2008-01-02  4.268139  3.731396  2.662886  3.692938  3.742345  3.859364   \n",
       "2008-01-03  4.270991  3.735692  2.658260  3.661269  3.709421  3.829599   \n",
       "2008-01-04  4.270303  3.728909  2.658775  3.619822  3.677181  3.786506   \n",
       "2008-01-07  4.287935  3.741446  2.678153  3.629085  3.686476  3.793198   \n",
       "2008-01-08  4.286582  3.741446  2.671058  3.593850  3.649441  3.760082   \n",
       "\n",
       "                 REM      USRT  \n",
       "Date                            \n",
       "2008-01-02  2.195403  3.554688  \n",
       "2008-01-03  2.187200  3.516673  \n",
       "2008-01-04  2.174075  3.477431  \n",
       "2008-01-07  2.184796  3.479637  \n",
       "2008-01-08  2.169893  3.449441  \n",
       "\n",
       "[5 rows x 62 columns]"
      ]
     },
     "execution_count": 8,
     "metadata": {},
     "output_type": "execute_result"
    }
   ],
   "source": [
    "All_ETFs_log = All_ETFs.apply(np.log)\n",
    "All_ETFs_log.head()"
   ]
  },
  {
   "cell_type": "code",
   "execution_count": 43,
   "metadata": {
    "collapsed": true
   },
   "outputs": [],
   "source": [
    "All_ETFs_log.drop(['RYF','FTXO','PNQI', 'JHMC','PSCH','PSCI','PSCC','PSCM','XTL','REM','RYF','XLF'], axis=1, inplace=True) # 51Z ETFs left"
   ]
  },
  {
   "cell_type": "code",
   "execution_count": 44,
   "metadata": {},
   "outputs": [
    {
     "data": {
      "text/html": [
       "<div>\n",
       "<style scoped>\n",
       "    .dataframe tbody tr th:only-of-type {\n",
       "        vertical-align: middle;\n",
       "    }\n",
       "\n",
       "    .dataframe tbody tr th {\n",
       "        vertical-align: top;\n",
       "    }\n",
       "\n",
       "    .dataframe thead th {\n",
       "        text-align: right;\n",
       "    }\n",
       "</style>\n",
       "<table border=\"1\" class=\"dataframe\">\n",
       "  <thead>\n",
       "    <tr style=\"text-align: right;\">\n",
       "      <th></th>\n",
       "      <th>XLK</th>\n",
       "      <th>VGT</th>\n",
       "      <th>IYW</th>\n",
       "      <th>RYT</th>\n",
       "      <th>IGM</th>\n",
       "      <th>XNTK</th>\n",
       "      <th>VFH</th>\n",
       "      <th>KBE</th>\n",
       "      <th>IYF</th>\n",
       "      <th>XLY</th>\n",
       "      <th>...</th>\n",
       "      <th>IYZ</th>\n",
       "      <th>XLU</th>\n",
       "      <th>VPU</th>\n",
       "      <th>IDU</th>\n",
       "      <th>RYU</th>\n",
       "      <th>PUI</th>\n",
       "      <th>VNQ</th>\n",
       "      <th>IYR</th>\n",
       "      <th>RWR</th>\n",
       "      <th>USRT</th>\n",
       "    </tr>\n",
       "    <tr>\n",
       "      <th>Date</th>\n",
       "      <th></th>\n",
       "      <th></th>\n",
       "      <th></th>\n",
       "      <th></th>\n",
       "      <th></th>\n",
       "      <th></th>\n",
       "      <th></th>\n",
       "      <th></th>\n",
       "      <th></th>\n",
       "      <th></th>\n",
       "      <th></th>\n",
       "      <th></th>\n",
       "      <th></th>\n",
       "      <th></th>\n",
       "      <th></th>\n",
       "      <th></th>\n",
       "      <th></th>\n",
       "      <th></th>\n",
       "      <th></th>\n",
       "      <th></th>\n",
       "      <th></th>\n",
       "    </tr>\n",
       "  </thead>\n",
       "  <tbody>\n",
       "    <tr>\n",
       "      <th>2008-01-02</th>\n",
       "      <td>3.095521</td>\n",
       "      <td>3.975347</td>\n",
       "      <td>4.025671</td>\n",
       "      <td>3.811888</td>\n",
       "      <td>3.996524</td>\n",
       "      <td>3.327295</td>\n",
       "      <td>3.729364</td>\n",
       "      <td>3.560091</td>\n",
       "      <td>4.342348</td>\n",
       "      <td>3.316239</td>\n",
       "      <td>...</td>\n",
       "      <td>3.080837</td>\n",
       "      <td>3.352228</td>\n",
       "      <td>4.093476</td>\n",
       "      <td>4.268139</td>\n",
       "      <td>3.731396</td>\n",
       "      <td>2.662886</td>\n",
       "      <td>3.692938</td>\n",
       "      <td>3.742345</td>\n",
       "      <td>3.859364</td>\n",
       "      <td>3.554688</td>\n",
       "    </tr>\n",
       "    <tr>\n",
       "      <th>2008-01-03</th>\n",
       "      <td>3.097051</td>\n",
       "      <td>3.970250</td>\n",
       "      <td>4.021581</td>\n",
       "      <td>3.801223</td>\n",
       "      <td>3.993784</td>\n",
       "      <td>3.330093</td>\n",
       "      <td>3.720584</td>\n",
       "      <td>3.556090</td>\n",
       "      <td>4.333643</td>\n",
       "      <td>3.304996</td>\n",
       "      <td>...</td>\n",
       "      <td>3.074992</td>\n",
       "      <td>3.350801</td>\n",
       "      <td>4.095320</td>\n",
       "      <td>4.270991</td>\n",
       "      <td>3.735692</td>\n",
       "      <td>2.658260</td>\n",
       "      <td>3.661269</td>\n",
       "      <td>3.709421</td>\n",
       "      <td>3.829599</td>\n",
       "      <td>3.516673</td>\n",
       "    </tr>\n",
       "    <tr>\n",
       "      <th>2008-01-04</th>\n",
       "      <td>3.057279</td>\n",
       "      <td>3.926913</td>\n",
       "      <td>3.977681</td>\n",
       "      <td>3.759111</td>\n",
       "      <td>3.946561</td>\n",
       "      <td>3.282642</td>\n",
       "      <td>3.692564</td>\n",
       "      <td>3.521546</td>\n",
       "      <td>4.305491</td>\n",
       "      <td>3.273085</td>\n",
       "      <td>...</td>\n",
       "      <td>3.052323</td>\n",
       "      <td>3.358386</td>\n",
       "      <td>4.092669</td>\n",
       "      <td>4.270303</td>\n",
       "      <td>3.728909</td>\n",
       "      <td>2.658775</td>\n",
       "      <td>3.619822</td>\n",
       "      <td>3.677181</td>\n",
       "      <td>3.786506</td>\n",
       "      <td>3.477431</td>\n",
       "    </tr>\n",
       "    <tr>\n",
       "      <th>2008-01-07</th>\n",
       "      <td>3.048490</td>\n",
       "      <td>3.917620</td>\n",
       "      <td>3.968215</td>\n",
       "      <td>3.745034</td>\n",
       "      <td>3.938621</td>\n",
       "      <td>3.269459</td>\n",
       "      <td>3.697189</td>\n",
       "      <td>3.530778</td>\n",
       "      <td>4.309081</td>\n",
       "      <td>3.276646</td>\n",
       "      <td>...</td>\n",
       "      <td>3.063198</td>\n",
       "      <td>3.378952</td>\n",
       "      <td>4.110630</td>\n",
       "      <td>4.287935</td>\n",
       "      <td>3.741446</td>\n",
       "      <td>2.678153</td>\n",
       "      <td>3.629085</td>\n",
       "      <td>3.686476</td>\n",
       "      <td>3.793198</td>\n",
       "      <td>3.479637</td>\n",
       "    </tr>\n",
       "    <tr>\n",
       "      <th>2008-01-08</th>\n",
       "      <td>3.021648</td>\n",
       "      <td>3.886439</td>\n",
       "      <td>3.937665</td>\n",
       "      <td>3.723206</td>\n",
       "      <td>3.909388</td>\n",
       "      <td>3.247390</td>\n",
       "      <td>3.659372</td>\n",
       "      <td>3.487535</td>\n",
       "      <td>4.274322</td>\n",
       "      <td>3.257069</td>\n",
       "      <td>...</td>\n",
       "      <td>3.026960</td>\n",
       "      <td>3.379183</td>\n",
       "      <td>4.110062</td>\n",
       "      <td>4.286582</td>\n",
       "      <td>3.741446</td>\n",
       "      <td>2.671058</td>\n",
       "      <td>3.593850</td>\n",
       "      <td>3.649441</td>\n",
       "      <td>3.760082</td>\n",
       "      <td>3.449441</td>\n",
       "    </tr>\n",
       "  </tbody>\n",
       "</table>\n",
       "<p>5 rows × 51 columns</p>\n",
       "</div>"
      ],
      "text/plain": [
       "                 XLK       VGT       IYW       RYT       IGM      XNTK  \\\n",
       "Date                                                                     \n",
       "2008-01-02  3.095521  3.975347  4.025671  3.811888  3.996524  3.327295   \n",
       "2008-01-03  3.097051  3.970250  4.021581  3.801223  3.993784  3.330093   \n",
       "2008-01-04  3.057279  3.926913  3.977681  3.759111  3.946561  3.282642   \n",
       "2008-01-07  3.048490  3.917620  3.968215  3.745034  3.938621  3.269459   \n",
       "2008-01-08  3.021648  3.886439  3.937665  3.723206  3.909388  3.247390   \n",
       "\n",
       "                 VFH       KBE       IYF       XLY    ...          IYZ  \\\n",
       "Date                                                  ...                \n",
       "2008-01-02  3.729364  3.560091  4.342348  3.316239    ...     3.080837   \n",
       "2008-01-03  3.720584  3.556090  4.333643  3.304996    ...     3.074992   \n",
       "2008-01-04  3.692564  3.521546  4.305491  3.273085    ...     3.052323   \n",
       "2008-01-07  3.697189  3.530778  4.309081  3.276646    ...     3.063198   \n",
       "2008-01-08  3.659372  3.487535  4.274322  3.257069    ...     3.026960   \n",
       "\n",
       "                 XLU       VPU       IDU       RYU       PUI       VNQ  \\\n",
       "Date                                                                     \n",
       "2008-01-02  3.352228  4.093476  4.268139  3.731396  2.662886  3.692938   \n",
       "2008-01-03  3.350801  4.095320  4.270991  3.735692  2.658260  3.661269   \n",
       "2008-01-04  3.358386  4.092669  4.270303  3.728909  2.658775  3.619822   \n",
       "2008-01-07  3.378952  4.110630  4.287935  3.741446  2.678153  3.629085   \n",
       "2008-01-08  3.379183  4.110062  4.286582  3.741446  2.671058  3.593850   \n",
       "\n",
       "                 IYR       RWR      USRT  \n",
       "Date                                      \n",
       "2008-01-02  3.742345  3.859364  3.554688  \n",
       "2008-01-03  3.709421  3.829599  3.516673  \n",
       "2008-01-04  3.677181  3.786506  3.477431  \n",
       "2008-01-07  3.686476  3.793198  3.479637  \n",
       "2008-01-08  3.649441  3.760082  3.449441  \n",
       "\n",
       "[5 rows x 51 columns]"
      ]
     },
     "execution_count": 44,
     "metadata": {},
     "output_type": "execute_result"
    }
   ],
   "source": [
    "All_ETFs_log.head()"
   ]
  },
  {
   "cell_type": "code",
   "execution_count": 45,
   "metadata": {},
   "outputs": [
    {
     "data": {
      "text/html": [
       "<div>\n",
       "<style scoped>\n",
       "    .dataframe tbody tr th:only-of-type {\n",
       "        vertical-align: middle;\n",
       "    }\n",
       "\n",
       "    .dataframe tbody tr th {\n",
       "        vertical-align: top;\n",
       "    }\n",
       "\n",
       "    .dataframe thead th {\n",
       "        text-align: right;\n",
       "    }\n",
       "</style>\n",
       "<table border=\"1\" class=\"dataframe\">\n",
       "  <thead>\n",
       "    <tr style=\"text-align: right;\">\n",
       "      <th></th>\n",
       "      <th>Adj Close</th>\n",
       "    </tr>\n",
       "    <tr>\n",
       "      <th>Date</th>\n",
       "      <th></th>\n",
       "    </tr>\n",
       "  </thead>\n",
       "  <tbody>\n",
       "    <tr>\n",
       "      <th>2008-01-02</th>\n",
       "      <td>7.277358</td>\n",
       "    </tr>\n",
       "    <tr>\n",
       "      <th>2008-01-03</th>\n",
       "      <td>7.277358</td>\n",
       "    </tr>\n",
       "    <tr>\n",
       "      <th>2008-01-04</th>\n",
       "      <td>7.252500</td>\n",
       "    </tr>\n",
       "    <tr>\n",
       "      <th>2008-01-07</th>\n",
       "      <td>7.255718</td>\n",
       "    </tr>\n",
       "    <tr>\n",
       "      <th>2008-01-08</th>\n",
       "      <td>7.237196</td>\n",
       "    </tr>\n",
       "  </tbody>\n",
       "</table>\n",
       "</div>"
      ],
      "text/plain": [
       "            Adj Close\n",
       "Date                 \n",
       "2008-01-02   7.277358\n",
       "2008-01-03   7.277358\n",
       "2008-01-04   7.252500\n",
       "2008-01-07   7.255718\n",
       "2008-01-08   7.237196"
      ]
     },
     "execution_count": 45,
     "metadata": {},
     "output_type": "execute_result"
    }
   ],
   "source": [
    "GSPC_log = np.log(GSPC)\n",
    "GSPC_log.head()"
   ]
  },
  {
   "cell_type": "code",
   "execution_count": null,
   "metadata": {
    "collapsed": true
   },
   "outputs": [],
   "source": []
  },
  {
   "cell_type": "markdown",
   "metadata": {},
   "source": [
    "## Lasso Alpha finding "
   ]
  },
  {
   "cell_type": "code",
   "execution_count": 191,
   "metadata": {
    "scrolled": true
   },
   "outputs": [
    {
     "name": "stderr",
     "output_type": "stream",
     "text": [
      "  0%|          | 1/1100 [00:00<03:46,  4.86it/s]"
     ]
    },
    {
     "name": "stdout",
     "output_type": "stream",
     "text": [
      "\n",
      "the alpha in LASSO is 1e-06 and the P-value for ADF is 7.9349665524e-10\n",
      "with in all coefficients, there are 28 ETFs are positive\n",
      "with in all coefficients, there are 19 ETFs are negative\n"
     ]
    },
    {
     "name": "stderr",
     "output_type": "stream",
     "text": [
      "\r",
      "  0%|          | 2/1100 [00:00<03:53,  4.70it/s]"
     ]
    },
    {
     "name": "stdout",
     "output_type": "stream",
     "text": [
      "\n",
      "the alpha in LASSO is 1.1e-05 and the P-value for ADF is 9.43146354894e-08\n",
      "with in all coefficients, there are 19 ETFs are positive\n",
      "with in all coefficients, there are 3 ETFs are negative\n"
     ]
    },
    {
     "name": "stderr",
     "output_type": "stream",
     "text": [
      "\r",
      "  0%|          | 3/1100 [00:00<03:52,  4.71it/s]"
     ]
    },
    {
     "name": "stdout",
     "output_type": "stream",
     "text": [
      "\n",
      "the alpha in LASSO is 2.1e-05 and the P-value for ADF is 3.95891211583e-08\n",
      "with in all coefficients, there are 15 ETFs are positive\n",
      "with in all coefficients, there are 1 ETFs are negative\n"
     ]
    },
    {
     "name": "stderr",
     "output_type": "stream",
     "text": [
      "\r",
      "  0%|          | 4/1100 [00:00<03:54,  4.67it/s]"
     ]
    },
    {
     "name": "stdout",
     "output_type": "stream",
     "text": [
      "\n",
      "the alpha in LASSO is 3.1e-05 and the P-value for ADF is 7.25190104454e-08\n",
      "with in all coefficients, there are 15 ETFs are positive\n",
      "with in all coefficients, there are 1 ETFs are negative\n"
     ]
    },
    {
     "name": "stderr",
     "output_type": "stream",
     "text": [
      "  1%|          | 6/1100 [00:01<03:52,  4.71it/s]"
     ]
    },
    {
     "name": "stdout",
     "output_type": "stream",
     "text": [
      "\n",
      "the alpha in LASSO is 4.1e-05 and the P-value for ADF is 1.31241291347e-07\n",
      "with in all coefficients, there are 15 ETFs are positive\n",
      "with in all coefficients, there are 1 ETFs are negative\n",
      "\n",
      "the alpha in LASSO is 5.1e-05 and the P-value for ADF is 2.27201850996e-07\n",
      "with in all coefficients, there are 15 ETFs are positive\n",
      "with in all coefficients, there are 1 ETFs are negative\n"
     ]
    },
    {
     "name": "stderr",
     "output_type": "stream",
     "text": [
      "  1%|          | 8/1100 [00:01<03:46,  4.83it/s]"
     ]
    },
    {
     "name": "stdout",
     "output_type": "stream",
     "text": [
      "\n",
      "the alpha in LASSO is 6.1e-05 and the P-value for ADF is 1.101469477e-05\n",
      "with in all coefficients, there are 15 ETFs are positive\n",
      "with in all coefficients, there are 0 ETFs are negative\n",
      "\n",
      "the alpha in LASSO is 7.1e-05 and the P-value for ADF is 1.54445503496e-05\n",
      "with in all coefficients, there are 15 ETFs are positive\n",
      "with in all coefficients, there are 0 ETFs are negative\n"
     ]
    },
    {
     "name": "stderr",
     "output_type": "stream",
     "text": [
      "\r",
      "  1%|          | 9/1100 [00:01<03:44,  4.86it/s]"
     ]
    },
    {
     "name": "stdout",
     "output_type": "stream",
     "text": [
      "\n",
      "the alpha in LASSO is 8.1e-05 and the P-value for ADF is 2.21629228086e-05\n",
      "with in all coefficients, there are 15 ETFs are positive\n",
      "with in all coefficients, there are 0 ETFs are negative\n"
     ]
    },
    {
     "name": "stderr",
     "output_type": "stream",
     "text": [
      "  1%|          | 11/1100 [00:02<03:45,  4.84it/s]"
     ]
    },
    {
     "name": "stdout",
     "output_type": "stream",
     "text": [
      "\n",
      "the alpha in LASSO is 9.1e-05 and the P-value for ADF is 3.22103669389e-05\n",
      "with in all coefficients, there are 16 ETFs are positive\n",
      "with in all coefficients, there are 0 ETFs are negative\n",
      "\n",
      "the alpha in LASSO is 0.000101 and the P-value for ADF is 4.60304594251e-05\n",
      "with in all coefficients, there are 15 ETFs are positive\n",
      "with in all coefficients, there are 0 ETFs are negative\n"
     ]
    },
    {
     "name": "stderr",
     "output_type": "stream",
     "text": [
      "  1%|          | 13/1100 [00:02<03:42,  4.88it/s]"
     ]
    },
    {
     "name": "stdout",
     "output_type": "stream",
     "text": [
      "\n",
      "the alpha in LASSO is 0.000111 and the P-value for ADF is 6.28495836667e-05\n",
      "with in all coefficients, there are 13 ETFs are positive\n",
      "with in all coefficients, there are 0 ETFs are negative\n",
      "\n",
      "the alpha in LASSO is 0.000121 and the P-value for ADF is 8.28031049171e-05\n",
      "with in all coefficients, there are 12 ETFs are positive\n",
      "with in all coefficients, there are 0 ETFs are negative\n"
     ]
    },
    {
     "name": "stderr",
     "output_type": "stream",
     "text": [
      "\r",
      "  1%|▏         | 14/1100 [00:02<03:41,  4.89it/s]"
     ]
    },
    {
     "name": "stdout",
     "output_type": "stream",
     "text": [
      "\n",
      "the alpha in LASSO is 0.000131 and the P-value for ADF is 0.000106987289534\n",
      "with in all coefficients, there are 11 ETFs are positive\n",
      "with in all coefficients, there are 0 ETFs are negative\n"
     ]
    },
    {
     "name": "stderr",
     "output_type": "stream",
     "text": [
      "  1%|▏         | 16/1100 [00:03<03:44,  4.83it/s]"
     ]
    },
    {
     "name": "stdout",
     "output_type": "stream",
     "text": [
      "\n",
      "the alpha in LASSO is 0.000141 and the P-value for ADF is 0.0001365739593\n",
      "with in all coefficients, there are 11 ETFs are positive\n",
      "with in all coefficients, there are 0 ETFs are negative\n",
      "\n",
      "the alpha in LASSO is 0.000151 and the P-value for ADF is 0.00017154889365\n",
      "with in all coefficients, there are 11 ETFs are positive\n",
      "with in all coefficients, there are 0 ETFs are negative\n"
     ]
    },
    {
     "name": "stderr",
     "output_type": "stream",
     "text": [
      "  2%|▏         | 18/1100 [00:03<03:42,  4.86it/s]"
     ]
    },
    {
     "name": "stdout",
     "output_type": "stream",
     "text": [
      "\n",
      "the alpha in LASSO is 0.000161 and the P-value for ADF is 0.000218551781197\n",
      "with in all coefficients, there are 12 ETFs are positive\n",
      "with in all coefficients, there are 0 ETFs are negative\n",
      "\n",
      "the alpha in LASSO is 0.000171 and the P-value for ADF is 0.000274059854665\n",
      "with in all coefficients, there are 12 ETFs are positive\n",
      "with in all coefficients, there are 0 ETFs are negative\n"
     ]
    },
    {
     "name": "stderr",
     "output_type": "stream",
     "text": [
      "\r",
      "  2%|▏         | 19/1100 [00:03<03:41,  4.88it/s]"
     ]
    },
    {
     "name": "stdout",
     "output_type": "stream",
     "text": [
      "\n",
      "the alpha in LASSO is 0.000181 and the P-value for ADF is 0.000337600663977\n",
      "with in all coefficients, there are 12 ETFs are positive\n",
      "with in all coefficients, there are 0 ETFs are negative\n"
     ]
    },
    {
     "name": "stderr",
     "output_type": "stream",
     "text": [
      "  2%|▏         | 21/1100 [00:04<03:40,  4.89it/s]"
     ]
    },
    {
     "name": "stdout",
     "output_type": "stream",
     "text": [
      "\n",
      "the alpha in LASSO is 0.000191 and the P-value for ADF is 0.000408653264104\n",
      "with in all coefficients, there are 13 ETFs are positive\n",
      "with in all coefficients, there are 0 ETFs are negative\n",
      "\n",
      "the alpha in LASSO is 0.000201 and the P-value for ADF is 0.00048832203241\n",
      "with in all coefficients, there are 13 ETFs are positive\n",
      "with in all coefficients, there are 0 ETFs are negative\n"
     ]
    },
    {
     "name": "stderr",
     "output_type": "stream",
     "text": [
      "  2%|▏         | 23/1100 [00:04<03:39,  4.91it/s]"
     ]
    },
    {
     "name": "stdout",
     "output_type": "stream",
     "text": [
      "\n",
      "the alpha in LASSO is 0.000211 and the P-value for ADF is 0.000338205046578\n",
      "with in all coefficients, there are 13 ETFs are positive\n",
      "with in all coefficients, there are 0 ETFs are negative\n",
      "\n",
      "the alpha in LASSO is 0.000221 and the P-value for ADF is 0.000387481464795\n",
      "with in all coefficients, there are 13 ETFs are positive\n",
      "with in all coefficients, there are 0 ETFs are negative\n"
     ]
    },
    {
     "name": "stderr",
     "output_type": "stream",
     "text": [
      "\r",
      "  2%|▏         | 24/1100 [00:04<03:38,  4.92it/s]"
     ]
    },
    {
     "name": "stdout",
     "output_type": "stream",
     "text": [
      "\n",
      "the alpha in LASSO is 0.000231 and the P-value for ADF is 0.000439102905422\n",
      "with in all coefficients, there are 13 ETFs are positive\n",
      "with in all coefficients, there are 0 ETFs are negative\n"
     ]
    },
    {
     "name": "stderr",
     "output_type": "stream",
     "text": [
      "  2%|▏         | 27/1100 [00:05<03:37,  4.94it/s]"
     ]
    },
    {
     "name": "stdout",
     "output_type": "stream",
     "text": [
      "\n",
      "the alpha in LASSO is 0.000241 and the P-value for ADF is 0.000492637165848\n",
      "with in all coefficients, there are 13 ETFs are positive\n",
      "with in all coefficients, there are 0 ETFs are negative\n",
      "\n",
      "the alpha in LASSO is 0.000251 and the P-value for ADF is 4.37760150947e-06\n",
      "with in all coefficients, there are 12 ETFs are positive\n",
      "with in all coefficients, there are 0 ETFs are negative\n",
      "\n",
      "the alpha in LASSO is 0.000261 and the P-value for ADF is 4.63352377004e-06\n",
      "with in all coefficients, there are 12 ETFs are positive\n",
      "with in all coefficients, there are 0 ETFs are negative\n"
     ]
    },
    {
     "name": "stderr",
     "output_type": "stream",
     "text": [
      "  3%|▎         | 29/1100 [00:05<03:35,  4.96it/s]"
     ]
    },
    {
     "name": "stdout",
     "output_type": "stream",
     "text": [
      "\n",
      "the alpha in LASSO is 0.000271 and the P-value for ADF is 4.90890358777e-06\n",
      "with in all coefficients, there are 12 ETFs are positive\n",
      "with in all coefficients, there are 0 ETFs are negative\n",
      "\n",
      "the alpha in LASSO is 0.000281 and the P-value for ADF is 5.18838810115e-06\n",
      "with in all coefficients, there are 13 ETFs are positive\n",
      "with in all coefficients, there are 0 ETFs are negative\n"
     ]
    },
    {
     "name": "stderr",
     "output_type": "stream",
     "text": [
      "  3%|▎         | 31/1100 [00:06<03:34,  4.98it/s]"
     ]
    },
    {
     "name": "stdout",
     "output_type": "stream",
     "text": [
      "\n",
      "the alpha in LASSO is 0.000291 and the P-value for ADF is 5.4807597362e-06\n",
      "with in all coefficients, there are 13 ETFs are positive\n",
      "with in all coefficients, there are 0 ETFs are negative\n",
      "\n",
      "the alpha in LASSO is 0.000301 and the P-value for ADF is 5.77265862604e-06\n",
      "with in all coefficients, there are 13 ETFs are positive\n",
      "with in all coefficients, there are 0 ETFs are negative\n"
     ]
    },
    {
     "name": "stderr",
     "output_type": "stream",
     "text": [
      "  3%|▎         | 33/1100 [00:06<03:33,  4.99it/s]"
     ]
    },
    {
     "name": "stdout",
     "output_type": "stream",
     "text": [
      "\n",
      "the alpha in LASSO is 0.000311 and the P-value for ADF is 6.04805542113e-06\n",
      "with in all coefficients, there are 13 ETFs are positive\n",
      "with in all coefficients, there are 0 ETFs are negative\n",
      "\n",
      "the alpha in LASSO is 0.000321 and the P-value for ADF is 6.29975219988e-06\n",
      "with in all coefficients, there are 13 ETFs are positive\n",
      "with in all coefficients, there are 0 ETFs are negative\n"
     ]
    },
    {
     "name": "stderr",
     "output_type": "stream",
     "text": [
      "  3%|▎         | 35/1100 [00:06<03:32,  5.00it/s]"
     ]
    },
    {
     "name": "stdout",
     "output_type": "stream",
     "text": [
      "\n",
      "the alpha in LASSO is 0.000331 and the P-value for ADF is 6.51319983301e-06\n",
      "with in all coefficients, there are 13 ETFs are positive\n",
      "with in all coefficients, there are 0 ETFs are negative\n",
      "\n",
      "the alpha in LASSO is 0.000341 and the P-value for ADF is 6.75178525274e-06\n",
      "with in all coefficients, there are 12 ETFs are positive\n",
      "with in all coefficients, there are 0 ETFs are negative\n"
     ]
    },
    {
     "name": "stderr",
     "output_type": "stream",
     "text": [
      "\r",
      "  3%|▎         | 36/1100 [00:07<03:34,  4.95it/s]"
     ]
    },
    {
     "name": "stdout",
     "output_type": "stream",
     "text": [
      "\n",
      "the alpha in LASSO is 0.000351 and the P-value for ADF is 7.27856582258e-06\n",
      "with in all coefficients, there are 13 ETFs are positive\n",
      "with in all coefficients, there are 0 ETFs are negative\n"
     ]
    },
    {
     "name": "stderr",
     "output_type": "stream",
     "text": [
      "\r",
      "  3%|▎         | 37/1100 [00:07<03:39,  4.85it/s]"
     ]
    },
    {
     "name": "stdout",
     "output_type": "stream",
     "text": [
      "\n",
      "the alpha in LASSO is 0.000361 and the P-value for ADF is 7.81010437183e-06\n",
      "with in all coefficients, there are 13 ETFs are positive\n",
      "with in all coefficients, there are 0 ETFs are negative\n"
     ]
    },
    {
     "name": "stderr",
     "output_type": "stream",
     "text": [
      "\r",
      "  3%|▎         | 38/1100 [00:07<03:40,  4.82it/s]"
     ]
    },
    {
     "name": "stdout",
     "output_type": "stream",
     "text": [
      "\n",
      "the alpha in LASSO is 0.000371 and the P-value for ADF is 8.33905799286e-06\n",
      "with in all coefficients, there are 13 ETFs are positive\n",
      "with in all coefficients, there are 0 ETFs are negative\n"
     ]
    },
    {
     "name": "stderr",
     "output_type": "stream",
     "text": [
      "  4%|▎         | 40/1100 [00:08<03:39,  4.83it/s]"
     ]
    },
    {
     "name": "stdout",
     "output_type": "stream",
     "text": [
      "\n",
      "the alpha in LASSO is 0.000381 and the P-value for ADF is 8.86436654642e-06\n",
      "with in all coefficients, there are 13 ETFs are positive\n",
      "with in all coefficients, there are 0 ETFs are negative\n",
      "\n",
      "the alpha in LASSO is 0.000391 and the P-value for ADF is 9.38590775861e-06\n",
      "with in all coefficients, there are 13 ETFs are positive\n",
      "with in all coefficients, there are 0 ETFs are negative\n"
     ]
    },
    {
     "name": "stderr",
     "output_type": "stream",
     "text": [
      "  4%|▍         | 42/1100 [00:08<03:38,  4.84it/s]"
     ]
    },
    {
     "name": "stdout",
     "output_type": "stream",
     "text": [
      "\n",
      "the alpha in LASSO is 0.000401 and the P-value for ADF is 9.9005083665e-06\n",
      "with in all coefficients, there are 13 ETFs are positive\n",
      "with in all coefficients, there are 0 ETFs are negative\n",
      "\n",
      "the alpha in LASSO is 0.000411 and the P-value for ADF is 1.04059771623e-05\n",
      "with in all coefficients, there are 13 ETFs are positive\n",
      "with in all coefficients, there are 0 ETFs are negative\n"
     ]
    },
    {
     "name": "stderr",
     "output_type": "stream",
     "text": [
      "  4%|▍         | 44/1100 [00:09<03:37,  4.86it/s]"
     ]
    },
    {
     "name": "stdout",
     "output_type": "stream",
     "text": [
      "\n",
      "the alpha in LASSO is 0.000421 and the P-value for ADF is 1.08987763231e-05\n",
      "with in all coefficients, there are 13 ETFs are positive\n",
      "with in all coefficients, there are 0 ETFs are negative\n",
      "\n",
      "the alpha in LASSO is 0.000431 and the P-value for ADF is 1.13807391688e-05\n",
      "with in all coefficients, there are 13 ETFs are positive\n",
      "with in all coefficients, there are 0 ETFs are negative\n"
     ]
    },
    {
     "name": "stderr",
     "output_type": "stream",
     "text": [
      "  4%|▍         | 46/1100 [00:09<03:36,  4.87it/s]"
     ]
    },
    {
     "name": "stdout",
     "output_type": "stream",
     "text": [
      "\n",
      "the alpha in LASSO is 0.000441 and the P-value for ADF is 1.18556943972e-05\n",
      "with in all coefficients, there are 13 ETFs are positive\n",
      "with in all coefficients, there are 0 ETFs are negative\n",
      "\n",
      "the alpha in LASSO is 0.000451 and the P-value for ADF is 1.2739940213e-05\n",
      "with in all coefficients, there are 12 ETFs are positive\n",
      "with in all coefficients, there are 0 ETFs are negative\n"
     ]
    },
    {
     "name": "stderr",
     "output_type": "stream",
     "text": [
      "  4%|▍         | 48/1100 [00:09<03:35,  4.88it/s]"
     ]
    },
    {
     "name": "stdout",
     "output_type": "stream",
     "text": [
      "\n",
      "the alpha in LASSO is 0.000461 and the P-value for ADF is 1.37004311266e-05\n",
      "with in all coefficients, there are 12 ETFs are positive\n",
      "with in all coefficients, there are 0 ETFs are negative\n",
      "\n",
      "the alpha in LASSO is 0.000471 and the P-value for ADF is 1.47169828295e-05\n",
      "with in all coefficients, there are 12 ETFs are positive\n",
      "with in all coefficients, there are 0 ETFs are negative\n"
     ]
    },
    {
     "name": "stderr",
     "output_type": "stream",
     "text": [
      "\r",
      "  4%|▍         | 49/1100 [00:10<03:34,  4.89it/s]"
     ]
    },
    {
     "name": "stdout",
     "output_type": "stream",
     "text": [
      "\n",
      "the alpha in LASSO is 0.000481 and the P-value for ADF is 1.57900719816e-05\n",
      "with in all coefficients, there are 12 ETFs are positive\n",
      "with in all coefficients, there are 0 ETFs are negative\n",
      "\n",
      "the alpha in LASSO is 0.000491 and the P-value for ADF is 1.69185992474e-05"
     ]
    },
    {
     "name": "stderr",
     "output_type": "stream",
     "text": [
      "  5%|▍         | 52/1100 [00:10<03:33,  4.91it/s]"
     ]
    },
    {
     "name": "stdout",
     "output_type": "stream",
     "text": [
      "\n",
      "with in all coefficients, there are 12 ETFs are positive\n",
      "with in all coefficients, there are 0 ETFs are negative\n",
      "\n",
      "the alpha in LASSO is 0.000501 and the P-value for ADF is 1.81031896251e-05\n",
      "with in all coefficients, there are 12 ETFs are positive\n",
      "with in all coefficients, there are 0 ETFs are negative\n",
      "\n",
      "the alpha in LASSO is 0.000511 and the P-value for ADF is 1.93467871882e-05\n",
      "with in all coefficients, there are 12 ETFs are positive\n",
      "with in all coefficients, there are 0 ETFs are negative\n"
     ]
    },
    {
     "name": "stderr",
     "output_type": "stream",
     "text": [
      "  5%|▍         | 54/1100 [00:10<03:32,  4.92it/s]"
     ]
    },
    {
     "name": "stdout",
     "output_type": "stream",
     "text": [
      "\n",
      "the alpha in LASSO is 0.000521 and the P-value for ADF is 2.0650478759e-05\n",
      "with in all coefficients, there are 12 ETFs are positive\n",
      "with in all coefficients, there are 0 ETFs are negative\n",
      "\n",
      "the alpha in LASSO is 0.000531 and the P-value for ADF is 2.20153821391e-05\n",
      "with in all coefficients, there are 12 ETFs are positive\n",
      "with in all coefficients, there are 0 ETFs are negative\n"
     ]
    },
    {
     "name": "stderr",
     "output_type": "stream",
     "text": [
      "  5%|▌         | 56/1100 [00:11<03:31,  4.94it/s]"
     ]
    },
    {
     "name": "stdout",
     "output_type": "stream",
     "text": [
      "\n",
      "the alpha in LASSO is 0.000541 and the P-value for ADF is 2.34666645386e-05\n",
      "with in all coefficients, there are 11 ETFs are positive\n",
      "with in all coefficients, there are 0 ETFs are negative\n",
      "\n",
      "the alpha in LASSO is 0.000551 and the P-value for ADF is 2.49897003888e-05\n",
      "with in all coefficients, there are 11 ETFs are positive\n",
      "with in all coefficients, there are 0 ETFs are negative\n"
     ]
    },
    {
     "name": "stderr",
     "output_type": "stream",
     "text": [
      "  5%|▌         | 58/1100 [00:11<03:30,  4.95it/s]"
     ]
    },
    {
     "name": "stdout",
     "output_type": "stream",
     "text": [
      "\n",
      "the alpha in LASSO is 0.000561 and the P-value for ADF is 2.65786123427e-05\n",
      "with in all coefficients, there are 11 ETFs are positive\n",
      "with in all coefficients, there are 0 ETFs are negative\n",
      "\n",
      "the alpha in LASSO is 0.000571 and the P-value for ADF is 2.82323982794e-05\n",
      "with in all coefficients, there are 11 ETFs are positive\n",
      "with in all coefficients, there are 0 ETFs are negative\n"
     ]
    },
    {
     "name": "stderr",
     "output_type": "stream",
     "text": [
      "  5%|▌         | 60/1100 [00:12<03:29,  4.96it/s]"
     ]
    },
    {
     "name": "stdout",
     "output_type": "stream",
     "text": [
      "\n",
      "the alpha in LASSO is 0.000581 and the P-value for ADF is 2.99510362586e-05\n",
      "with in all coefficients, there are 11 ETFs are positive\n",
      "with in all coefficients, there are 0 ETFs are negative\n",
      "\n",
      "the alpha in LASSO is 0.000591 and the P-value for ADF is 3.17301072526e-05\n",
      "with in all coefficients, there are 11 ETFs are positive\n",
      "with in all coefficients, there are 0 ETFs are negative\n"
     ]
    },
    {
     "name": "stderr",
     "output_type": "stream",
     "text": [
      "  6%|▌         | 62/1100 [00:12<03:28,  4.97it/s]"
     ]
    },
    {
     "name": "stdout",
     "output_type": "stream",
     "text": [
      "\n",
      "the alpha in LASSO is 0.000601 and the P-value for ADF is 3.33693538505e-05\n",
      "with in all coefficients, there are 10 ETFs are positive\n",
      "with in all coefficients, there are 0 ETFs are negative\n",
      "\n",
      "the alpha in LASSO is 0.000611 and the P-value for ADF is 3.50598858361e-05\n",
      "with in all coefficients, there are 10 ETFs are positive\n",
      "with in all coefficients, there are 0 ETFs are negative\n"
     ]
    },
    {
     "name": "stderr",
     "output_type": "stream",
     "text": [
      "  6%|▌         | 64/1100 [00:12<03:28,  4.98it/s]"
     ]
    },
    {
     "name": "stdout",
     "output_type": "stream",
     "text": [
      "\n",
      "the alpha in LASSO is 0.000621 and the P-value for ADF is 3.68177042521e-05\n",
      "with in all coefficients, there are 10 ETFs are positive\n",
      "with in all coefficients, there are 0 ETFs are negative\n",
      "\n",
      "the alpha in LASSO is 0.000631 and the P-value for ADF is 3.8639652446e-05\n",
      "with in all coefficients, there are 10 ETFs are positive\n",
      "with in all coefficients, there are 0 ETFs are negative\n"
     ]
    },
    {
     "name": "stderr",
     "output_type": "stream",
     "text": [
      "\r",
      "  6%|▌         | 65/1100 [00:13<03:27,  4.98it/s]"
     ]
    },
    {
     "name": "stdout",
     "output_type": "stream",
     "text": [
      "\n",
      "the alpha in LASSO is 0.000641 and the P-value for ADF is 4.05175196931e-05\n",
      "with in all coefficients, there are 10 ETFs are positive\n",
      "with in all coefficients, there are 0 ETFs are negative\n"
     ]
    },
    {
     "name": "stderr",
     "output_type": "stream",
     "text": [
      "  6%|▌         | 67/1100 [00:13<03:28,  4.96it/s]"
     ]
    },
    {
     "name": "stdout",
     "output_type": "stream",
     "text": [
      "\n",
      "the alpha in LASSO is 0.000651 and the P-value for ADF is 0.00410678679813\n",
      "with in all coefficients, there are 10 ETFs are positive\n",
      "with in all coefficients, there are 0 ETFs are negative\n",
      "\n",
      "the alpha in LASSO is 0.000661 and the P-value for ADF is 0.00422583380531\n",
      "with in all coefficients, there are 10 ETFs are positive\n",
      "with in all coefficients, there are 0 ETFs are negative\n"
     ]
    },
    {
     "name": "stderr",
     "output_type": "stream",
     "text": [
      "  6%|▋         | 69/1100 [00:13<03:27,  4.97it/s]"
     ]
    },
    {
     "name": "stdout",
     "output_type": "stream",
     "text": [
      "\n",
      "the alpha in LASSO is 0.000671 and the P-value for ADF is 0.00434459515685\n",
      "with in all coefficients, there are 10 ETFs are positive\n",
      "with in all coefficients, there are 0 ETFs are negative\n",
      "\n",
      "the alpha in LASSO is 0.000681 and the P-value for ADF is 0.00446280315523\n",
      "with in all coefficients, there are 10 ETFs are positive\n",
      "with in all coefficients, there are 0 ETFs are negative\n"
     ]
    },
    {
     "name": "stderr",
     "output_type": "stream",
     "text": [
      "\r",
      "  6%|▋         | 70/1100 [00:14<03:27,  4.98it/s]"
     ]
    },
    {
     "name": "stdout",
     "output_type": "stream",
     "text": [
      "\n",
      "the alpha in LASSO is 0.000691 and the P-value for ADF is 0.00458035891737\n",
      "with in all coefficients, there are 10 ETFs are positive\n",
      "with in all coefficients, there are 0 ETFs are negative\n"
     ]
    },
    {
     "name": "stderr",
     "output_type": "stream",
     "text": [
      "  7%|▋         | 72/1100 [00:14<03:26,  4.98it/s]"
     ]
    },
    {
     "name": "stdout",
     "output_type": "stream",
     "text": [
      "\n",
      "the alpha in LASSO is 0.000701 and the P-value for ADF is 0.00469716161155\n",
      "with in all coefficients, there are 10 ETFs are positive\n",
      "with in all coefficients, there are 0 ETFs are negative\n",
      "\n",
      "the alpha in LASSO is 0.000711 and the P-value for ADF is 0.00481300693792\n",
      "with in all coefficients, there are 10 ETFs are positive\n",
      "with in all coefficients, there are 0 ETFs are negative\n"
     ]
    },
    {
     "name": "stderr",
     "output_type": "stream",
     "text": [
      "  7%|▋         | 74/1100 [00:14<03:25,  4.98it/s]"
     ]
    },
    {
     "name": "stdout",
     "output_type": "stream",
     "text": [
      "\n",
      "the alpha in LASSO is 0.000721 and the P-value for ADF is 0.00492785763796\n",
      "with in all coefficients, there are 10 ETFs are positive\n",
      "with in all coefficients, there are 0 ETFs are negative\n",
      "\n",
      "the alpha in LASSO is 0.000731 and the P-value for ADF is 0.00504170683442\n",
      "with in all coefficients, there are 10 ETFs are positive\n",
      "with in all coefficients, there are 0 ETFs are negative\n"
     ]
    },
    {
     "name": "stderr",
     "output_type": "stream",
     "text": [
      "  7%|▋         | 76/1100 [00:15<03:25,  4.99it/s]"
     ]
    },
    {
     "name": "stdout",
     "output_type": "stream",
     "text": [
      "\n",
      "the alpha in LASSO is 0.000741 and the P-value for ADF is 0.00515448362732\n",
      "with in all coefficients, there are 10 ETFs are positive\n",
      "with in all coefficients, there are 0 ETFs are negative\n",
      "\n",
      "the alpha in LASSO is 0.000751 and the P-value for ADF is 0.00526604378184\n",
      "with in all coefficients, there are 10 ETFs are positive\n",
      "with in all coefficients, there are 0 ETFs are negative\n"
     ]
    },
    {
     "name": "stderr",
     "output_type": "stream",
     "text": [
      "  7%|▋         | 78/1100 [00:15<03:24,  5.00it/s]"
     ]
    },
    {
     "name": "stdout",
     "output_type": "stream",
     "text": [
      "\n",
      "the alpha in LASSO is 0.000761 and the P-value for ADF is 0.00537650705208\n",
      "with in all coefficients, there are 10 ETFs are positive\n",
      "with in all coefficients, there are 0 ETFs are negative\n",
      "\n",
      "the alpha in LASSO is 0.000771 and the P-value for ADF is 0.00548576180608\n",
      "with in all coefficients, there are 10 ETFs are positive\n",
      "with in all coefficients, there are 0 ETFs are negative\n"
     ]
    },
    {
     "name": "stderr",
     "output_type": "stream",
     "text": [
      "  7%|▋         | 80/1100 [00:15<03:23,  5.01it/s]"
     ]
    },
    {
     "name": "stdout",
     "output_type": "stream",
     "text": [
      "\n",
      "the alpha in LASSO is 0.000781 and the P-value for ADF is 0.00559376311904\n",
      "with in all coefficients, there are 10 ETFs are positive\n",
      "with in all coefficients, there are 0 ETFs are negative\n",
      "\n",
      "the alpha in LASSO is 0.000791 and the P-value for ADF is 0.00570064112721\n",
      "with in all coefficients, there are 10 ETFs are positive\n",
      "with in all coefficients, there are 0 ETFs are negative\n"
     ]
    },
    {
     "name": "stderr",
     "output_type": "stream",
     "text": [
      "\r",
      "  7%|▋         | 81/1100 [00:16<03:23,  5.01it/s]"
     ]
    },
    {
     "name": "stdout",
     "output_type": "stream",
     "text": [
      "\n",
      "the alpha in LASSO is 0.000801 and the P-value for ADF is 0.00580658407968\n",
      "with in all coefficients, there are 10 ETFs are positive\n",
      "with in all coefficients, there are 0 ETFs are negative\n"
     ]
    },
    {
     "name": "stderr",
     "output_type": "stream",
     "text": [
      "  8%|▊         | 83/1100 [00:16<03:23,  5.01it/s]"
     ]
    },
    {
     "name": "stdout",
     "output_type": "stream",
     "text": [
      "\n",
      "the alpha in LASSO is 0.000811 and the P-value for ADF is 0.00591143597648\n",
      "with in all coefficients, there are 10 ETFs are positive\n",
      "with in all coefficients, there are 0 ETFs are negative\n",
      "\n",
      "the alpha in LASSO is 0.000821 and the P-value for ADF is 0.00601531675172\n",
      "with in all coefficients, there are 10 ETFs are positive\n",
      "with in all coefficients, there are 0 ETFs are negative\n"
     ]
    },
    {
     "name": "stderr",
     "output_type": "stream",
     "text": [
      "  8%|▊         | 85/1100 [00:16<03:22,  5.01it/s]"
     ]
    },
    {
     "name": "stdout",
     "output_type": "stream",
     "text": [
      "\n",
      "the alpha in LASSO is 0.000831 and the P-value for ADF is 0.00611901353068\n",
      "with in all coefficients, there are 10 ETFs are positive\n",
      "with in all coefficients, there are 0 ETFs are negative\n",
      "\n",
      "the alpha in LASSO is 0.000841 and the P-value for ADF is 0.00624152482736\n",
      "with in all coefficients, there are 9 ETFs are positive\n",
      "with in all coefficients, there are 0 ETFs are negative\n"
     ]
    },
    {
     "name": "stderr",
     "output_type": "stream",
     "text": [
      "\r",
      "  8%|▊         | 86/1100 [00:17<03:22,  5.00it/s]"
     ]
    },
    {
     "name": "stdout",
     "output_type": "stream",
     "text": [
      "\n",
      "the alpha in LASSO is 0.000851 and the P-value for ADF is 0.0064559317983\n",
      "with in all coefficients, there are 9 ETFs are positive\n",
      "with in all coefficients, there are 0 ETFs are negative\n"
     ]
    },
    {
     "name": "stderr",
     "output_type": "stream",
     "text": [
      "  8%|▊         | 88/1100 [00:17<03:23,  4.98it/s]"
     ]
    },
    {
     "name": "stdout",
     "output_type": "stream",
     "text": [
      "\n",
      "the alpha in LASSO is 0.000861 and the P-value for ADF is 0.00667270871516\n",
      "with in all coefficients, there are 9 ETFs are positive\n",
      "with in all coefficients, there are 0 ETFs are negative\n",
      "\n",
      "the alpha in LASSO is 0.000871 and the P-value for ADF is 0.00689133146626\n",
      "with in all coefficients, there are 9 ETFs are positive\n",
      "with in all coefficients, there are 0 ETFs are negative\n"
     ]
    },
    {
     "name": "stderr",
     "output_type": "stream",
     "text": [
      "  8%|▊         | 90/1100 [00:18<03:22,  5.00it/s]"
     ]
    },
    {
     "name": "stdout",
     "output_type": "stream",
     "text": [
      "\n",
      "the alpha in LASSO is 0.000881 and the P-value for ADF is 0.00711061382525\n",
      "with in all coefficients, there are 9 ETFs are positive\n",
      "with in all coefficients, there are 0 ETFs are negative\n",
      "\n",
      "the alpha in LASSO is 0.000891 and the P-value for ADF is 0.00744153959466\n",
      "with in all coefficients, there are 8 ETFs are positive\n",
      "with in all coefficients, there are 0 ETFs are negative\n"
     ]
    },
    {
     "name": "stderr",
     "output_type": "stream",
     "text": [
      "\r",
      "  8%|▊         | 91/1100 [00:18<03:21,  5.01it/s]"
     ]
    },
    {
     "name": "stdout",
     "output_type": "stream",
     "text": [
      "\n",
      "the alpha in LASSO is 0.000901 and the P-value for ADF is 0.00778435996917\n",
      "with in all coefficients, there are 8 ETFs are positive\n",
      "with in all coefficients, there are 0 ETFs are negative\n"
     ]
    },
    {
     "name": "stderr",
     "output_type": "stream",
     "text": [
      "  8%|▊         | 93/1100 [00:18<03:20,  5.01it/s]"
     ]
    },
    {
     "name": "stdout",
     "output_type": "stream",
     "text": [
      "\n",
      "the alpha in LASSO is 0.000911 and the P-value for ADF is 0.00813873650432\n",
      "with in all coefficients, there are 8 ETFs are positive\n",
      "with in all coefficients, there are 0 ETFs are negative\n",
      "\n",
      "the alpha in LASSO is 0.000921 and the P-value for ADF is 0.00850486964556\n",
      "with in all coefficients, there are 8 ETFs are positive\n",
      "with in all coefficients, there are 0 ETFs are negative\n"
     ]
    },
    {
     "name": "stderr",
     "output_type": "stream",
     "text": [
      "  9%|▊         | 95/1100 [00:18<03:19,  5.03it/s]"
     ]
    },
    {
     "name": "stdout",
     "output_type": "stream",
     "text": [
      "\n",
      "the alpha in LASSO is 0.000931 and the P-value for ADF is 0.00888282615643\n",
      "with in all coefficients, there are 8 ETFs are positive\n",
      "with in all coefficients, there are 0 ETFs are negative\n",
      "\n",
      "the alpha in LASSO is 0.000941 and the P-value for ADF is 0.00927270624836\n",
      "with in all coefficients, there are 8 ETFs are positive\n",
      "with in all coefficients, there are 0 ETFs are negative\n"
     ]
    },
    {
     "name": "stderr",
     "output_type": "stream",
     "text": [
      "  9%|▉         | 97/1100 [00:19<03:18,  5.04it/s]"
     ]
    },
    {
     "name": "stdout",
     "output_type": "stream",
     "text": [
      "\n",
      "the alpha in LASSO is 0.000951 and the P-value for ADF is 0.00967470870019\n",
      "with in all coefficients, there are 8 ETFs are positive\n",
      "with in all coefficients, there are 0 ETFs are negative\n",
      "\n",
      "the alpha in LASSO is 0.000961 and the P-value for ADF is 0.0100889506112\n",
      "with in all coefficients, there are 8 ETFs are positive\n",
      "with in all coefficients, there are 0 ETFs are negative\n"
     ]
    },
    {
     "name": "stderr",
     "output_type": "stream",
     "text": [
      "  9%|▉         | 99/1100 [00:19<03:18,  5.04it/s]"
     ]
    },
    {
     "name": "stdout",
     "output_type": "stream",
     "text": [
      "\n",
      "the alpha in LASSO is 0.000971 and the P-value for ADF is 0.0105155221172\n",
      "with in all coefficients, there are 8 ETFs are positive\n",
      "with in all coefficients, there are 0 ETFs are negative\n",
      "\n",
      "the alpha in LASSO is 0.000981 and the P-value for ADF is 0.0109546001666\n",
      "with in all coefficients, there are 8 ETFs are positive\n",
      "with in all coefficients, there are 0 ETFs are negative\n"
     ]
    },
    {
     "name": "stderr",
     "output_type": "stream",
     "text": [
      "  9%|▉         | 101/1100 [00:19<03:17,  5.07it/s]"
     ]
    },
    {
     "name": "stdout",
     "output_type": "stream",
     "text": [
      "\n",
      "the alpha in LASSO is 0.000991 and the P-value for ADF is 0.0114062239097\n",
      "with in all coefficients, there are 8 ETFs are positive\n",
      "with in all coefficients, there are 0 ETFs are negative\n",
      "\n",
      "the alpha in LASSO is 0.001001 and the P-value for ADF is 0.0118704300104\n",
      "with in all coefficients, there are 8 ETFs are positive\n",
      "with in all coefficients, there are 0 ETFs are negative\n"
     ]
    },
    {
     "name": "stderr",
     "output_type": "stream",
     "text": [
      "  9%|▉         | 103/1100 [00:20<03:15,  5.10it/s]"
     ]
    },
    {
     "name": "stdout",
     "output_type": "stream",
     "text": [
      "\n",
      "the alpha in LASSO is 0.001011 and the P-value for ADF is 0.0123473169486\n",
      "with in all coefficients, there are 8 ETFs are positive\n",
      "with in all coefficients, there are 0 ETFs are negative\n",
      "\n",
      "the alpha in LASSO is 0.001021 and the P-value for ADF is 0.012836864809\n",
      "with in all coefficients, there are 8 ETFs are positive\n",
      "with in all coefficients, there are 0 ETFs are negative\n"
     ]
    },
    {
     "name": "stderr",
     "output_type": "stream",
     "text": [
      " 10%|▉         | 105/1100 [00:20<03:14,  5.12it/s]"
     ]
    },
    {
     "name": "stdout",
     "output_type": "stream",
     "text": [
      "\n",
      "the alpha in LASSO is 0.001031 and the P-value for ADF is 0.0133391221877\n",
      "with in all coefficients, there are 8 ETFs are positive\n",
      "with in all coefficients, there are 0 ETFs are negative\n",
      "\n",
      "the alpha in LASSO is 0.001041 and the P-value for ADF is 0.0138541280464\n",
      "with in all coefficients, there are 8 ETFs are positive\n",
      "with in all coefficients, there are 0 ETFs are negative\n"
     ]
    },
    {
     "name": "stderr",
     "output_type": "stream",
     "text": [
      " 10%|▉         | 107/1100 [00:20<03:12,  5.15it/s]"
     ]
    },
    {
     "name": "stdout",
     "output_type": "stream",
     "text": [
      "\n",
      "the alpha in LASSO is 0.001051 and the P-value for ADF is 0.0143819533601\n",
      "with in all coefficients, there are 8 ETFs are positive\n",
      "with in all coefficients, there are 0 ETFs are negative\n",
      "\n",
      "the alpha in LASSO is 0.001061 and the P-value for ADF is 0.014922565095\n",
      "with in all coefficients, there are 8 ETFs are positive\n",
      "with in all coefficients, there are 0 ETFs are negative\n"
     ]
    },
    {
     "name": "stderr",
     "output_type": "stream",
     "text": [
      " 10%|▉         | 109/1100 [00:21<03:11,  5.17it/s]"
     ]
    },
    {
     "name": "stdout",
     "output_type": "stream",
     "text": [
      "\n",
      "the alpha in LASSO is 0.001071 and the P-value for ADF is 0.0154759036953\n",
      "with in all coefficients, there are 8 ETFs are positive\n",
      "with in all coefficients, there are 0 ETFs are negative\n",
      "\n",
      "the alpha in LASSO is 0.001081 and the P-value for ADF is 0.0160419687246\n",
      "with in all coefficients, there are 8 ETFs are positive\n",
      "with in all coefficients, there are 0 ETFs are negative\n"
     ]
    },
    {
     "name": "stderr",
     "output_type": "stream",
     "text": [
      " 10%|█         | 111/1100 [00:21<03:10,  5.19it/s]"
     ]
    },
    {
     "name": "stdout",
     "output_type": "stream",
     "text": [
      "\n",
      "the alpha in LASSO is 0.001091 and the P-value for ADF is 0.0166206914487\n",
      "with in all coefficients, there are 8 ETFs are positive\n",
      "with in all coefficients, there are 0 ETFs are negative\n",
      "\n",
      "the alpha in LASSO is 0.001101 and the P-value for ADF is 0.0172119301654\n",
      "with in all coefficients, there are 8 ETFs are positive\n",
      "with in all coefficients, there are 0 ETFs are negative\n"
     ]
    },
    {
     "name": "stderr",
     "output_type": "stream",
     "text": [
      " 10%|█         | 113/1100 [00:21<03:09,  5.22it/s]"
     ]
    },
    {
     "name": "stdout",
     "output_type": "stream",
     "text": [
      "\n",
      "the alpha in LASSO is 0.001111 and the P-value for ADF is 0.0178156888434\n",
      "with in all coefficients, there are 8 ETFs are positive\n",
      "with in all coefficients, there are 0 ETFs are negative\n",
      "\n",
      "the alpha in LASSO is 0.001121 and the P-value for ADF is 0.0184319709363\n",
      "with in all coefficients, there are 8 ETFs are positive\n",
      "with in all coefficients, there are 0 ETFs are negative\n"
     ]
    },
    {
     "name": "stderr",
     "output_type": "stream",
     "text": [
      " 10%|█         | 115/1100 [00:21<03:07,  5.24it/s]"
     ]
    },
    {
     "name": "stdout",
     "output_type": "stream",
     "text": [
      "\n",
      "the alpha in LASSO is 0.001131 and the P-value for ADF is 0.0190605853192\n",
      "with in all coefficients, there are 8 ETFs are positive\n",
      "with in all coefficients, there are 0 ETFs are negative\n",
      "\n",
      "the alpha in LASSO is 0.001141 and the P-value for ADF is 0.0197014403404\n",
      "with in all coefficients, there are 8 ETFs are positive\n",
      "with in all coefficients, there are 0 ETFs are negative\n"
     ]
    },
    {
     "name": "stderr",
     "output_type": "stream",
     "text": [
      " 11%|█         | 117/1100 [00:22<03:06,  5.26it/s]"
     ]
    },
    {
     "name": "stdout",
     "output_type": "stream",
     "text": [
      "\n",
      "the alpha in LASSO is 0.001151 and the P-value for ADF is 0.0203544640782\n",
      "with in all coefficients, there are 8 ETFs are positive\n",
      "with in all coefficients, there are 0 ETFs are negative\n",
      "\n",
      "the alpha in LASSO is 0.001161 and the P-value for ADF is 0.0210195078721\n",
      "with in all coefficients, there are 8 ETFs are positive\n",
      "with in all coefficients, there are 0 ETFs are negative\n"
     ]
    },
    {
     "name": "stderr",
     "output_type": "stream",
     "text": [
      " 11%|█         | 119/1100 [00:22<03:05,  5.28it/s]"
     ]
    },
    {
     "name": "stdout",
     "output_type": "stream",
     "text": [
      "\n",
      "the alpha in LASSO is 0.001171 and the P-value for ADF is 0.0216964017989\n",
      "with in all coefficients, there are 8 ETFs are positive\n",
      "with in all coefficients, there are 0 ETFs are negative\n",
      "\n",
      "the alpha in LASSO is 0.001181 and the P-value for ADF is 0.0223850352222\n",
      "with in all coefficients, there are 8 ETFs are positive\n",
      "with in all coefficients, there are 0 ETFs are negative\n"
     ]
    },
    {
     "name": "stderr",
     "output_type": "stream",
     "text": [
      " 11%|█         | 121/1100 [00:22<03:04,  5.30it/s]"
     ]
    },
    {
     "name": "stdout",
     "output_type": "stream",
     "text": [
      "\n",
      "the alpha in LASSO is 0.001191 and the P-value for ADF is 0.0230852322611\n",
      "with in all coefficients, there are 8 ETFs are positive\n",
      "with in all coefficients, there are 0 ETFs are negative\n",
      "\n",
      "the alpha in LASSO is 0.001201 and the P-value for ADF is 0.0273864441503\n",
      "with in all coefficients, there are 8 ETFs are positive\n",
      "with in all coefficients, there are 0 ETFs are negative\n"
     ]
    },
    {
     "name": "stderr",
     "output_type": "stream",
     "text": [
      " 11%|█         | 123/1100 [00:23<03:03,  5.33it/s]"
     ]
    },
    {
     "name": "stdout",
     "output_type": "stream",
     "text": [
      "\n",
      "the alpha in LASSO is 0.001211 and the P-value for ADF is 0.0280863430023\n",
      "with in all coefficients, there are 8 ETFs are positive\n",
      "with in all coefficients, there are 0 ETFs are negative\n",
      "\n",
      "the alpha in LASSO is 0.001221 and the P-value for ADF is 0.0287939051936\n",
      "with in all coefficients, there are 8 ETFs are positive\n",
      "with in all coefficients, there are 0 ETFs are negative\n"
     ]
    },
    {
     "name": "stderr",
     "output_type": "stream",
     "text": [
      "\r",
      " 11%|█▏        | 124/1100 [00:23<03:02,  5.33it/s]"
     ]
    },
    {
     "name": "stdout",
     "output_type": "stream",
     "text": [
      "\n",
      "the alpha in LASSO is 0.001231 and the P-value for ADF is 0.0295089866873\n",
      "with in all coefficients, there are 8 ETFs are positive\n",
      "with in all coefficients, there are 0 ETFs are negative\n"
     ]
    },
    {
     "name": "stderr",
     "output_type": "stream",
     "text": [
      " 11%|█▏        | 126/1100 [00:23<03:03,  5.32it/s]"
     ]
    },
    {
     "name": "stdout",
     "output_type": "stream",
     "text": [
      "\n",
      "the alpha in LASSO is 0.001241 and the P-value for ADF is 0.0302313649967\n",
      "with in all coefficients, there are 8 ETFs are positive\n",
      "with in all coefficients, there are 0 ETFs are negative\n",
      "\n",
      "the alpha in LASSO is 0.001251 and the P-value for ADF is 0.0309608868697\n",
      "with in all coefficients, there are 8 ETFs are positive\n",
      "with in all coefficients, there are 0 ETFs are negative\n"
     ]
    },
    {
     "name": "stderr",
     "output_type": "stream",
     "text": [
      " 12%|█▏        | 128/1100 [00:23<03:02,  5.34it/s]"
     ]
    },
    {
     "name": "stdout",
     "output_type": "stream",
     "text": [
      "\n",
      "the alpha in LASSO is 0.001261 and the P-value for ADF is 0.031697237739\n",
      "with in all coefficients, there are 8 ETFs are positive\n",
      "with in all coefficients, there are 0 ETFs are negative\n",
      "\n",
      "the alpha in LASSO is 0.001271 and the P-value for ADF is 0.0324402250212\n",
      "with in all coefficients, there are 8 ETFs are positive\n",
      "with in all coefficients, there are 0 ETFs are negative\n"
     ]
    },
    {
     "name": "stderr",
     "output_type": "stream",
     "text": [
      " 12%|█▏        | 130/1100 [00:24<03:00,  5.36it/s]"
     ]
    },
    {
     "name": "stdout",
     "output_type": "stream",
     "text": [
      "\n",
      "the alpha in LASSO is 0.001281 and the P-value for ADF is 0.0331896509532\n",
      "with in all coefficients, there are 8 ETFs are positive\n",
      "with in all coefficients, there are 0 ETFs are negative\n",
      "\n",
      "the alpha in LASSO is 0.001291 and the P-value for ADF is 0.0339453028067\n",
      "with in all coefficients, there are 8 ETFs are positive\n",
      "with in all coefficients, there are 0 ETFs are negative\n"
     ]
    },
    {
     "name": "stderr",
     "output_type": "stream",
     "text": [
      " 12%|█▏        | 132/1100 [00:24<03:00,  5.37it/s]"
     ]
    },
    {
     "name": "stdout",
     "output_type": "stream",
     "text": [
      "\n",
      "the alpha in LASSO is 0.001301 and the P-value for ADF is 0.0347181540744\n",
      "with in all coefficients, there are 8 ETFs are positive\n",
      "with in all coefficients, there are 0 ETFs are negative\n",
      "\n",
      "the alpha in LASSO is 0.001311 and the P-value for ADF is 0.0355039537621\n",
      "with in all coefficients, there are 8 ETFs are positive\n",
      "with in all coefficients, there are 0 ETFs are negative\n"
     ]
    },
    {
     "name": "stderr",
     "output_type": "stream",
     "text": [
      " 12%|█▏        | 134/1100 [00:24<02:59,  5.39it/s]"
     ]
    },
    {
     "name": "stdout",
     "output_type": "stream",
     "text": [
      "\n",
      "the alpha in LASSO is 0.001321 and the P-value for ADF is 0.0363035766196\n",
      "with in all coefficients, there are 8 ETFs are positive\n",
      "with in all coefficients, there are 0 ETFs are negative\n",
      "\n",
      "the alpha in LASSO is 0.001331 and the P-value for ADF is 0.0371208885451\n",
      "with in all coefficients, there are 8 ETFs are positive\n",
      "with in all coefficients, there are 0 ETFs are negative\n"
     ]
    },
    {
     "name": "stderr",
     "output_type": "stream",
     "text": [
      " 12%|█▏        | 136/1100 [00:25<02:58,  5.41it/s]"
     ]
    },
    {
     "name": "stdout",
     "output_type": "stream",
     "text": [
      "\n",
      "the alpha in LASSO is 0.001341 and the P-value for ADF is 0.0379620722136\n",
      "with in all coefficients, there are 8 ETFs are positive\n",
      "with in all coefficients, there are 0 ETFs are negative\n",
      "\n",
      "the alpha in LASSO is 0.001351 and the P-value for ADF is 0.0388402998194\n",
      "with in all coefficients, there are 8 ETFs are positive\n",
      "with in all coefficients, there are 0 ETFs are negative\n"
     ]
    },
    {
     "name": "stderr",
     "output_type": "stream",
     "text": [
      " 13%|█▎        | 138/1100 [00:25<02:57,  5.43it/s]"
     ]
    },
    {
     "name": "stdout",
     "output_type": "stream",
     "text": [
      "\n",
      "the alpha in LASSO is 0.001361 and the P-value for ADF is 0.0397422552879\n",
      "with in all coefficients, there are 7 ETFs are positive\n",
      "with in all coefficients, there are 0 ETFs are negative\n",
      "\n",
      "the alpha in LASSO is 0.001371 and the P-value for ADF is 0.0406450639233\n",
      "with in all coefficients, there are 7 ETFs are positive\n",
      "with in all coefficients, there are 0 ETFs are negative\n"
     ]
    },
    {
     "name": "stderr",
     "output_type": "stream",
     "text": [
      " 13%|█▎        | 140/1100 [00:25<02:56,  5.43it/s]"
     ]
    },
    {
     "name": "stdout",
     "output_type": "stream",
     "text": [
      "\n",
      "the alpha in LASSO is 0.001381 and the P-value for ADF is 0.0415632679515\n",
      "with in all coefficients, there are 7 ETFs are positive\n",
      "with in all coefficients, there are 0 ETFs are negative\n",
      "\n",
      "the alpha in LASSO is 0.001391 and the P-value for ADF is 0.0424967633877\n",
      "with in all coefficients, there are 7 ETFs are positive\n",
      "with in all coefficients, there are 0 ETFs are negative\n"
     ]
    },
    {
     "name": "stderr",
     "output_type": "stream",
     "text": [
      " 13%|█▎        | 142/1100 [00:26<02:55,  5.45it/s]"
     ]
    },
    {
     "name": "stdout",
     "output_type": "stream",
     "text": [
      "\n",
      "the alpha in LASSO is 0.001401 and the P-value for ADF is 0.0434456104592\n",
      "with in all coefficients, there are 7 ETFs are positive\n",
      "with in all coefficients, there are 0 ETFs are negative\n",
      "\n",
      "the alpha in LASSO is 0.001411 and the P-value for ADF is 0.0444099016197\n",
      "with in all coefficients, there are 7 ETFs are positive\n",
      "with in all coefficients, there are 0 ETFs are negative\n"
     ]
    },
    {
     "name": "stderr",
     "output_type": "stream",
     "text": [
      " 13%|█▎        | 144/1100 [00:26<02:54,  5.46it/s]"
     ]
    },
    {
     "name": "stdout",
     "output_type": "stream",
     "text": [
      "\n",
      "the alpha in LASSO is 0.001421 and the P-value for ADF is 0.0453896218006\n",
      "with in all coefficients, there are 7 ETFs are positive\n",
      "with in all coefficients, there are 0 ETFs are negative\n",
      "\n",
      "the alpha in LASSO is 0.001431 and the P-value for ADF is 0.0463847501551\n",
      "with in all coefficients, there are 7 ETFs are positive\n",
      "with in all coefficients, there are 0 ETFs are negative\n"
     ]
    },
    {
     "name": "stderr",
     "output_type": "stream",
     "text": [
      " 13%|█▎        | 146/1100 [00:26<02:54,  5.47it/s]"
     ]
    },
    {
     "name": "stdout",
     "output_type": "stream",
     "text": [
      "\n",
      "the alpha in LASSO is 0.001441 and the P-value for ADF is 0.0473952932675\n",
      "with in all coefficients, there are 7 ETFs are positive\n",
      "with in all coefficients, there are 0 ETFs are negative\n",
      "\n",
      "the alpha in LASSO is 0.001451 and the P-value for ADF is 0.0484211262067\n",
      "with in all coefficients, there are 7 ETFs are positive\n",
      "with in all coefficients, there are 0 ETFs are negative\n"
     ]
    },
    {
     "name": "stderr",
     "output_type": "stream",
     "text": [
      " 14%|█▎        | 149/1100 [00:27<02:52,  5.52it/s]"
     ]
    },
    {
     "name": "stdout",
     "output_type": "stream",
     "text": [
      "\n",
      "the alpha in LASSO is 0.001461 and the P-value for ADF is 0.0494625629429\n",
      "with in all coefficients, there are 7 ETFs are positive\n",
      "with in all coefficients, there are 0 ETFs are negative\n"
     ]
    },
    {
     "name": "stderr",
     "output_type": "stream",
     "text": [
      " 36%|███▋      | 401/1100 [00:48<01:24,  8.28it/s]"
     ]
    },
    {
     "name": "stdout",
     "output_type": "stream",
     "text": [
      "\n",
      "the alpha in LASSO is 0.003991 and the P-value for ADF is 0.0263998816345\n",
      "with in all coefficients, there are 5 ETFs are positive\n",
      "with in all coefficients, there are 0 ETFs are negative\n",
      "\n",
      "the alpha in LASSO is 0.004001 and the P-value for ADF is 0.0267045868461\n",
      "with in all coefficients, there are 5 ETFs are positive\n",
      "with in all coefficients, there are 0 ETFs are negative\n"
     ]
    },
    {
     "name": "stderr",
     "output_type": "stream",
     "text": [
      "\r",
      " 37%|███▋      | 403/1100 [00:48<01:24,  8.28it/s]"
     ]
    },
    {
     "name": "stdout",
     "output_type": "stream",
     "text": [
      "\n",
      "the alpha in LASSO is 0.004011 and the P-value for ADF is 0.0270113915322\n",
      "with in all coefficients, there are 5 ETFs are positive\n",
      "with in all coefficients, there are 0 ETFs are negative\n",
      "\n",
      "the alpha in LASSO is 0.004021 and the P-value for ADF is 0.0273218077401\n",
      "with in all coefficients, there are 5 ETFs are positive\n",
      "with in all coefficients, there are 0 ETFs are negative\n"
     ]
    },
    {
     "name": "stderr",
     "output_type": "stream",
     "text": [
      "\r",
      " 37%|███▋      | 405/1100 [00:48<01:23,  8.28it/s]"
     ]
    },
    {
     "name": "stdout",
     "output_type": "stream",
     "text": [
      "\n",
      "the alpha in LASSO is 0.004031 and the P-value for ADF is 0.0276328411974\n",
      "with in all coefficients, there are 5 ETFs are positive\n",
      "with in all coefficients, there are 0 ETFs are negative\n",
      "\n",
      "the alpha in LASSO is 0.004041 and the P-value for ADF is 0.0279459673299\n",
      "with in all coefficients, there are 5 ETFs are positive\n",
      "with in all coefficients, there are 0 ETFs are negative\n"
     ]
    },
    {
     "name": "stderr",
     "output_type": "stream",
     "text": [
      " 37%|███▋      | 407/1100 [00:49<01:23,  8.28it/s]"
     ]
    },
    {
     "name": "stdout",
     "output_type": "stream",
     "text": [
      "\n",
      "the alpha in LASSO is 0.004051 and the P-value for ADF is 0.0282611833553\n",
      "with in all coefficients, there are 5 ETFs are positive\n",
      "with in all coefficients, there are 0 ETFs are negative\n",
      "\n",
      "the alpha in LASSO is 0.004061 and the P-value for ADF is 0.0285801256834\n",
      "with in all coefficients, there are 5 ETFs are positive\n",
      "with in all coefficients, there are 0 ETFs are negative\n"
     ]
    },
    {
     "name": "stderr",
     "output_type": "stream",
     "text": [
      " 37%|███▋      | 409/1100 [00:49<01:23,  8.29it/s]"
     ]
    },
    {
     "name": "stdout",
     "output_type": "stream",
     "text": [
      "\n",
      "the alpha in LASSO is 0.004071 and the P-value for ADF is 0.0288995470687\n",
      "with in all coefficients, there are 5 ETFs are positive\n",
      "with in all coefficients, there are 0 ETFs are negative\n",
      "\n",
      "the alpha in LASSO is 0.004081 and the P-value for ADF is 0.0292210492875\n",
      "with in all coefficients, there are 5 ETFs are positive\n",
      "with in all coefficients, there are 0 ETFs are negative\n"
     ]
    },
    {
     "name": "stderr",
     "output_type": "stream",
     "text": [
      " 37%|███▋      | 411/1100 [00:49<01:23,  8.29it/s]"
     ]
    },
    {
     "name": "stdout",
     "output_type": "stream",
     "text": [
      "\n",
      "the alpha in LASSO is 0.004091 and the P-value for ADF is 0.0295446297424\n",
      "with in all coefficients, there are 5 ETFs are positive\n",
      "with in all coefficients, there are 0 ETFs are negative\n",
      "\n",
      "the alpha in LASSO is 0.004101 and the P-value for ADF is 0.0298720601237\n",
      "with in all coefficients, there are 5 ETFs are positive\n",
      "with in all coefficients, there are 0 ETFs are negative\n"
     ]
    },
    {
     "name": "stderr",
     "output_type": "stream",
     "text": [
      " 38%|███▊      | 413/1100 [00:49<01:22,  8.30it/s]"
     ]
    },
    {
     "name": "stdout",
     "output_type": "stream",
     "text": [
      "\n",
      "the alpha in LASSO is 0.004111 and the P-value for ADF is 0.0301998251744\n",
      "with in all coefficients, there are 5 ETFs are positive\n",
      "with in all coefficients, there are 0 ETFs are negative\n",
      "\n",
      "the alpha in LASSO is 0.004121 and the P-value for ADF is 0.0305296502097\n",
      "with in all coefficients, there are 5 ETFs are positive\n",
      "with in all coefficients, there are 0 ETFs are negative\n"
     ]
    },
    {
     "name": "stderr",
     "output_type": "stream",
     "text": [
      " 38%|███▊      | 415/1100 [00:49<01:22,  8.30it/s]"
     ]
    },
    {
     "name": "stdout",
     "output_type": "stream",
     "text": [
      "\n",
      "the alpha in LASSO is 0.004131 and the P-value for ADF is 0.0308615375442\n",
      "with in all coefficients, there are 5 ETFs are positive\n",
      "with in all coefficients, there are 0 ETFs are negative\n",
      "\n",
      "the alpha in LASSO is 0.004141 and the P-value for ADF is 0.0311974064759\n",
      "with in all coefficients, there are 5 ETFs are positive\n",
      "with in all coefficients, there are 0 ETFs are negative\n"
     ]
    },
    {
     "name": "stderr",
     "output_type": "stream",
     "text": [
      " 38%|███▊      | 417/1100 [00:50<01:22,  8.30it/s]"
     ]
    },
    {
     "name": "stdout",
     "output_type": "stream",
     "text": [
      "\n",
      "the alpha in LASSO is 0.004151 and the P-value for ADF is 0.0315334578513\n",
      "with in all coefficients, there are 5 ETFs are positive\n",
      "with in all coefficients, there are 0 ETFs are negative\n",
      "\n",
      "the alpha in LASSO is 0.004161 and the P-value for ADF is 0.0318715540567\n",
      "with in all coefficients, there are 5 ETFs are positive\n",
      "with in all coefficients, there are 0 ETFs are negative\n"
     ]
    },
    {
     "name": "stderr",
     "output_type": "stream",
     "text": [
      " 38%|███▊      | 419/1100 [00:50<01:21,  8.31it/s]"
     ]
    },
    {
     "name": "stdout",
     "output_type": "stream",
     "text": [
      "\n",
      "the alpha in LASSO is 0.004171 and the P-value for ADF is 0.0322116916096\n",
      "with in all coefficients, there are 5 ETFs are positive\n",
      "with in all coefficients, there are 0 ETFs are negative\n",
      "\n",
      "the alpha in LASSO is 0.004181 and the P-value for ADF is 0.0325559373185\n",
      "with in all coefficients, there are 5 ETFs are positive\n",
      "with in all coefficients, there are 0 ETFs are negative\n"
     ]
    },
    {
     "name": "stderr",
     "output_type": "stream",
     "text": [
      " 38%|███▊      | 421/1100 [00:50<01:21,  8.31it/s]"
     ]
    },
    {
     "name": "stdout",
     "output_type": "stream",
     "text": [
      "\n",
      "the alpha in LASSO is 0.004191 and the P-value for ADF is 0.0329002001506\n",
      "with in all coefficients, there are 5 ETFs are positive\n",
      "with in all coefficients, there are 0 ETFs are negative\n",
      "\n",
      "the alpha in LASSO is 0.004201 and the P-value for ADF is 0.0332464909014\n",
      "with in all coefficients, there are 5 ETFs are positive\n",
      "with in all coefficients, there are 0 ETFs are negative\n"
     ]
    },
    {
     "name": "stderr",
     "output_type": "stream",
     "text": [
      " 38%|███▊      | 423/1100 [00:50<01:21,  8.31it/s]"
     ]
    },
    {
     "name": "stdout",
     "output_type": "stream",
     "text": [
      "\n",
      "the alpha in LASSO is 0.004211 and the P-value for ADF is 0.0335969745701\n",
      "with in all coefficients, there are 5 ETFs are positive\n",
      "with in all coefficients, there are 0 ETFs are negative\n",
      "\n",
      "the alpha in LASSO is 0.004221 and the P-value for ADF is 0.0339473551217\n",
      "with in all coefficients, there are 5 ETFs are positive\n",
      "with in all coefficients, there are 0 ETFs are negative\n"
     ]
    },
    {
     "name": "stderr",
     "output_type": "stream",
     "text": [
      " 39%|███▊      | 425/1100 [00:51<01:21,  8.32it/s]"
     ]
    },
    {
     "name": "stdout",
     "output_type": "stream",
     "text": [
      "\n",
      "the alpha in LASSO is 0.004231 and the P-value for ADF is 0.0342997510452\n",
      "with in all coefficients, there are 5 ETFs are positive\n",
      "with in all coefficients, there are 0 ETFs are negative\n",
      "\n",
      "the alpha in LASSO is 0.004241 and the P-value for ADF is 0.0346564396715\n",
      "with in all coefficients, there are 5 ETFs are positive\n",
      "with in all coefficients, there are 0 ETFs are negative\n"
     ]
    },
    {
     "name": "stderr",
     "output_type": "stream",
     "text": [
      " 39%|███▉      | 427/1100 [00:51<01:20,  8.32it/s]"
     ]
    },
    {
     "name": "stdout",
     "output_type": "stream",
     "text": [
      "\n",
      "the alpha in LASSO is 0.004251 and the P-value for ADF is 0.0350128907387\n",
      "with in all coefficients, there are 5 ETFs are positive\n",
      "with in all coefficients, there are 0 ETFs are negative\n",
      "\n",
      "the alpha in LASSO is 0.004261 and the P-value for ADF is 0.035371340221\n",
      "with in all coefficients, there are 5 ETFs are positive\n",
      "with in all coefficients, there are 0 ETFs are negative\n"
     ]
    },
    {
     "name": "stderr",
     "output_type": "stream",
     "text": [
      " 39%|███▉      | 429/1100 [00:51<01:20,  8.32it/s]"
     ]
    },
    {
     "name": "stdout",
     "output_type": "stream",
     "text": [
      "\n",
      "the alpha in LASSO is 0.004271 and the P-value for ADF is 0.0357341841288\n",
      "with in all coefficients, there are 5 ETFs are positive\n",
      "with in all coefficients, there are 0 ETFs are negative\n",
      "\n",
      "the alpha in LASSO is 0.004281 and the P-value for ADF is 0.0360966621716\n",
      "with in all coefficients, there are 5 ETFs are positive\n",
      "with in all coefficients, there are 0 ETFs are negative\n",
      "\n",
      "the alpha in LASSO is 0.004291 and the P-value for ADF is 0.0364611138505"
     ]
    },
    {
     "name": "stderr",
     "output_type": "stream",
     "text": [
      " 39%|███▉      | 432/1100 [00:51<01:20,  8.33it/s]"
     ]
    },
    {
     "name": "stdout",
     "output_type": "stream",
     "text": [
      "\n",
      "with in all coefficients, there are 5 ETFs are positive\n",
      "with in all coefficients, there are 0 ETFs are negative\n",
      "\n",
      "the alpha in LASSO is 0.004301 and the P-value for ADF is 0.0368300622601\n",
      "with in all coefficients, there are 5 ETFs are positive\n",
      "with in all coefficients, there are 0 ETFs are negative\n",
      "\n",
      "the alpha in LASSO is 0.004311 and the P-value for ADF is 0.0371985179197\n",
      "with in all coefficients, there are 5 ETFs are positive\n",
      "with in all coefficients, there are 0 ETFs are negative\n"
     ]
    },
    {
     "name": "stderr",
     "output_type": "stream",
     "text": [
      " 39%|███▉      | 434/1100 [00:52<01:19,  8.34it/s]"
     ]
    },
    {
     "name": "stdout",
     "output_type": "stream",
     "text": [
      "\n",
      "the alpha in LASSO is 0.004321 and the P-value for ADF is 0.0375689163571\n",
      "with in all coefficients, there are 5 ETFs are positive\n",
      "with in all coefficients, there are 0 ETFs are negative\n",
      "\n",
      "the alpha in LASSO is 0.004331 and the P-value for ADF is 0.0379439158202\n",
      "with in all coefficients, there are 5 ETFs are positive\n",
      "with in all coefficients, there are 0 ETFs are negative\n"
     ]
    },
    {
     "name": "stderr",
     "output_type": "stream",
     "text": [
      " 40%|███▉      | 436/1100 [00:52<01:19,  8.34it/s]"
     ]
    },
    {
     "name": "stdout",
     "output_type": "stream",
     "text": [
      "\n",
      "the alpha in LASSO is 0.004341 and the P-value for ADF is 0.038318281155\n",
      "with in all coefficients, there are 5 ETFs are positive\n",
      "with in all coefficients, there are 0 ETFs are negative\n",
      "\n",
      "the alpha in LASSO is 0.004351 and the P-value for ADF is 0.0386945736855\n",
      "with in all coefficients, there are 5 ETFs are positive\n",
      "with in all coefficients, there are 0 ETFs are negative\n"
     ]
    },
    {
     "name": "stderr",
     "output_type": "stream",
     "text": [
      " 40%|███▉      | 438/1100 [00:52<01:19,  8.34it/s]"
     ]
    },
    {
     "name": "stdout",
     "output_type": "stream",
     "text": [
      "\n",
      "the alpha in LASSO is 0.004361 and the P-value for ADF is 0.039075573573\n",
      "with in all coefficients, there are 5 ETFs are positive\n",
      "with in all coefficients, there are 0 ETFs are negative\n",
      "\n",
      "the alpha in LASSO is 0.004371 and the P-value for ADF is 0.039455794286\n",
      "with in all coefficients, there are 5 ETFs are positive\n",
      "with in all coefficients, there are 0 ETFs are negative\n",
      "\n",
      "the alpha in LASSO is 0.004381 and the P-value for ADF is 0.0398379238753"
     ]
    },
    {
     "name": "stderr",
     "output_type": "stream",
     "text": [
      " 40%|████      | 441/1100 [00:52<01:18,  8.35it/s]"
     ]
    },
    {
     "name": "stdout",
     "output_type": "stream",
     "text": [
      "\n",
      "with in all coefficients, there are 5 ETFs are positive\n",
      "with in all coefficients, there are 0 ETFs are negative\n",
      "\n",
      "the alpha in LASSO is 0.004391 and the P-value for ADF is 0.0402248651425\n",
      "with in all coefficients, there are 5 ETFs are positive\n",
      "with in all coefficients, there are 0 ETFs are negative\n",
      "\n",
      "the alpha in LASSO is 0.004401 and the P-value for ADF is 0.0406108690528\n",
      "with in all coefficients, there are 5 ETFs are positive\n",
      "with in all coefficients, there are 0 ETFs are negative\n"
     ]
    },
    {
     "name": "stderr",
     "output_type": "stream",
     "text": [
      " 40%|████      | 443/1100 [00:53<01:18,  8.35it/s]"
     ]
    },
    {
     "name": "stdout",
     "output_type": "stream",
     "text": [
      "\n",
      "the alpha in LASSO is 0.004411 and the P-value for ADF is 0.041001743814\n",
      "with in all coefficients, there are 5 ETFs are positive\n",
      "with in all coefficients, there are 0 ETFs are negative\n",
      "\n",
      "the alpha in LASSO is 0.004421 and the P-value for ADF is 0.0413915826604\n",
      "with in all coefficients, there are 5 ETFs are positive\n",
      "with in all coefficients, there are 0 ETFs are negative\n"
     ]
    },
    {
     "name": "stderr",
     "output_type": "stream",
     "text": [
      " 40%|████      | 445/1100 [00:53<01:18,  8.35it/s]"
     ]
    },
    {
     "name": "stdout",
     "output_type": "stream",
     "text": [
      "\n",
      "the alpha in LASSO is 0.004431 and the P-value for ADF is 0.0417833110394\n",
      "with in all coefficients, there are 5 ETFs are positive\n",
      "with in all coefficients, there are 0 ETFs are negative\n",
      "\n",
      "the alpha in LASSO is 0.004441 and the P-value for ADF is 0.0421800290815\n",
      "with in all coefficients, there are 5 ETFs are positive\n",
      "with in all coefficients, there are 0 ETFs are negative\n"
     ]
    },
    {
     "name": "stderr",
     "output_type": "stream",
     "text": [
      " 41%|████      | 447/1100 [00:53<01:18,  8.36it/s]"
     ]
    },
    {
     "name": "stdout",
     "output_type": "stream",
     "text": [
      "\n",
      "the alpha in LASSO is 0.004451 and the P-value for ADF is 0.0425755437025\n",
      "with in all coefficients, there are 5 ETFs are positive\n",
      "with in all coefficients, there are 0 ETFs are negative\n",
      "\n",
      "the alpha in LASSO is 0.004461 and the P-value for ADF is 0.0429729161194\n",
      "with in all coefficients, there are 5 ETFs are positive\n",
      "with in all coefficients, there are 0 ETFs are negative\n"
     ]
    },
    {
     "name": "stderr",
     "output_type": "stream",
     "text": [
      " 41%|████      | 449/1100 [00:53<01:17,  8.35it/s]"
     ]
    },
    {
     "name": "stdout",
     "output_type": "stream",
     "text": [
      "\n",
      "the alpha in LASSO is 0.004471 and the P-value for ADF is 0.0433754051041\n",
      "with in all coefficients, there are 5 ETFs are positive\n",
      "with in all coefficients, there are 0 ETFs are negative\n",
      "\n",
      "the alpha in LASSO is 0.004481 and the P-value for ADF is 0.0437765181081\n",
      "with in all coefficients, there are 5 ETFs are positive\n",
      "with in all coefficients, there are 0 ETFs are negative\n"
     ]
    },
    {
     "name": "stderr",
     "output_type": "stream",
     "text": [
      " 41%|████      | 451/1100 [00:53<01:17,  8.35it/s]"
     ]
    },
    {
     "name": "stdout",
     "output_type": "stream",
     "text": [
      "\n",
      "the alpha in LASSO is 0.004491 and the P-value for ADF is 0.0441828161462\n",
      "with in all coefficients, there are 5 ETFs are positive\n",
      "with in all coefficients, there are 0 ETFs are negative\n",
      "\n",
      "the alpha in LASSO is 0.004501 and the P-value for ADF is 0.044587653141\n",
      "with in all coefficients, there are 5 ETFs are positive\n",
      "with in all coefficients, there are 0 ETFs are negative\n"
     ]
    },
    {
     "name": "stderr",
     "output_type": "stream",
     "text": [
      " 41%|████      | 453/1100 [00:54<01:17,  8.36it/s]"
     ]
    },
    {
     "name": "stdout",
     "output_type": "stream",
     "text": [
      "\n",
      "the alpha in LASSO is 0.004511 and the P-value for ADF is 0.0449942894793\n",
      "with in all coefficients, there are 5 ETFs are positive\n",
      "with in all coefficients, there are 0 ETFs are negative\n",
      "\n",
      "the alpha in LASSO is 0.004521 and the P-value for ADF is 0.0454062495971\n",
      "with in all coefficients, there are 5 ETFs are positive\n",
      "with in all coefficients, there are 0 ETFs are negative\n"
     ]
    },
    {
     "name": "stderr",
     "output_type": "stream",
     "text": [
      " 41%|████▏     | 455/1100 [00:54<01:17,  8.36it/s]"
     ]
    },
    {
     "name": "stdout",
     "output_type": "stream",
     "text": [
      "\n",
      "the alpha in LASSO is 0.004531 and the P-value for ADF is 0.0458165527657\n",
      "with in all coefficients, there are 5 ETFs are positive\n",
      "with in all coefficients, there are 0 ETFs are negative\n",
      "\n",
      "the alpha in LASSO is 0.004541 and the P-value for ADF is 0.0462322293506\n",
      "with in all coefficients, there are 5 ETFs are positive\n",
      "with in all coefficients, there are 0 ETFs are negative\n",
      "\n",
      "the alpha in LASSO is 0.004551 and the P-value for ADF is 0.0466461823172"
     ]
    },
    {
     "name": "stderr",
     "output_type": "stream",
     "text": [
      " 42%|████▏     | 458/1100 [00:54<01:16,  8.37it/s]"
     ]
    },
    {
     "name": "stdout",
     "output_type": "stream",
     "text": [
      "\n",
      "with in all coefficients, there are 5 ETFs are positive\n",
      "with in all coefficients, there are 0 ETFs are negative\n",
      "\n",
      "the alpha in LASSO is 0.004561 and the P-value for ADF is 0.0470655416165\n",
      "with in all coefficients, there are 5 ETFs are positive\n",
      "with in all coefficients, there are 0 ETFs are negative\n",
      "\n",
      "the alpha in LASSO is 0.004571 and the P-value for ADF is 0.0474830844635\n",
      "with in all coefficients, there are 5 ETFs are positive\n",
      "with in all coefficients, there are 0 ETFs are negative\n"
     ]
    },
    {
     "name": "stderr",
     "output_type": "stream",
     "text": [
      " 42%|████▏     | 460/1100 [00:54<01:16,  8.37it/s]"
     ]
    },
    {
     "name": "stdout",
     "output_type": "stream",
     "text": [
      "\n",
      "the alpha in LASSO is 0.004581 and the P-value for ADF is 0.0479023613372\n",
      "with in all coefficients, there are 5 ETFs are positive\n",
      "with in all coefficients, there are 0 ETFs are negative\n",
      "\n",
      "the alpha in LASSO is 0.004591 and the P-value for ADF is 0.0483272090497\n",
      "with in all coefficients, there are 5 ETFs are positive\n",
      "with in all coefficients, there are 0 ETFs are negative\n"
     ]
    },
    {
     "name": "stderr",
     "output_type": "stream",
     "text": [
      " 42%|████▏     | 462/1100 [00:55<01:16,  8.38it/s]"
     ]
    },
    {
     "name": "stdout",
     "output_type": "stream",
     "text": [
      "\n",
      "the alpha in LASSO is 0.004601 and the P-value for ADF is 0.0487500377112\n",
      "with in all coefficients, there are 5 ETFs are positive\n",
      "with in all coefficients, there are 0 ETFs are negative\n",
      "\n",
      "the alpha in LASSO is 0.004611 and the P-value for ADF is 0.049178487613\n",
      "with in all coefficients, there are 5 ETFs are positive\n",
      "with in all coefficients, there are 0 ETFs are negative\n"
     ]
    },
    {
     "name": "stderr",
     "output_type": "stream",
     "text": [
      " 42%|████▏     | 465/1100 [00:55<01:15,  8.39it/s]"
     ]
    },
    {
     "name": "stdout",
     "output_type": "stream",
     "text": [
      "\n",
      "the alpha in LASSO is 0.004621 and the P-value for ADF is 0.0496048115432\n",
      "with in all coefficients, there are 5 ETFs are positive\n",
      "with in all coefficients, there are 0 ETFs are negative\n"
     ]
    },
    {
     "name": "stderr",
     "output_type": "stream",
     "text": [
      "100%|██████████| 1100/1100 [01:36<00:00, 11.39it/s]"
     ]
    },
    {
     "name": "stdout",
     "output_type": "stream",
     "text": [
      "\n",
      "\n",
      "total 211 LR models are stationary\n",
      "total we tested 1100 models\n",
      "CPU times: user 11min 39s, sys: 52.9 s, total: 12min 32s\n",
      "Wall time: 1min 36s\n"
     ]
    },
    {
     "name": "stderr",
     "output_type": "stream",
     "text": [
      "\n"
     ]
    }
   ],
   "source": [
    "%%time\n",
    "j = 0\n",
    "m = 0\n",
    "\n",
    "stationary_alpha = []\n",
    "\n",
    "SPTR_log_train = SPTR_log.loc[\"2008-01\": \"2013-12-31\"].copy()\n",
    "All_ETFs_log_train = All_ETFs_log.loc[\"2008-01\": \"2013-12-31\"].copy()\n",
    "\n",
    "for i in tqdm(np.arange(0.000001, 0.011, 0.00001)):\n",
    "    m+=1\n",
    "    LR_lasso = Lasso(alpha=i, fit_intercept=True,normalize=None)\n",
    "    LR_lasso.fit(All_ETFs_log_train,SPTR_log_train)\n",
    "    LR_lasso_residual = SPTR_log_train.values.flatten() - LR_lasso.predict(All_ETFs_log_train)\n",
    "    if check_for_stationarity_no_print(LR_lasso_residual.flatten(),cutoff=0.05):\n",
    "        j+= 1\n",
    "        stationary_alpha.append(LR_lasso.alpha)\n",
    "        print '\\nthe alpha in LASSO is %s and the P-value for ADF is %s'%(i, ADF(LR_lasso_residual.flatten())[1])\n",
    "        print 'with in all coefficients, there are %s ETFs are positive'%(sum(LR_lasso.coef_>0))\n",
    "        print 'with in all coefficients, there are %s ETFs are negative'%(sum(LR_lasso.coef_<0))\n",
    "\n",
    "print '\\n\\ntotal %s LR models are stationary'%(j)\n",
    "print 'total we tested %s models'%(m)"
   ]
  },
  {
   "cell_type": "code",
   "execution_count": 192,
   "metadata": {},
   "outputs": [
    {
     "name": "stdout",
     "output_type": "stream",
     "text": [
      "\n",
      "\n",
      "total 211 LR models are stationary\n",
      "total we tested 1100 models\n"
     ]
    }
   ],
   "source": [
    "print '\\n\\ntotal %s LR models are stationary'%(j)\n",
    "print 'total we tested %s models'%(m)"
   ]
  },
  {
   "cell_type": "code",
   "execution_count": 194,
   "metadata": {
    "scrolled": false
   },
   "outputs": [
    {
     "data": {
      "text/plain": [
       "211"
      ]
     },
     "execution_count": 194,
     "metadata": {},
     "output_type": "execute_result"
    }
   ],
   "source": [
    "len(stationary_alpha)"
   ]
  },
  {
   "cell_type": "code",
   "execution_count": null,
   "metadata": {
    "collapsed": true
   },
   "outputs": [],
   "source": []
  },
  {
   "cell_type": "code",
   "execution_count": null,
   "metadata": {
    "collapsed": true
   },
   "outputs": [],
   "source": []
  },
  {
   "cell_type": "markdown",
   "metadata": {},
   "source": [
    "## SPTR Index Tracking"
   ]
  },
  {
   "cell_type": "code",
   "execution_count": 39,
   "metadata": {
    "collapsed": true
   },
   "outputs": [],
   "source": [
    "# pickle.dump(ETFs_GSPC, open(\"ETFs_GSPC_MRP_Production.p\", \"w\"))\n",
    "with gzip.open('sptr.pkl.gz','r') as f:\n",
    "    SPTR = cPickle.load(f)"
   ]
  },
  {
   "cell_type": "code",
   "execution_count": 49,
   "metadata": {},
   "outputs": [
    {
     "data": {
      "text/html": [
       "<div>\n",
       "<style scoped>\n",
       "    .dataframe tbody tr th:only-of-type {\n",
       "        vertical-align: middle;\n",
       "    }\n",
       "\n",
       "    .dataframe tbody tr th {\n",
       "        vertical-align: top;\n",
       "    }\n",
       "\n",
       "    .dataframe thead th {\n",
       "        text-align: right;\n",
       "    }\n",
       "</style>\n",
       "<table border=\"1\" class=\"dataframe\">\n",
       "  <thead>\n",
       "    <tr style=\"text-align: right;\">\n",
       "      <th></th>\n",
       "      <th>Open</th>\n",
       "      <th>High</th>\n",
       "      <th>Low</th>\n",
       "      <th>Close</th>\n",
       "      <th>Adj Close</th>\n",
       "      <th>Volume</th>\n",
       "    </tr>\n",
       "    <tr>\n",
       "      <th>Date</th>\n",
       "      <th></th>\n",
       "      <th></th>\n",
       "      <th></th>\n",
       "      <th></th>\n",
       "      <th></th>\n",
       "      <th></th>\n",
       "    </tr>\n",
       "  </thead>\n",
       "  <tbody>\n",
       "    <tr>\n",
       "      <th>2008-01-02</th>\n",
       "      <td>2273.409912</td>\n",
       "      <td>2273.409912</td>\n",
       "      <td>2273.409912</td>\n",
       "      <td>2273.409912</td>\n",
       "      <td>2273.409912</td>\n",
       "      <td>0</td>\n",
       "    </tr>\n",
       "    <tr>\n",
       "      <th>2008-01-03</th>\n",
       "      <td>2273.409912</td>\n",
       "      <td>2273.409912</td>\n",
       "      <td>2273.409912</td>\n",
       "      <td>2273.409912</td>\n",
       "      <td>2273.409912</td>\n",
       "      <td>0</td>\n",
       "    </tr>\n",
       "    <tr>\n",
       "      <th>2008-01-04</th>\n",
       "      <td>2217.590088</td>\n",
       "      <td>2217.590088</td>\n",
       "      <td>2217.590088</td>\n",
       "      <td>2217.590088</td>\n",
       "      <td>2217.590088</td>\n",
       "      <td>0</td>\n",
       "    </tr>\n",
       "    <tr>\n",
       "      <th>2008-01-07</th>\n",
       "      <td>2224.760010</td>\n",
       "      <td>2224.760010</td>\n",
       "      <td>2224.760010</td>\n",
       "      <td>2224.760010</td>\n",
       "      <td>2224.760010</td>\n",
       "      <td>0</td>\n",
       "    </tr>\n",
       "    <tr>\n",
       "      <th>2008-01-08</th>\n",
       "      <td>2184.669922</td>\n",
       "      <td>2184.669922</td>\n",
       "      <td>2184.669922</td>\n",
       "      <td>2184.669922</td>\n",
       "      <td>2184.669922</td>\n",
       "      <td>0</td>\n",
       "    </tr>\n",
       "  </tbody>\n",
       "</table>\n",
       "</div>"
      ],
      "text/plain": [
       "                   Open         High          Low        Close    Adj Close  \\\n",
       "Date                                                                          \n",
       "2008-01-02  2273.409912  2273.409912  2273.409912  2273.409912  2273.409912   \n",
       "2008-01-03  2273.409912  2273.409912  2273.409912  2273.409912  2273.409912   \n",
       "2008-01-04  2217.590088  2217.590088  2217.590088  2217.590088  2217.590088   \n",
       "2008-01-07  2224.760010  2224.760010  2224.760010  2224.760010  2224.760010   \n",
       "2008-01-08  2184.669922  2184.669922  2184.669922  2184.669922  2184.669922   \n",
       "\n",
       "            Volume  \n",
       "Date                \n",
       "2008-01-02       0  \n",
       "2008-01-03       0  \n",
       "2008-01-04       0  \n",
       "2008-01-07       0  \n",
       "2008-01-08       0  "
      ]
     },
     "execution_count": 49,
     "metadata": {},
     "output_type": "execute_result"
    }
   ],
   "source": [
    "SPTR.head()"
   ]
  },
  {
   "cell_type": "code",
   "execution_count": 41,
   "metadata": {
    "scrolled": true
   },
   "outputs": [
    {
     "data": {
      "text/html": [
       "<div>\n",
       "<style scoped>\n",
       "    .dataframe tbody tr th:only-of-type {\n",
       "        vertical-align: middle;\n",
       "    }\n",
       "\n",
       "    .dataframe tbody tr th {\n",
       "        vertical-align: top;\n",
       "    }\n",
       "\n",
       "    .dataframe thead th {\n",
       "        text-align: right;\n",
       "    }\n",
       "</style>\n",
       "<table border=\"1\" class=\"dataframe\">\n",
       "  <thead>\n",
       "    <tr style=\"text-align: right;\">\n",
       "      <th></th>\n",
       "      <th>Adj Close</th>\n",
       "    </tr>\n",
       "    <tr>\n",
       "      <th>Date</th>\n",
       "      <th></th>\n",
       "    </tr>\n",
       "  </thead>\n",
       "  <tbody>\n",
       "    <tr>\n",
       "      <th>2008-01-02</th>\n",
       "      <td>7.729036</td>\n",
       "    </tr>\n",
       "    <tr>\n",
       "      <th>2008-01-03</th>\n",
       "      <td>7.729036</td>\n",
       "    </tr>\n",
       "    <tr>\n",
       "      <th>2008-01-04</th>\n",
       "      <td>7.704176</td>\n",
       "    </tr>\n",
       "    <tr>\n",
       "      <th>2008-01-07</th>\n",
       "      <td>7.707404</td>\n",
       "    </tr>\n",
       "    <tr>\n",
       "      <th>2008-01-08</th>\n",
       "      <td>7.689220</td>\n",
       "    </tr>\n",
       "  </tbody>\n",
       "</table>\n",
       "</div>"
      ],
      "text/plain": [
       "            Adj Close\n",
       "Date                 \n",
       "2008-01-02   7.729036\n",
       "2008-01-03   7.729036\n",
       "2008-01-04   7.704176\n",
       "2008-01-07   7.707404\n",
       "2008-01-08   7.689220"
      ]
     },
     "execution_count": 41,
     "metadata": {},
     "output_type": "execute_result"
    }
   ],
   "source": [
    "SPTR_log = np.log(SPTR[['Adj Close']].copy())\n",
    "SPTR_log.head()"
   ]
  },
  {
   "cell_type": "code",
   "execution_count": 42,
   "metadata": {
    "collapsed": true
   },
   "outputs": [],
   "source": [
    "SPTR_log_train = SPTR_log.loc[\"2008-01\": \"2013-12-31\"].copy()\n",
    "SPTR_log_test = SPTR_log.loc[\"2014-01-01\": \"2017-12-31\"].copy()"
   ]
  },
  {
   "cell_type": "code",
   "execution_count": null,
   "metadata": {
    "collapsed": true
   },
   "outputs": [],
   "source": []
  },
  {
   "cell_type": "code",
   "execution_count": null,
   "metadata": {
    "collapsed": true
   },
   "outputs": [],
   "source": []
  },
  {
   "cell_type": "code",
   "execution_count": null,
   "metadata": {
    "collapsed": true
   },
   "outputs": [],
   "source": []
  },
  {
   "cell_type": "markdown",
   "metadata": {
    "collapsed": true
   },
   "source": [
    "## SPTR no balance"
   ]
  },
  {
   "cell_type": "code",
   "execution_count": 239,
   "metadata": {
    "collapsed": true
   },
   "outputs": [],
   "source": [
    "def SPTR_no_balance(alpha_input = 0.000001):  \n",
    "    SPTR_log_train = SPTR_log.loc[\"2008-01\": \"2013-12-31\"].copy()\n",
    "\n",
    "    All_ETFs_log_train = All_ETFs_log.loc[\"2008-01\": \"2013-12-31\"].copy()\n",
    "\n",
    "    portfolio_test = pd.DataFrame(0,columns=['portf_forest','portfolio_test_intercept'] ,index=SPTR_log.loc['2014':'2017'].index)  # this is to store the test data from ETFs\n",
    "\n",
    "    LR_lasso_year = Lasso(alpha=alpha_input, fit_intercept=True,normalize=None, positive=True)\n",
    "\n",
    "    LR_lasso_year.fit(All_ETFs_log_train,SPTR_log_train[['Adj Close']])\n",
    "    print('\\n\\n ')\n",
    "    print('for LASSO alpha',LR_lasso_year.alpha)\n",
    "    print('original coeff greater than 0 is ',np.sum(LR_lasso_year.coef_ > 0 ))\n",
    "    print('original coeff leass than 0 is ' ,np.sum(LR_lasso_year.coef_ < 0 ))\n",
    "    print('original coeff equal to 0 is ',np.sum(LR_lasso_year.coef_ == 0) )\n",
    "\n",
    "    index_of_etfs = LR_lasso_year.coef_ > 0 # these etfs are our portfolio etfs, we need those to build the portfolio,and to rebalance\n",
    "\n",
    "    All_ETFs_log_year = All_ETFs_log.loc[: , index_of_etfs] .copy()  # this contains all the etfs we used to build portfolio\n",
    "\n",
    "    coefficients= LR_lasso_year.coef_.copy()\n",
    "\n",
    "    nonzero_coeff  = coefficients[~(coefficients==0)].copy()\n",
    "\n",
    "    nonzero_coeff = nonzero_coeff/nonzero_coeff.sum()\n",
    "\n",
    "    portfolio_test['portf_forest'] = All_ETFs_log_year.dot(nonzero_coeff).copy()\n",
    "\n",
    "    portfolio_test['portfolio_test_intercept'] = portfolio_test['portf_forest']+LR_lasso_year.intercept_\n",
    "\n",
    "\n",
    "#     plt.figure(figsize=(25,8))\n",
    "#     plt.plot(SPTR_log_test.index,SPTR_log_test['Adj Close'], 'r-', label='Real data' )\n",
    "#     plt.plot(SPTR_log_test.index,portfolio_test['portfolio_test_intercept'].loc[\"2014-01-01\": \"2017-12-31\"], 'g-', label='No balance Portfolio' )\n",
    "#     plt.legend(loc='upper left')\n",
    "#     plt.title('Comparison between real S&P500 and portfolio constructed on test data')\n",
    "#     plt.show()\n",
    "\n",
    "    portfolio_test['Daily_Return'] = portfolio_test['portf_forest'].diff()\n",
    "    portfolio_test['Daily_Return'][0] = 0\n",
    "    portfolio_test['Cumsum Daily_Return'] = portfolio_test['Daily_Return'].cumsum()\n",
    "\n",
    "#     portfolio_test['Daily_Return'].plot(kind='line',figsize=(20,5),label = 'annual rebalance portfolio cumsum return',style='r-')\n",
    "#     SPTR_log_test['Daily_Return'].loc[\"2014-01-01\": \"2017-12-31\"].plot(kind='line',figsize=(20,5),label = 'SPTR cumsum return',style='g-')\n",
    "#     plt.legend(loc='upper left')\n",
    "#     plt.xticks( pd.date_range(start='2014-1-01', end='2018-01-01', freq = 'M'))\n",
    "#     plt.title('Cumsum Return SPTR and Portfolio')\n",
    "#     plt.show()\n",
    "\n",
    "    Track_error_annual = portfolio_test['Daily_Return'] - SPTR_log_test['Daily_Return']\n",
    "\n",
    "    print('annual Tracking Error Variance is %.8f') %(np.var(Track_error_annual))\n",
    "\n",
    "    print('Sum of square Tracking Error is %.8f') %(np.sum(Track_error_annual**2))\n",
    "\n",
    "    print('Information ratio of the annual portfolio is %.3f')%(np.mean(Track_error_annual)/np.std(Track_error_annual))\n",
    "\n",
    "    print('Annual Correlation coefficient between portfolio and SPTR is %.6f')%(\n",
    "        np.corrcoef(SPTR_log_test['Daily_Return'].values.flatten(),portfolio_test['Daily_Return'].values.flatten())[0,1])\n",
    "\n",
    "    return portfolio_test"
   ]
  },
  {
   "cell_type": "code",
   "execution_count": 241,
   "metadata": {
    "scrolled": false
   },
   "outputs": [
    {
     "name": "stdout",
     "output_type": "stream",
     "text": [
      "\n",
      "\n",
      " \n",
      "('for LASSO alpha', 0.000131)\n",
      "('original coeff greater than 0 is ', 11)\n",
      "('original coeff leass than 0 is ', 0)\n",
      "('original coeff equal to 0 is ', 40)\n",
      "annual Tracking Error Variance is 0.00000115\n",
      "Sum of square Tracking Error is 0.00116076\n",
      "Information ratio of the annual portfolio is -0.041\n",
      "Annual Correlation coefficient between portfolio and SPTR is 0.991269\n"
     ]
    }
   ],
   "source": [
    "# for i in stationary_alpha:\n",
    "#     SPTR_no_balance(alpha_input = i)\n",
    "portfolio_test_nobalance =  SPTR_no_balance(alpha_input = 0.000131)"
   ]
  },
  {
   "cell_type": "code",
   "execution_count": null,
   "metadata": {
    "collapsed": true
   },
   "outputs": [],
   "source": []
  },
  {
   "cell_type": "code",
   "execution_count": null,
   "metadata": {
    "collapsed": true
   },
   "outputs": [],
   "source": []
  },
  {
   "cell_type": "code",
   "execution_count": null,
   "metadata": {
    "collapsed": true
   },
   "outputs": [],
   "source": []
  },
  {
   "cell_type": "code",
   "execution_count": null,
   "metadata": {
    "collapsed": true
   },
   "outputs": [],
   "source": []
  },
  {
   "cell_type": "markdown",
   "metadata": {},
   "source": [
    "### SPTR year rebalance"
   ]
  },
  {
   "cell_type": "code",
   "execution_count": 57,
   "metadata": {},
   "outputs": [
    {
     "data": {
      "text/plain": [
       "(2539, 51)"
      ]
     },
     "execution_count": 57,
     "metadata": {},
     "output_type": "execute_result"
    }
   ],
   "source": [
    "All_ETFs_log.shape"
   ]
  },
  {
   "cell_type": "code",
   "execution_count": 219,
   "metadata": {
    "scrolled": true
   },
   "outputs": [
    {
     "name": "stdout",
     "output_type": "stream",
     "text": [
      "('original coeff greater than 0 is ', 11)\n",
      "('original coeff leass than 0 is ', 0)\n",
      "('original coeff equal to 0 is ', 40)\n",
      "\n",
      "\n",
      "for range in 2008 to2014-12-31 00:00:00\n",
      "('number of coeff greater than 0 is ', 9)\n",
      "('number of coeff leass than 0 is ', 0)\n",
      "('number of coeff equal to 0 is ', 2)\n",
      "p-value = 7.99601118893e-08 The series  is likely stationary.\n",
      "2th loop is good\n",
      "\n",
      "\n",
      "for range in 2008 to2015-12-31 00:00:00\n",
      "('number of coeff greater than 0 is ', 10)\n",
      "('number of coeff leass than 0 is ', 0)\n",
      "('number of coeff equal to 0 is ', 1)\n",
      "p-value = 0.000394253207094 The series  is likely stationary.\n",
      "3th loop is good\n",
      "\n",
      "\n",
      "for range in 2008 to2016-12-31 00:00:00\n",
      "('number of coeff greater than 0 is ', 9)\n",
      "('number of coeff leass than 0 is ', 0)\n",
      "('number of coeff equal to 0 is ', 2)\n",
      "p-value = 2.85960461162e-05 The series  is likely stationary.\n",
      "4th loop is good\n"
     ]
    },
    {
     "data": {
      "image/png": "[encoded data removed]",
      "text/plain": [
       "<matplotlib.figure.Figure at 0x7f618614a750>"
      ]
     },
     "metadata": {},
     "output_type": "display_data"
    },
    {
     "data": {
      "image/png": "[encoded data removed]",
      "text/plain": [
       "<matplotlib.figure.Figure at 0x7f6184729f50>"
      ]
     },
     "metadata": {},
     "output_type": "display_data"
    },
    {
     "name": "stdout",
     "output_type": "stream",
     "text": [
      "annual Tracking Error Variance is 0.00000199\n",
      "Sum of square Tracking Error is 0.00201122\n",
      "Information ratio of the annual portfolio is -0.056\n",
      "Annual Correlation coefficient between portfolio and SPTR is 0.983913\n"
     ]
    }
   ],
   "source": [
    "SPTR_log_train = SPTR_log.loc[\"2008-01\": \"2013-12-31\"].copy()\n",
    "\n",
    "All_ETFs_log_train = All_ETFs_log.loc[\"2008-01\": \"2013-12-31\"].copy()\n",
    "\n",
    "portfolio_test = pd.DataFrame(0,columns=['portf_forest','portfolio_test_intercept'] ,index=SPTR_log.loc['2014':'2017'].index)  # this is to store the test data from ETFs\n",
    "\n",
    "LR_lasso_year = Lasso(alpha=0.000131, fit_intercept=True,normalize=None, positive=True)\n",
    "\n",
    "LR_lasso_year.fit(All_ETFs_log_train,SPTR_log_train[['Adj Close']])\n",
    "\n",
    "print('original coeff greater than 0 is ',np.sum(LR_lasso_year.coef_ > 0 ))\n",
    "print('original coeff leass than 0 is ' ,np.sum(LR_lasso_year.coef_ < 0 ))\n",
    "print('original coeff equal to 0 is ',np.sum(LR_lasso_year.coef_ == 0) )\n",
    "\n",
    "index_of_etfs = LR_lasso_year.coef_ > 0 # these etfs are our portfolio etfs, we need those to build the portfolio,and to rebalance\n",
    "\n",
    "All_ETFs_log_year = All_ETFs_log.loc[: , index_of_etfs] .copy()  # this contains all the etfs we used to build portfolio\n",
    "\n",
    "coefficients= LR_lasso_year.coef_.copy()\n",
    "\n",
    "nonzero_coeff  = coefficients[~(coefficients==0)].copy()\n",
    "\n",
    "nonzero_coeff = nonzero_coeff/nonzero_coeff.sum()\n",
    "\n",
    "portfolio_test.loc['2014','portf_forest'] = All_ETFs_log_year.dot(nonzero_coeff).loc['2014'].copy()\n",
    "\n",
    "portfolio_test.loc['2014','portfolio_test_intercept'] = portfolio_test.loc['2014','portf_forest']+LR_lasso_year.intercept_\n",
    "\n",
    "j = 1\n",
    "\n",
    "for i in pd.date_range(start='2014', end='2017', freq='A'):\n",
    "    \n",
    "    Lasso_Model = Lasso(alpha=0.000000001 , fit_intercept=True,normalize=None,positive =True)\n",
    "    \n",
    "    All_ETFs_log_train = All_ETFs_log_year.loc['2008': i].copy()\n",
    "   \n",
    "    SPTR_log_train = SPTR_log.loc['2008': i].copy()\n",
    "    \n",
    "    Lasso_Model.fit(All_ETFs_log_train,SPTR_log_train[['Adj Close']])\n",
    "    \n",
    "    print('\\n\\nfor range in 2008 to'+str(i))\n",
    "    \n",
    "    print('number of coeff greater than 0 is ',np.sum(Lasso_Model.coef_ > 0 ))\n",
    "   \n",
    "    print('number of coeff leass than 0 is ' ,np.sum(Lasso_Model.coef_ < 0 ))\n",
    "    \n",
    "    print('number of coeff equal to 0 is ',np.sum(Lasso_Model.coef_ == 0) )\n",
    "    \n",
    "    Lasso_Model_residual = SPTR_log_train[['Adj Close']].values.flatten() - Lasso_Model.predict(All_ETFs_log_train)\n",
    "   \n",
    "    check_for_stationarity(Lasso_Model_residual.flatten(),cutoff=0.05)\n",
    "   \n",
    "    coefficients= Lasso_Model.coef_.copy()\n",
    "\n",
    "    coefficients = coefficients/coefficients.sum()\n",
    "    \n",
    "    portfolio_test.loc[str(2014+j),'portf_forest'] = All_ETFs_log_year.dot(coefficients).loc[str(2014+j)].copy()\n",
    "    \n",
    "    portfolio_test.loc[str(2014+j),'portfolio_test_intercept'] = portfolio_test.loc[str(2014+j),'portf_forest']+Lasso_Model.intercept_\n",
    "\n",
    "    \n",
    "    j+=1\n",
    "    \n",
    "    print('%sth loop is good'%(j))\n",
    "\n",
    "SPTR_log_test = SPTR_log.loc[\"2014-01-01\": \"2017-12-31\"].copy()\n",
    "plt.figure(figsize=(25,8))\n",
    "plt.plot(SPTR_log_test.index,SPTR_log_test['Adj Close'], 'r-', label='Real data' )\n",
    "plt.plot(SPTR_log_test.index,portfolio_test['portfolio_test_intercept'].loc[\"2014-01-01\": \"2017-12-31\"], 'g-', label='annual Portfolio' )\n",
    "plt.legend(loc='upper left')\n",
    "plt.title('Comparison between real S&P500 and portfolio constructed on test data')\n",
    "plt.show()\n",
    "\n",
    "SPTR_log_test['Daily_Return'] = SPTR_log_test['Adj Close'].diff()\n",
    "SPTR_log_test['Daily_Return'][0] = 0\n",
    "SPTR_log_test['Cumsum Daily_Return'] = SPTR_log_test['Daily_Return'].cumsum()\n",
    "\n",
    "portfolio_test['Daily_Return'] = portfolio_test['portf_forest'].diff()\n",
    "portfolio_test['Daily_Return'][0] = 0\n",
    "portfolio_test['Cumsum Daily_Return'] = portfolio_test['Daily_Return'].cumsum()\n",
    "\n",
    "portfolio_test['Daily_Return'].plot(kind='line',figsize=(20,5),label = 'annual rebalance portfolio cumsum return',style='r-')\n",
    "SPTR_log_test['Daily_Return'].loc[\"2014-01-01\": \"2017-12-31\"].plot(kind='line',figsize=(20,5),label = 'SPTR cumsum return',style='g-')\n",
    "plt.legend(loc='upper left')\n",
    "plt.xticks( pd.date_range(start='2014-1-01', end='2018-01-01', freq = 'M'))\n",
    "plt.title('Cumsum Return SPTR and Portfolio')\n",
    "plt.show()\n",
    "\n",
    "Track_error_annual = portfolio_test['Daily_Return'] - SPTR_log_test['Daily_Return']\n",
    "\n",
    "print('annual Tracking Error Variance is %.8f') %(np.var(Track_error_annual))\n",
    "\n",
    "print('Sum of square Tracking Error is %.8f') %(np.sum(Track_error_annual**2))\n",
    "\n",
    "print('Information ratio of the annual portfolio is %.3f')%(np.mean(Track_error_annual)/np.std(Track_error_annual))\n",
    "\n",
    "print('Annual Correlation coefficient between portfolio and SPTR is %.6f')%(\n",
    "    np.corrcoef(SPTR_log_test['Daily_Return'].values.flatten(),portfolio_test['Daily_Return'].values.flatten())[0,1])"
   ]
  },
  {
   "cell_type": "code",
   "execution_count": 247,
   "metadata": {},
   "outputs": [
    {
     "name": "stdout",
     "output_type": "stream",
     "text": [
      "year rebalance 2016 Correlation coefficient between portfolio and GSPC is 0.996080\n"
     ]
    }
   ],
   "source": [
    "print('year rebalance 2016 Correlation coefficient between portfolio and GSPC is %.6f')%(\n",
    "    np.corrcoef(SPTR_log_test.loc['2016-01-05':'2016-12-30','Daily_Return'].values.flatten(),\n",
    "                portfolio_test.loc['2016-01-05':'2016-12-30','Daily_Return'].values.flatten())[0,1])\n"
   ]
  },
  {
   "cell_type": "code",
   "execution_count": 246,
   "metadata": {},
   "outputs": [
    {
     "name": "stdout",
     "output_type": "stream",
     "text": [
      "for 2014\n",
      "year rebalance Correlation coefficient between portfolio and GSPC is 0.991406\n",
      "for 2015\n",
      "year rebalance Correlation coefficient between portfolio and GSPC is 0.994066\n",
      "for 2016\n",
      "year rebalance Correlation coefficient between portfolio and GSPC is 0.991236\n",
      "for 2017\n",
      "year rebalance Correlation coefficient between portfolio and GSPC is 0.978963\n"
     ]
    }
   ],
   "source": [
    "for i in range(2014,2018):\n",
    "    print 'for', i\n",
    "    print('year rebalance Correlation coefficient between portfolio and GSPC is %.6f')%(\n",
    "        np.corrcoef(SPTR_log_test.loc[str(i),'Daily_Return'].values.flatten(),\n",
    "                    portfolio_test_nobalance.loc[str(i),'Daily_Return'].values.flatten())[0,1])\n"
   ]
  },
  {
   "cell_type": "code",
   "execution_count": null,
   "metadata": {
    "collapsed": true
   },
   "outputs": [],
   "source": []
  },
  {
   "cell_type": "markdown",
   "metadata": {},
   "source": [
    "## SPTR semi-annual rebalance"
   ]
  },
  {
   "cell_type": "code",
   "execution_count": 220,
   "metadata": {
    "scrolled": false
   },
   "outputs": [
    {
     "name": "stdout",
     "output_type": "stream",
     "text": [
      "('original coeff greater than 0 is ', 11)\n",
      "('original coeff leass than 0 is ', 0)\n",
      "('original coeff equal to 0 is ', 40)\n",
      "\n",
      "\n",
      "for range in 2008 to2014-06-30 00:00:00\n",
      "('number of coeff greater than 0 is ', 11)\n",
      "('number of coeff leass than 0 is ', 0)\n",
      "('number of coeff equal to 0 is ', 0)\n",
      "p-value = 2.3324411227e-06 The series  is likely stationary.\n",
      "1th loop is good\n",
      "\n",
      "\n",
      "for range in 2008 to2014-12-31 00:00:00\n",
      "('number of coeff greater than 0 is ', 10)\n",
      "('number of coeff leass than 0 is ', 0)\n",
      "('number of coeff equal to 0 is ', 1)\n",
      "p-value = 5.848548407e-06 The series  is likely stationary.\n",
      "2th loop is good\n",
      "\n",
      "\n",
      "for range in 2008 to2015-06-30 00:00:00\n",
      "('number of coeff greater than 0 is ', 10)\n",
      "('number of coeff leass than 0 is ', 0)\n",
      "('number of coeff equal to 0 is ', 1)\n",
      "p-value = 3.73333025075e-06 The series  is likely stationary.\n",
      "3th loop is good\n",
      "\n",
      "\n",
      "for range in 2008 to2015-12-31 00:00:00\n",
      "('number of coeff greater than 0 is ', 11)\n",
      "('number of coeff leass than 0 is ', 0)\n",
      "('number of coeff equal to 0 is ', 0)\n",
      "p-value = 0.000763165624819 The series  is likely stationary.\n",
      "4th loop is good\n",
      "\n",
      "\n",
      "for range in 2008 to2016-06-30 00:00:00\n",
      "('number of coeff greater than 0 is ', 9)\n",
      "('number of coeff leass than 0 is ', 0)\n",
      "('number of coeff equal to 0 is ', 2)\n",
      "p-value = 0.000153031870049 The series  is likely stationary.\n",
      "5th loop is good\n",
      "\n",
      "\n",
      "for range in 2008 to2016-12-31 00:00:00\n",
      "('number of coeff greater than 0 is ', 9)\n",
      "('number of coeff leass than 0 is ', 0)\n",
      "('number of coeff equal to 0 is ', 2)\n",
      "p-value = 7.21345314447e-05 The series  is likely stationary.\n",
      "6th loop is good\n",
      "\n",
      "\n",
      "for range in 2008 to2017-06-30 00:00:00\n",
      "('number of coeff greater than 0 is ', 9)\n",
      "('number of coeff leass than 0 is ', 0)\n",
      "('number of coeff equal to 0 is ', 2)\n",
      "p-value = 6.38900138084e-05 The series  is likely stationary.\n",
      "7th loop is good\n"
     ]
    },
    {
     "data": {
      "image/png": "[encoded data removed]",
      "text/plain": [
       "<matplotlib.figure.Figure at 0x7f61843c7850>"
      ]
     },
     "metadata": {},
     "output_type": "display_data"
    },
    {
     "data": {
      "image/png": "[encoded data removed]",
      "text/plain": [
       "<matplotlib.figure.Figure at 0x7f6184606350>"
      ]
     },
     "metadata": {},
     "output_type": "display_data"
    },
    {
     "name": "stdout",
     "output_type": "stream",
     "text": [
      "semi Tracking Error Variance is 0.00000112\n",
      "Semi-annual information ratio of the annual portfolio is -0.055\n",
      "Semi-annual  Correlation coefficient between portfolio and SPTR is 0.991035\n"
     ]
    }
   ],
   "source": [
    "SPTR_log_train = SPTR_log.loc[\"2008-01\": \"2013-12-31\"].copy()\n",
    "\n",
    "All_ETFs_log_train = All_ETFs_log.loc[\"2008-01\": \"2013-12-31\"].copy()\n",
    "\n",
    "portfolio_test_semi = pd.DataFrame(0,columns=['portf_forest','portfolio_test_intercept'] ,index=SPTR_log.loc['2014':'2017'].index)  # this is to store the test data from ETFs\n",
    "\n",
    "LR_lasso_semi = Lasso(alpha=0.000131, fit_intercept=True,normalize=None)\n",
    "\n",
    "LR_lasso_semi.fit(All_ETFs_log_train,SPTR_log_train[['Adj Close']])\n",
    "\n",
    "print('original coeff greater than 0 is ',np.sum(LR_lasso_semi.coef_ > 0 ))\n",
    "print('original coeff leass than 0 is ' ,np.sum(LR_lasso_semi.coef_ < 0 ))\n",
    "print('original coeff equal to 0 is ',np.sum(LR_lasso_semi.coef_ == 0) )\n",
    "\n",
    "index_of_etfs = LR_lasso_semi.coef_ > 0 # these etfs are our portfolio etfs, we need those to build the portfolio,and to rebalance\n",
    "\n",
    "All_ETFs_log_semi = All_ETFs_log.loc[: , index_of_etfs] .copy()  # this contains all the etfs we used to build portfolio\n",
    "\n",
    "coefficients= LR_lasso_semi.coef_.copy()\n",
    "\n",
    "nonzero_coeff  = coefficients[~(coefficients==0)].copy()\n",
    "\n",
    "nonzero_coeff = nonzero_coeff/nonzero_coeff.sum()\n",
    "\n",
    "portfolio_test_semi.loc['20140101':'20140630','portf_forest'] = All_ETFs_log_semi.dot(nonzero_coeff).loc['20140101':'20140630'].copy()\n",
    "\n",
    "portfolio_test_semi.loc['20140101':'20140630','portfolio_test_intercept'] = portfolio_test_semi.loc['20140101':'20140630','portf_forest']+LR_lasso_semi.intercept_\n",
    "\n",
    "j = 0\n",
    "\n",
    "semi_dates_begin = pd.date_range(start='2014-07-01', end='2017-07-01', freq='6MS')\n",
    "\n",
    "semi_dates_end = pd.date_range(start='2014-06-30', end='2017-12-31', freq='6M',closed='right')\n",
    "\n",
    "for i in pd.date_range(start='2013-12-31', end='2017-06-30', freq='6M',closed='right'):\n",
    "    \n",
    "    Lasso_Model = Lasso(alpha=0.0001 , fit_intercept=True,normalize=None,positive =True)\n",
    "    \n",
    "    All_ETFs_log_train = All_ETFs_log_semi.loc['2008': i].copy()\n",
    "   \n",
    "    SPTR_log_train = SPTR_log.loc['2008': i].copy()\n",
    "    \n",
    "    Lasso_Model.fit(All_ETFs_log_train,SPTR_log_train[['Adj Close']])\n",
    "    \n",
    "    print('\\n\\nfor range in 2008 to'+str(i))\n",
    "    \n",
    "    print('number of coeff greater than 0 is ',np.sum(Lasso_Model.coef_ > 0 ))\n",
    "   \n",
    "    print('number of coeff leass than 0 is ' ,np.sum(Lasso_Model.coef_ < 0 ))\n",
    "    \n",
    "    print('number of coeff equal to 0 is ',np.sum(Lasso_Model.coef_ == 0) )\n",
    "    \n",
    "    Lasso_Model_residual = SPTR_log_train[['Adj Close']].values.flatten() - Lasso_Model.predict(All_ETFs_log_train)\n",
    "   \n",
    "    check_for_stationarity(Lasso_Model_residual.flatten(),cutoff=0.05)\n",
    "   \n",
    "    coefficients= Lasso_Model.coef_.copy()\n",
    "\n",
    "    coefficients = coefficients/coefficients.sum()\n",
    "    \n",
    "    portfolio_test_semi.loc[semi_dates_begin[j]:semi_dates_end[j],'portf_forest'] = All_ETFs_log_semi.dot(coefficients).loc[semi_dates_begin[j]:semi_dates_end[j]].copy()\n",
    "    \n",
    "    portfolio_test_semi.loc[semi_dates_begin[j]:semi_dates_end[j],'portfolio_test_intercept'] = portfolio_test_semi.loc[semi_dates_begin[j]:semi_dates_end[j],'portf_forest']+Lasso_Model.intercept_\n",
    "\n",
    "    \n",
    "    j+=1\n",
    "    \n",
    "    print('%sth loop is good'%(j))\n",
    "\n",
    "plt.figure(figsize=(25,8))\n",
    "plt.plot(SPTR_log_test.index,SPTR_log_test['Adj Close'], 'r-', label='Real data' )\n",
    "plt.plot(SPTR_log_test.index,portfolio_test_semi['portfolio_test_intercept'].loc[\"2014-01-01\": \"2017-12-31\"], 'g-', label='semi Portfolio' )\n",
    "plt.legend(loc='upper left')\n",
    "plt.title('Semi annaual Comparison between real SPTR and portfolio constructed on test data')\n",
    "plt.show()\n",
    " \n",
    "portfolio_test_semi['Daily_Return'] = portfolio_test_semi['portf_forest'].diff()\n",
    "portfolio_test_semi['Daily_Return'][0] = 0\n",
    "portfolio_test_semi['Cumsum Daily_Return'] = portfolio_test_semi['Daily_Return'].cumsum()\n",
    "\n",
    "portfolio_test_semi['Daily_Return'].plot(kind='line',figsize=(20,5),label = 'semi rebalance cumsum return',style='r-')\n",
    "SPTR_log_test['Daily_Return'].loc[\"2014-01-01\": \"2017-12-31\"].plot(kind='line',figsize=(20,5),label = 'SPTR cumsum return',style='g-')\n",
    "plt.legend(loc='upper left')\n",
    "plt.xticks( pd.date_range(start='2014-1-01', end='2018-01-01', freq = 'M'))\n",
    "plt.title('Semi-annual Cumsum Return SPTR and Portfolio')\n",
    "plt.show()\n",
    "\n",
    "Track_error_semi = portfolio_test_semi['Daily_Return'] - SPTR_log_test['Daily_Return']\n",
    "\n",
    "print('semi Tracking Error Variance is %.8f') %(np.var(Track_error_semi))\n",
    "\n",
    "np.sum(Track_error_semi**2)\n",
    "\n",
    "print('Semi-annual information ratio of the annual portfolio is %.3f')%(np.mean(Track_error_semi)/np.std(Track_error_semi))\n",
    "\n",
    "print('Semi-annual  Correlation coefficient between portfolio and SPTR is %.6f')%(\n",
    "    np.corrcoef(SPTR_log_test['Daily_Return'].values.flatten(),portfolio_test_semi['Daily_Return'].values.flatten())[0,1])"
   ]
  },
  {
   "cell_type": "code",
   "execution_count": null,
   "metadata": {
    "collapsed": true
   },
   "outputs": [],
   "source": []
  },
  {
   "cell_type": "code",
   "execution_count": null,
   "metadata": {
    "collapsed": true
   },
   "outputs": [],
   "source": []
  },
  {
   "cell_type": "code",
   "execution_count": null,
   "metadata": {
    "collapsed": true
   },
   "outputs": [],
   "source": []
  },
  {
   "cell_type": "markdown",
   "metadata": {},
   "source": [
    "## rebalance quarterly"
   ]
  },
  {
   "cell_type": "code",
   "execution_count": 226,
   "metadata": {
    "scrolled": true
   },
   "outputs": [
    {
     "name": "stdout",
     "output_type": "stream",
     "text": [
      "('original coeff greater than 0 is ', 8)\n",
      "('original coeff leass than 0 is ', 0)\n",
      "('original coeff equal to 0 is ', 43)\n",
      "\n",
      "\n",
      "for range in 2008 to2014-03-31 00:00:00\n",
      "('number of coeff greater than 0 is ', 7)\n",
      "('number of coeff leass than 0 is ', 0)\n",
      "('number of coeff equal to 0 is ', 1)\n",
      "p-value = 0.0003960016688 The series  is likely stationary.\n",
      "2th loop is good\n",
      "\n",
      "\n",
      "for range in 2008 to2014-06-30 00:00:00\n",
      "('number of coeff greater than 0 is ', 7)\n",
      "('number of coeff leass than 0 is ', 0)\n",
      "('number of coeff equal to 0 is ', 1)\n",
      "p-value = 0.0012270049485 The series  is likely stationary.\n",
      "3th loop is good\n",
      "\n",
      "\n",
      "for range in 2008 to2014-09-30 00:00:00\n",
      "('number of coeff greater than 0 is ', 7)\n",
      "('number of coeff leass than 0 is ', 0)\n",
      "('number of coeff equal to 0 is ', 1)\n",
      "p-value = 0.0100514250454 The series  is likely stationary.\n",
      "4th loop is good\n",
      "\n",
      "\n",
      "for range in 2008 to2014-12-31 00:00:00\n",
      "('number of coeff greater than 0 is ', 7)\n",
      "('number of coeff leass than 0 is ', 0)\n",
      "('number of coeff equal to 0 is ', 1)\n",
      "p-value = 0.0240115424894 The series  is likely stationary.\n",
      "5th loop is good\n",
      "\n",
      "\n",
      "for range in 2008 to2015-03-31 00:00:00\n",
      "('number of coeff greater than 0 is ', 7)\n",
      "('number of coeff leass than 0 is ', 0)\n",
      "('number of coeff equal to 0 is ', 1)\n",
      "p-value = 0.0034595090237 The series  is likely stationary.\n",
      "6th loop is good\n",
      "\n",
      "\n",
      "for range in 2008 to2015-06-30 00:00:00\n",
      "('number of coeff greater than 0 is ', 7)\n",
      "('number of coeff leass than 0 is ', 0)\n",
      "('number of coeff equal to 0 is ', 1)\n",
      "p-value = 0.00213327159361 The series  is likely stationary.\n",
      "7th loop is good\n",
      "\n",
      "\n",
      "for range in 2008 to2015-09-30 00:00:00\n",
      "('number of coeff greater than 0 is ', 7)\n",
      "('number of coeff leass than 0 is ', 0)\n",
      "('number of coeff equal to 0 is ', 1)\n",
      "p-value = 0.00563416967253 The series  is likely stationary.\n",
      "8th loop is good\n",
      "\n",
      "\n",
      "for range in 2008 to2015-12-31 00:00:00\n",
      "('number of coeff greater than 0 is ', 6)\n",
      "('number of coeff leass than 0 is ', 0)\n",
      "('number of coeff equal to 0 is ', 2)\n",
      "p-value = 0.00857637359667 The series  is likely stationary.\n",
      "9th loop is good\n",
      "\n",
      "\n",
      "for range in 2008 to2016-03-31 00:00:00\n",
      "('number of coeff greater than 0 is ', 6)\n",
      "('number of coeff leass than 0 is ', 0)\n",
      "('number of coeff equal to 0 is ', 2)\n",
      "p-value = 0.00323421512606 The series  is likely stationary.\n",
      "10th loop is good\n",
      "\n",
      "\n",
      "for range in 2008 to2016-06-30 00:00:00\n",
      "('number of coeff greater than 0 is ', 6)\n",
      "('number of coeff leass than 0 is ', 0)\n",
      "('number of coeff equal to 0 is ', 2)\n",
      "p-value = 0.000649765150642 The series  is likely stationary.\n",
      "11th loop is good\n",
      "\n",
      "\n",
      "for range in 2008 to2016-09-30 00:00:00\n",
      "('number of coeff greater than 0 is ', 5)\n",
      "('number of coeff leass than 0 is ', 0)\n",
      "('number of coeff equal to 0 is ', 3)\n",
      "p-value = 0.000470231251415 The series  is likely stationary.\n",
      "12th loop is good\n",
      "\n",
      "\n",
      "for range in 2008 to2016-12-31 00:00:00\n",
      "('number of coeff greater than 0 is ', 5)\n",
      "('number of coeff leass than 0 is ', 0)\n",
      "('number of coeff equal to 0 is ', 3)\n",
      "p-value = 0.000462624411045 The series  is likely stationary.\n",
      "13th loop is good\n",
      "\n",
      "\n",
      "for range in 2008 to2017-03-31 00:00:00\n",
      "('number of coeff greater than 0 is ', 5)\n",
      "('number of coeff leass than 0 is ', 0)\n",
      "('number of coeff equal to 0 is ', 3)\n",
      "p-value = 0.00412693477194 The series  is likely stationary.\n",
      "14th loop is good\n",
      "\n",
      "\n",
      "for range in 2008 to2017-06-30 00:00:00\n",
      "('number of coeff greater than 0 is ', 4)\n",
      "('number of coeff leass than 0 is ', 0)\n",
      "('number of coeff equal to 0 is ', 4)\n",
      "p-value = 0.00386985037518 The series  is likely stationary.\n",
      "15th loop is good\n",
      "\n",
      "\n",
      "for range in 2008 to2017-09-30 00:00:00\n",
      "('number of coeff greater than 0 is ', 4)\n",
      "('number of coeff leass than 0 is ', 0)\n",
      "('number of coeff equal to 0 is ', 4)\n",
      "p-value = 0.019421939137 The series  is likely stationary.\n",
      "16th loop is good\n"
     ]
    },
    {
     "data": {
      "image/png": "[encoded data removed]",
      "text/plain": [
       "<matplotlib.figure.Figure at 0x7f618434b210>"
      ]
     },
     "metadata": {},
     "output_type": "display_data"
    },
    {
     "data": {
      "image/png": "[encoded data removed]",
      "text/plain": [
       "<matplotlib.figure.Figure at 0x7f618453d550>"
      ]
     },
     "metadata": {},
     "output_type": "display_data"
    },
    {
     "name": "stdout",
     "output_type": "stream",
     "text": [
      "Quarter Tracking Error Variance is 0.00001886\n",
      "Quarter information ratio of the portfolio is 0.003\n",
      "Quarterly  Correlation coefficient between portfolio and SPTR is 0.890383\n"
     ]
    }
   ],
   "source": [
    "SPTR_log_train = SPTR_log.loc[\"2008-01\": \"2013-12-31\"].copy()\n",
    "\n",
    "All_ETFs_log_train = All_ETFs_log.loc[\"2008-01\": \"2013-12-31\"].copy()\n",
    "\n",
    "portfolio_test_quarter = pd.DataFrame(0,columns=['portf_forest','portfolio_test_intercept'] ,index=SPTR_log.loc['2014':'2017'].index)  # this is to store the test data from ETFs\n",
    "\n",
    "LR_lasso_quarter = Lasso(alpha=0.000891, fit_intercept=True,normalize=None)\n",
    "\n",
    "LR_lasso_quarter.fit(All_ETFs_log_train,SPTR_log_train[['Adj Close']])\n",
    "\n",
    "print('original coeff greater than 0 is ',np.sum(LR_lasso_quarter.coef_ > 0 ))\n",
    "print('original coeff leass than 0 is ' ,np.sum(LR_lasso_quarter.coef_ < 0 ))\n",
    "print('original coeff equal to 0 is ',np.sum(LR_lasso_quarter.coef_ == 0) )\n",
    "\n",
    "index_of_etfs = LR_lasso_quarter.coef_ > 0 # these etfs are our portfolio etfs, we need those to build the portfolio,and to rebalance\n",
    "\n",
    "All_ETFs_log_quarter = All_ETFs_log.loc[: , index_of_etfs] .copy()  # this contains all the etfs we used to build portfolio\n",
    "\n",
    "coefficients= LR_lasso_quarter.coef_.copy()\n",
    "\n",
    "nonzero_coeff  = coefficients[~(coefficients==0)].copy()\n",
    "\n",
    "nonzero_coeff = nonzero_coeff/nonzero_coeff.sum()\n",
    "\n",
    "portfolio_test_quarter.loc['2014Q1','portf_forest'] = All_ETFs_log_quarter.dot(nonzero_coeff).loc['2014Q1'].copy()\n",
    "\n",
    "portfolio_test_quarter.loc['2014Q1','portfolio_test_intercept'] = portfolio_test_quarter.loc['2014Q1','portf_forest']+LR_lasso_quarter.intercept_\n",
    "\n",
    "quarter_dates = [str(i)+j for i in range(2014,2018) for j in ['Q1','Q2','Q3','Q4']]\n",
    " \n",
    "j = 1\n",
    "\n",
    "\n",
    "for i in pd.date_range(start='2014Q1', end='2017Q4', freq='Q'):   \n",
    "    \n",
    "    Lasso_Model = Lasso(alpha=0.0001 , fit_intercept=True,normalize=None,positive =True)\n",
    "    \n",
    "    All_ETFs_log_train = All_ETFs_log_quarter.loc['2008': i].copy()\n",
    "   \n",
    "    SPTR_log_train = SPTR_log.loc['2008': i].copy()\n",
    "    \n",
    "    Lasso_Model.fit(All_ETFs_log_train,SPTR_log_train[['Adj Close']])\n",
    "    \n",
    "    print('\\n\\nfor range in 2008 to'+str(i))\n",
    "    \n",
    "    print('number of coeff greater than 0 is ',np.sum(Lasso_Model.coef_ > 0 ))\n",
    "   \n",
    "    print('number of coeff leass than 0 is ' ,np.sum(Lasso_Model.coef_ < 0 ))\n",
    "    \n",
    "    print('number of coeff equal to 0 is ',np.sum(Lasso_Model.coef_ == 0) )\n",
    "    \n",
    "    Lasso_Model_residual = SPTR_log_train[['Adj Close']].values.flatten() - Lasso_Model.predict(All_ETFs_log_train)\n",
    "   \n",
    "    check_for_stationarity(Lasso_Model_residual.flatten(),cutoff=0.05)\n",
    "   \n",
    "    coefficients= Lasso_Model.coef_.copy()\n",
    "\n",
    "    coefficients = coefficients/coefficients.sum()\n",
    "    \n",
    "    portfolio_test_quarter.loc[quarter_dates[j],'portf_forest'] = All_ETFs_log_quarter.dot(coefficients).loc[quarter_dates[j]].copy()\n",
    "    \n",
    "    portfolio_test_quarter.loc[quarter_dates[j],'portfolio_test_intercept'] = portfolio_test_quarter.loc[quarter_dates[j],'portf_forest']+Lasso_Model.intercept_\n",
    "\n",
    "    j+=1\n",
    "    \n",
    "    print('%sth loop is good'%(j))\n",
    " \n",
    "\n",
    "\n",
    "plt.figure(figsize=(25,8))\n",
    "plt.plot(SPTR_log_test.index,SPTR_log_test['Adj Close'], 'r-', label='Real data' )\n",
    "plt.plot(SPTR_log_test.index,portfolio_test_quarter['portfolio_test_intercept'].loc[\"2014-01-01\": \"2017-12-31\"], 'g-', label='quarter Portfolio' )\n",
    "plt.legend(loc='upper left')\n",
    "plt.title('Comparison between real S&P500 and portfolio constructed on test data')\n",
    "plt.show()\n",
    "\n",
    "portfolio_test_quarter['Daily_Return'] = portfolio_test_quarter['portf_forest'].diff()\n",
    "portfolio_test_quarter['Daily_Return'][0] = 0\n",
    "portfolio_test_quarter['Cumsum Daily_Return'] = portfolio_test_quarter['Daily_Return'].cumsum()\n",
    "\n",
    "portfolio_test_quarter['Daily_Return'].plot(kind='line',figsize=(20,5),label = 'quarterly rebalance portfolio cumsum return',style='r-')\n",
    "SPTR_log_test['Daily_Return'].loc[\"2014-01-01\": \"2017-12-31\"].plot(kind='line',figsize=(20,5),label = 'SPTR cumsum return',style='g-')\n",
    "plt.legend(loc='upper left')\n",
    "plt.xticks( pd.date_range(start='2014-1-01', end='2018-01-01', freq = 'M'))\n",
    "plt.title('Quarterly Cumsum Return SPTR and Portfolio')\n",
    "plt.show()\n",
    "\n",
    "Track_error_quarter = portfolio_test_quarter['Daily_Return'] - SPTR_log_test['Daily_Return']\n",
    "\n",
    "print('Quarter Tracking Error Variance is %.8f') %(np.var(Track_error_quarter))\n",
    "\n",
    "np.sum(Track_error_quarter**2)\n",
    "\n",
    "print('Quarter information ratio of the portfolio is %.3f')%(np.mean(Track_error_quarter)/np.std(Track_error_quarter))\n",
    "\n",
    "print('Quarterly  Correlation coefficient between portfolio and SPTR is %.6f')%(\n",
    "    np.corrcoef(SPTR_log_test['Daily_Return'].values.flatten(),portfolio_test_quarter['Daily_Return'].values.flatten())[0,1])\n"
   ]
  },
  {
   "cell_type": "code",
   "execution_count": null,
   "metadata": {
    "collapsed": true
   },
   "outputs": [],
   "source": []
  },
  {
   "cell_type": "code",
   "execution_count": null,
   "metadata": {
    "collapsed": true
   },
   "outputs": [],
   "source": []
  },
  {
   "cell_type": "code",
   "execution_count": null,
   "metadata": {
    "collapsed": true
   },
   "outputs": [],
   "source": []
  },
  {
   "cell_type": "code",
   "execution_count": null,
   "metadata": {
    "collapsed": true
   },
   "outputs": [],
   "source": []
  },
  {
   "cell_type": "code",
   "execution_count": null,
   "metadata": {
    "collapsed": true
   },
   "outputs": [],
   "source": []
  },
  {
   "cell_type": "code",
   "execution_count": 60,
   "metadata": {
    "collapsed": true
   },
   "outputs": [],
   "source": [
    "def check_for_stationarity(X, cutoff=0.01):\n",
    "    # H_0 in adfuller is unit root exists (non-stationary)\n",
    "    # We must observe significant p-value to convince ourselves that the series is stationary\n",
    "    pvalue = ADF(X)[1]\n",
    "    if pvalue < cutoff:\n",
    "        print 'p-value = ' + str(pvalue) + ' The series '  +' is likely stationary.'\n",
    "        #return True\n",
    "    else:\n",
    "        print 'p-value = ' + str(pvalue) + ' The series '+' is likely non-stationary.'\n",
    "        #return False"
   ]
  },
  {
   "cell_type": "code",
   "execution_count": 105,
   "metadata": {
    "collapsed": true
   },
   "outputs": [],
   "source": [
    "def check_for_stationarity_no_print(X, cutoff=0.01):\n",
    "    # H_0 in adfuller is unit root exists (non-stationary)\n",
    "    # We must observe significant p-value to convince ourselves that the series is stationary\n",
    "    pvalue = ADF(X)[1]\n",
    "    if pvalue < cutoff:\n",
    "        #print 'p-value = ' + str(pvalue) + ' The series '  +' is likely stationary.'\n",
    "        return True\n",
    "    else:\n",
    "        #print 'p-value = ' + str(pvalue) + ' The series '+' is likely non-stationary.'\n",
    "        return False"
   ]
  }
 ],
 "metadata": {
  "kernelspec": {
   "display_name": "Python 2",
   "language": "python",
   "name": "python2"
  },
  "language_info": {
   "codemirror_mode": {
    "name": "ipython",
    "version": 2
   },
   "file_extension": ".py",
   "mimetype": "text/x-python",
   "name": "python",
   "nbconvert_exporter": "python",
   "pygments_lexer": "ipython2",
   "version": "2.7.14"
  }
 },
 "nbformat": 4,
 "nbformat_minor": 2
}
